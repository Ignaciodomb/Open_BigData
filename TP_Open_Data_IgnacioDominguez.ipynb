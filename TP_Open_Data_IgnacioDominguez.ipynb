{
  "nbformat": 4,
  "nbformat_minor": 0,
  "metadata": {
    "colab": {
      "provenance": []
    },
    "kernelspec": {
      "name": "python3",
      "display_name": "Python 3"
    },
    "language_info": {
      "name": "python"
    }
  },
  "cells": [
    {
      "cell_type": "markdown",
      "source": [
        "# Exploración de Datos Abiertos en Paraguay"
      ],
      "metadata": {
        "id": "eQziGvTxitly"
      }
    },
    {
      "cell_type": "markdown",
      "source": [
        "## Introducción"
      ],
      "metadata": {
        "id": "MHf924NDZnqu"
      }
    },
    {
      "cell_type": "markdown",
      "source": [
        "En este trabajo práctico, nos enfocaremos en el uso y la exploración de datos abiertos en Paraguay, con el objetivo de adquirir experiencia práctica en el manejo de conjuntos de datos públicos. Los datos abiertos son aquellos que están disponibles para el acceso y uso público, y pueden ser utilizados para analizar, visualizar e investigar diversos aspectos de interés en diferentes campos."
      ],
      "metadata": {
        "id": "VaCnHDzbZrpn"
      }
    },
    {
      "cell_type": "markdown",
      "source": [
        "## ¿Qué son los datos abiertos y por qué son importantes en el contexto de Paraguay?"
      ],
      "metadata": {
        "id": "BA0F4n-ni3W7"
      }
    },
    {
      "cell_type": "markdown",
      "source": [
        "Los datos abiertos es la información que está disponible para todo el público y accesible para cualquier persona, sin ninguna restricción de uso. Estos datos suelen estar en formato digital y estructurados, lo que lo hace de fácil acceso y con la posibilidad de reutilizarlos y redistribuirlos por parte de los usuarios. En Paraguay como en otras partes del mundo los datos abiertos son importantes para la transparencia que brindan ya que son accesibles para los ciudadanos y por ende analizables para encontrar información importante del funcionamiento del gobierno, presupuestos, proyectos y otros temas relevantes del gobierno. También es importante porque fomenta la participación de la ciudadanía ya que entenderán mejor la situación y los problemas del gobierno y de su sociedad como para poder actuar ante las adversidades de una mejor manera. Impulsa a la innovación y emprendedores para analizar los datos y así desarrollar sus servicios o aplicaciones con conocimiento del mercado y las oportunidades. Mejora la investigación y educación en la parte académica y científica de diversas disciplinas."
      ],
      "metadata": {
        "id": "rr7CJOZIi_mo"
      }
    },
    {
      "cell_type": "markdown",
      "source": [
        "## Beneficios y oportunidades que ofrecen los datos abiertos para la sociedad y el sector de la informática."
      ],
      "metadata": {
        "id": "e1taPSo-jIi5"
      }
    },
    {
      "cell_type": "markdown",
      "source": [
        "Algunos beneficios para la sociedad son algunos ya mencionados previamente como la transparencia, la participación de la ciudadanía, la innovación  y desarrollo de emprendedores. Y en el sector de la informática trae oportunidades como mejores desarrollos de aplicaciones y servicios, fomenta colaboración y cooperación entre los profesionales de informática ya que pueden compartir los datos, códigos y hasta el conocimiento para mejorar la calidad de los productos.  También ofrecen oportunidades de aprendizaje ya que pueden usar los datos para adquirir experiencia por ejemplo analizando datos, y eso mejora los conocimientos y las habilidades de las personas.\n"
      ],
      "metadata": {
        "id": "yth1ewr4jN1I"
      }
    },
    {
      "cell_type": "markdown",
      "source": [
        "## Investigar y proporcionar una lista de fuentes de datos abiertos relevantes en Paraguay"
      ],
      "metadata": {
        "id": "2CAQpZ9ZjSzc"
      }
    },
    {
      "cell_type": "markdown",
      "source": [
        "Portal de datos abiertos del gobierno, es donde se encuentran muchos conjuntos de datos como presupuestos, educación, salud, transporte, medio ambiente, etc. El link es https://www.datos.gov.py/. Después está el portal de contrataciones públicas que cuenta con los presupuestos, licitaciones, planificaciones y más. El link es https://www.contrataciones.gov.py/. El ministerio de hacienda también cuenta con datos abiertos, cuenta con presupuesto, deuda, monto ejecutado y más información relevante. El link es https://datos.hacienda.gov.py/. El INE, instituto nacional de encuestas cuenta con las encuestas sobre la ciudadanía, ingreso familiar, cantidad poblacional, índice de pobreza, tasas y más. El link es https://www.ine.gov.py/datos/encuestas/eph/. Estos son los cuatro links con datos más interesantes."
      ],
      "metadata": {
        "id": "jmq-DIUvzHST"
      }
    },
    {
      "cell_type": "markdown",
      "source": [
        "## Los conjuntos de datos para utilizar en el resto del trabajo práctico."
      ],
      "metadata": {
        "id": "NeJWK4sTnSty"
      }
    },
    {
      "cell_type": "markdown",
      "source": [
        "Para este trabajo se obtuvieron las bases de datos de todas la universidades e instituciones educacionales del Paraguay y la base de datos de todos los egresados del Paraguay, con el fin de analizar puntos relevantes e interesantes de nuestro sistema educativo."
      ],
      "metadata": {
        "id": "7TsdKamynWuF"
      }
    },
    {
      "cell_type": "markdown",
      "source": [
        "## Descarga y preparación de datos"
      ],
      "metadata": {
        "id": "oNK92ALunqLC"
      }
    },
    {
      "cell_type": "markdown",
      "source": [
        "En el siguiente link podemos encontrar una lista de varios datasets, incluyendo las dos seleccionadas para el analisis, https://datos.mec.gov.py/data."
      ],
      "metadata": {
        "id": "PRnwDX7onseb"
      }
    },
    {
      "cell_type": "markdown",
      "source": [
        "## Limpieza y preparación de datos"
      ],
      "metadata": {
        "id": "6kw82t8coE6b"
      }
    },
    {
      "cell_type": "code",
      "source": [
        "import pandas as pd\n",
        "import numpy as np\n",
        "import seaborn as sns\n",
        "from unidecode import unidecode\n",
        "import re\n",
        "import matplotlib.pyplot as plt"
      ],
      "metadata": {
        "id": "s2n_GVvA70Eg"
      },
      "execution_count": 4,
      "outputs": []
    },
    {
      "cell_type": "code",
      "source": [
        "pip install unidecode"
      ],
      "metadata": {
        "id": "xETtmsSkJDsN",
        "colab": {
          "base_uri": "https://localhost:8080/"
        },
        "outputId": "7f3434be-165e-4bae-a75f-72d0955cc4b5"
      },
      "execution_count": 3,
      "outputs": [
        {
          "output_type": "stream",
          "name": "stdout",
          "text": [
            "Looking in indexes: https://pypi.org/simple, https://us-python.pkg.dev/colab-wheels/public/simple/\n",
            "Collecting unidecode\n",
            "  Downloading Unidecode-1.3.6-py3-none-any.whl (235 kB)\n",
            "\u001b[2K     \u001b[90m━━━━━━━━━━━━━━━━━━━━━━━━━━━━━━━━━━━━━━━\u001b[0m \u001b[32m235.9/235.9 kB\u001b[0m \u001b[31m4.4 MB/s\u001b[0m eta \u001b[36m0:00:00\u001b[0m\n",
            "\u001b[?25hInstalling collected packages: unidecode\n",
            "Successfully installed unidecode-1.3.6\n"
          ]
        }
      ]
    },
    {
      "cell_type": "code",
      "execution_count": 6,
      "metadata": {
        "id": "vt938kWJ6a_X",
        "colab": {
          "base_uri": "https://localhost:8080/",
          "height": 74
        },
        "outputId": "6df47525-1f29-4fa9-804a-e45ffcfa54f1"
      },
      "outputs": [
        {
          "output_type": "display_data",
          "data": {
            "text/plain": [
              "<IPython.core.display.HTML object>"
            ],
            "text/html": [
              "\n",
              "     <input type=\"file\" id=\"files-a321c53e-5778-46d1-ae0b-3f67fc5dd631\" name=\"files[]\" multiple disabled\n",
              "        style=\"border:none\" />\n",
              "     <output id=\"result-a321c53e-5778-46d1-ae0b-3f67fc5dd631\">\n",
              "      Upload widget is only available when the cell has been executed in the\n",
              "      current browser session. Please rerun this cell to enable.\n",
              "      </output>\n",
              "      <script>// Copyright 2017 Google LLC\n",
              "//\n",
              "// Licensed under the Apache License, Version 2.0 (the \"License\");\n",
              "// you may not use this file except in compliance with the License.\n",
              "// You may obtain a copy of the License at\n",
              "//\n",
              "//      http://www.apache.org/licenses/LICENSE-2.0\n",
              "//\n",
              "// Unless required by applicable law or agreed to in writing, software\n",
              "// distributed under the License is distributed on an \"AS IS\" BASIS,\n",
              "// WITHOUT WARRANTIES OR CONDITIONS OF ANY KIND, either express or implied.\n",
              "// See the License for the specific language governing permissions and\n",
              "// limitations under the License.\n",
              "\n",
              "/**\n",
              " * @fileoverview Helpers for google.colab Python module.\n",
              " */\n",
              "(function(scope) {\n",
              "function span(text, styleAttributes = {}) {\n",
              "  const element = document.createElement('span');\n",
              "  element.textContent = text;\n",
              "  for (const key of Object.keys(styleAttributes)) {\n",
              "    element.style[key] = styleAttributes[key];\n",
              "  }\n",
              "  return element;\n",
              "}\n",
              "\n",
              "// Max number of bytes which will be uploaded at a time.\n",
              "const MAX_PAYLOAD_SIZE = 100 * 1024;\n",
              "\n",
              "function _uploadFiles(inputId, outputId) {\n",
              "  const steps = uploadFilesStep(inputId, outputId);\n",
              "  const outputElement = document.getElementById(outputId);\n",
              "  // Cache steps on the outputElement to make it available for the next call\n",
              "  // to uploadFilesContinue from Python.\n",
              "  outputElement.steps = steps;\n",
              "\n",
              "  return _uploadFilesContinue(outputId);\n",
              "}\n",
              "\n",
              "// This is roughly an async generator (not supported in the browser yet),\n",
              "// where there are multiple asynchronous steps and the Python side is going\n",
              "// to poll for completion of each step.\n",
              "// This uses a Promise to block the python side on completion of each step,\n",
              "// then passes the result of the previous step as the input to the next step.\n",
              "function _uploadFilesContinue(outputId) {\n",
              "  const outputElement = document.getElementById(outputId);\n",
              "  const steps = outputElement.steps;\n",
              "\n",
              "  const next = steps.next(outputElement.lastPromiseValue);\n",
              "  return Promise.resolve(next.value.promise).then((value) => {\n",
              "    // Cache the last promise value to make it available to the next\n",
              "    // step of the generator.\n",
              "    outputElement.lastPromiseValue = value;\n",
              "    return next.value.response;\n",
              "  });\n",
              "}\n",
              "\n",
              "/**\n",
              " * Generator function which is called between each async step of the upload\n",
              " * process.\n",
              " * @param {string} inputId Element ID of the input file picker element.\n",
              " * @param {string} outputId Element ID of the output display.\n",
              " * @return {!Iterable<!Object>} Iterable of next steps.\n",
              " */\n",
              "function* uploadFilesStep(inputId, outputId) {\n",
              "  const inputElement = document.getElementById(inputId);\n",
              "  inputElement.disabled = false;\n",
              "\n",
              "  const outputElement = document.getElementById(outputId);\n",
              "  outputElement.innerHTML = '';\n",
              "\n",
              "  const pickedPromise = new Promise((resolve) => {\n",
              "    inputElement.addEventListener('change', (e) => {\n",
              "      resolve(e.target.files);\n",
              "    });\n",
              "  });\n",
              "\n",
              "  const cancel = document.createElement('button');\n",
              "  inputElement.parentElement.appendChild(cancel);\n",
              "  cancel.textContent = 'Cancel upload';\n",
              "  const cancelPromise = new Promise((resolve) => {\n",
              "    cancel.onclick = () => {\n",
              "      resolve(null);\n",
              "    };\n",
              "  });\n",
              "\n",
              "  // Wait for the user to pick the files.\n",
              "  const files = yield {\n",
              "    promise: Promise.race([pickedPromise, cancelPromise]),\n",
              "    response: {\n",
              "      action: 'starting',\n",
              "    }\n",
              "  };\n",
              "\n",
              "  cancel.remove();\n",
              "\n",
              "  // Disable the input element since further picks are not allowed.\n",
              "  inputElement.disabled = true;\n",
              "\n",
              "  if (!files) {\n",
              "    return {\n",
              "      response: {\n",
              "        action: 'complete',\n",
              "      }\n",
              "    };\n",
              "  }\n",
              "\n",
              "  for (const file of files) {\n",
              "    const li = document.createElement('li');\n",
              "    li.append(span(file.name, {fontWeight: 'bold'}));\n",
              "    li.append(span(\n",
              "        `(${file.type || 'n/a'}) - ${file.size} bytes, ` +\n",
              "        `last modified: ${\n",
              "            file.lastModifiedDate ? file.lastModifiedDate.toLocaleDateString() :\n",
              "                                    'n/a'} - `));\n",
              "    const percent = span('0% done');\n",
              "    li.appendChild(percent);\n",
              "\n",
              "    outputElement.appendChild(li);\n",
              "\n",
              "    const fileDataPromise = new Promise((resolve) => {\n",
              "      const reader = new FileReader();\n",
              "      reader.onload = (e) => {\n",
              "        resolve(e.target.result);\n",
              "      };\n",
              "      reader.readAsArrayBuffer(file);\n",
              "    });\n",
              "    // Wait for the data to be ready.\n",
              "    let fileData = yield {\n",
              "      promise: fileDataPromise,\n",
              "      response: {\n",
              "        action: 'continue',\n",
              "      }\n",
              "    };\n",
              "\n",
              "    // Use a chunked sending to avoid message size limits. See b/62115660.\n",
              "    let position = 0;\n",
              "    do {\n",
              "      const length = Math.min(fileData.byteLength - position, MAX_PAYLOAD_SIZE);\n",
              "      const chunk = new Uint8Array(fileData, position, length);\n",
              "      position += length;\n",
              "\n",
              "      const base64 = btoa(String.fromCharCode.apply(null, chunk));\n",
              "      yield {\n",
              "        response: {\n",
              "          action: 'append',\n",
              "          file: file.name,\n",
              "          data: base64,\n",
              "        },\n",
              "      };\n",
              "\n",
              "      let percentDone = fileData.byteLength === 0 ?\n",
              "          100 :\n",
              "          Math.round((position / fileData.byteLength) * 100);\n",
              "      percent.textContent = `${percentDone}% done`;\n",
              "\n",
              "    } while (position < fileData.byteLength);\n",
              "  }\n",
              "\n",
              "  // All done.\n",
              "  yield {\n",
              "    response: {\n",
              "      action: 'complete',\n",
              "    }\n",
              "  };\n",
              "}\n",
              "\n",
              "scope.google = scope.google || {};\n",
              "scope.google.colab = scope.google.colab || {};\n",
              "scope.google.colab._files = {\n",
              "  _uploadFiles,\n",
              "  _uploadFilesContinue,\n",
              "};\n",
              "})(self);\n",
              "</script> "
            ]
          },
          "metadata": {}
        },
        {
          "output_type": "stream",
          "name": "stdout",
          "text": [
            "Saving registros_titulos 2.csv to registros_titulos 2.csv\n"
          ]
        }
      ],
      "source": [
        "from google.colab import files\n",
        "uploaded = files.upload()"
      ]
    },
    {
      "cell_type": "markdown",
      "source": [
        "### Data Frame de las carreras disponibles"
      ],
      "metadata": {
        "id": "BcRdulyvfh3A"
      }
    },
    {
      "cell_type": "code",
      "source": [
        "df = pd.read_csv(\"carreras.csv\", sep=',')"
      ],
      "metadata": {
        "id": "ctld-6ysBUoR"
      },
      "execution_count": 7,
      "outputs": []
    },
    {
      "cell_type": "code",
      "source": [
        "df.info()"
      ],
      "metadata": {
        "colab": {
          "base_uri": "https://localhost:8080/"
        },
        "id": "-6hIhFhk8fWp",
        "outputId": "dc376387-3b9c-45d1-de28-ba6610b5b96f"
      },
      "execution_count": 8,
      "outputs": [
        {
          "output_type": "stream",
          "name": "stdout",
          "text": [
            "<class 'pandas.core.frame.DataFrame'>\n",
            "RangeIndex: 12440 entries, 0 to 12439\n",
            "Data columns (total 23 columns):\n",
            " #   Column                          Non-Null Count  Dtype  \n",
            "---  ------                          --------------  -----  \n",
            " 0   nombre_institucion              12440 non-null  object \n",
            " 1   codigo_institucion              12440 non-null  object \n",
            " 2   tipo_institucion                12440 non-null  object \n",
            " 3   tipo_gestion                    12414 non-null  object \n",
            " 4   codigo_departamento             12440 non-null  int64  \n",
            " 5   departamento                    12440 non-null  object \n",
            " 6   codigo_distrito                 12183 non-null  float64\n",
            " 7   distrito                        12440 non-null  object \n",
            " 8   codigo_establecimiento          12436 non-null  object \n",
            " 9   establecimiento                 12440 non-null  object \n",
            " 10  carrera_institucion_id          12440 non-null  int64  \n",
            " 11  codigo_oferta                   12440 non-null  object \n",
            " 12  codigo_carrera                  12440 non-null  int64  \n",
            " 13  denominacion_carrera            12440 non-null  object \n",
            " 14  denominacion_titulo             12440 non-null  object \n",
            " 15  nivel_titulacion                12440 non-null  object \n",
            " 16  enfasis_id                      1347 non-null   float64\n",
            " 17  enfasis_carrera                 1347 non-null   object \n",
            " 18  modalidad_asistencia            12233 non-null  object \n",
            " 19  clasificacion_campo_detallado   7124 non-null   object \n",
            " 20  clasificacion_campo_especifico  7123 non-null   object \n",
            " 21  clasificacion_campo_amplio      7123 non-null   object \n",
            " 22  activa                          12440 non-null  object \n",
            "dtypes: float64(2), int64(3), object(18)\n",
            "memory usage: 2.2+ MB\n"
          ]
        }
      ]
    },
    {
      "cell_type": "code",
      "source": [
        "df.head()"
      ],
      "metadata": {
        "id": "u5HBVcGFT0oL",
        "colab": {
          "base_uri": "https://localhost:8080/",
          "height": 577
        },
        "outputId": "b0cc3f8f-6540-4b6b-aff3-5d7764cef919"
      },
      "execution_count": 9,
      "outputs": [
        {
          "output_type": "execute_result",
          "data": {
            "text/plain": [
              "                                  nombre_institucion codigo_institucion  \\\n",
              "0      INSTITUTO TÉCNICO SUPERIOR SANTA ROSA MÍSTICA            *325430   \n",
              "1  UNIVERSIDAD CATÓLICA NUESTRA SEÑORA DE LA ASUN...            *316826   \n",
              "2             INSTITUTO TÉCNICO SUPERIOR DEL ROSARIO            *326333   \n",
              "3          INSTITUTO TÉCNICO SUPERIOR DE AERONÁUTICA            *319210   \n",
              "4   INSTITUTO DE FORMACION DOCENTE DE CORONEL OVIEDO            *318638   \n",
              "\n",
              "                 tipo_institucion tipo_gestion  codigo_departamento  \\\n",
              "0      Instituto Técnico Superior      Privado                    1   \n",
              "1                     Universidad      Privado                    4   \n",
              "2      Instituto Técnico Superior      Privado                    7   \n",
              "3      Instituto Técnico Superior      Oficial                   11   \n",
              "4  Instituto de Formación Docente      Oficial                    5   \n",
              "\n",
              "  departamento  codigo_distrito        distrito codigo_establecimiento  \\\n",
              "0   Concepción              1.0      Concepción                *234241   \n",
              "1       Guairá              1.0      Villarrica                *210015   \n",
              "2       Itapúa             17.0        Obligado                *235201   \n",
              "3      Central              9.0           Luque                *227025   \n",
              "4     Caaguazú              1.0  Coronel Oviedo                *226453   \n",
              "\n",
              "                                     establecimiento  ...  \\\n",
              "0  INSTITUTO TÉCNICO SUPERIOR SANTA ROSA MÍSTICA ...  ...   \n",
              "1  UNIVERSIDAD CATÓLICA NUESTRA SEÑORA DE LA ASUN...  ...   \n",
              "2             INSTITUTO TÉCNICO SUPERIOR DEL ROSARIO  ...   \n",
              "3          INSTITUTO TÉCNICO SUPERIOR DE AERONÁUTICA  ...   \n",
              "4  INSTITUTO DE FORMACION DOCENTE DE CORONEL OVIE...  ...   \n",
              "\n",
              "                                denominacion_carrera  \\\n",
              "0         TECNICATURA EN ADMINISTRACION HOSPITALARIA   \n",
              "1                          CONTADOR PUBLICO NACIONAL   \n",
              "2                                       AGRONEGOCIOS   \n",
              "3               INTERPRETE DE INSTRUMENTOS MUSICALES   \n",
              "4  Profesorado de Educación Escolar Básica para e...   \n",
              "\n",
              "                                 denominacion_titulo  \\\n",
              "0                                          DIPLOMADO   \n",
              "1                       CONTADOR(A) PUBLICO NACIONAL   \n",
              "2                   TÉCNICO SUPERIOR EN AGRONEGOCIOS   \n",
              "3  TECNICO SUPERIOR EN INTERPRETE DE INSTRUMENTOS...   \n",
              "4  Profesor de Educación Escolar Básica para el 1...   \n",
              "\n",
              "                                    nivel_titulacion enfasis_id  \\\n",
              "0  Educación de Pre-grado - Educación Técnica Sup...        NaN   \n",
              "1                                 Educación de Grado        NaN   \n",
              "2  Educación de Pre-Grado - Educación Técnica Sup...        NaN   \n",
              "3  Educación de Pre-Grado - Educación Técnica Sup...        NaN   \n",
              "4  Educación de Pre-Grado (Formación Docente Inic...        NaN   \n",
              "\n",
              "  enfasis_carrera modalidad_asistencia    clasificacion_campo_detallado  \\\n",
              "0             NaN           Presencial                              NaN   \n",
              "1             NaN           Presencial        Contabilidad  e impuestos   \n",
              "2             NaN           Presencial  Producción agrícola y ganadera    \n",
              "3             NaN           Presencial         Música y artes escénicas   \n",
              "4             NaN           Presencial                              NaN   \n",
              "\n",
              "         clasificacion_campo_especifico  \\\n",
              "0                                   NaN   \n",
              "1  Educación comercial y administración   \n",
              "2                           Agricultura   \n",
              "3                                 Artes   \n",
              "4                                   NaN   \n",
              "\n",
              "                       clasificacion_campo_amplio activa  \n",
              "0                                             NaN     SI  \n",
              "1            Administración de empresas y derecho     SI  \n",
              "2  Agricultura, silvicultura, pesca y veterinaria     SI  \n",
              "3                             Artes y humanidades     SI  \n",
              "4                                             NaN     SI  \n",
              "\n",
              "[5 rows x 23 columns]"
            ],
            "text/html": [
              "\n",
              "  <div id=\"df-ca8a47db-f3a3-466e-8d50-7abde1a48911\">\n",
              "    <div class=\"colab-df-container\">\n",
              "      <div>\n",
              "<style scoped>\n",
              "    .dataframe tbody tr th:only-of-type {\n",
              "        vertical-align: middle;\n",
              "    }\n",
              "\n",
              "    .dataframe tbody tr th {\n",
              "        vertical-align: top;\n",
              "    }\n",
              "\n",
              "    .dataframe thead th {\n",
              "        text-align: right;\n",
              "    }\n",
              "</style>\n",
              "<table border=\"1\" class=\"dataframe\">\n",
              "  <thead>\n",
              "    <tr style=\"text-align: right;\">\n",
              "      <th></th>\n",
              "      <th>nombre_institucion</th>\n",
              "      <th>codigo_institucion</th>\n",
              "      <th>tipo_institucion</th>\n",
              "      <th>tipo_gestion</th>\n",
              "      <th>codigo_departamento</th>\n",
              "      <th>departamento</th>\n",
              "      <th>codigo_distrito</th>\n",
              "      <th>distrito</th>\n",
              "      <th>codigo_establecimiento</th>\n",
              "      <th>establecimiento</th>\n",
              "      <th>...</th>\n",
              "      <th>denominacion_carrera</th>\n",
              "      <th>denominacion_titulo</th>\n",
              "      <th>nivel_titulacion</th>\n",
              "      <th>enfasis_id</th>\n",
              "      <th>enfasis_carrera</th>\n",
              "      <th>modalidad_asistencia</th>\n",
              "      <th>clasificacion_campo_detallado</th>\n",
              "      <th>clasificacion_campo_especifico</th>\n",
              "      <th>clasificacion_campo_amplio</th>\n",
              "      <th>activa</th>\n",
              "    </tr>\n",
              "  </thead>\n",
              "  <tbody>\n",
              "    <tr>\n",
              "      <th>0</th>\n",
              "      <td>INSTITUTO TÉCNICO SUPERIOR SANTA ROSA MÍSTICA</td>\n",
              "      <td>*325430</td>\n",
              "      <td>Instituto Técnico Superior</td>\n",
              "      <td>Privado</td>\n",
              "      <td>1</td>\n",
              "      <td>Concepción</td>\n",
              "      <td>1.0</td>\n",
              "      <td>Concepción</td>\n",
              "      <td>*234241</td>\n",
              "      <td>INSTITUTO TÉCNICO SUPERIOR SANTA ROSA MÍSTICA ...</td>\n",
              "      <td>...</td>\n",
              "      <td>TECNICATURA EN ADMINISTRACION HOSPITALARIA</td>\n",
              "      <td>DIPLOMADO</td>\n",
              "      <td>Educación de Pre-grado - Educación Técnica Sup...</td>\n",
              "      <td>NaN</td>\n",
              "      <td>NaN</td>\n",
              "      <td>Presencial</td>\n",
              "      <td>NaN</td>\n",
              "      <td>NaN</td>\n",
              "      <td>NaN</td>\n",
              "      <td>SI</td>\n",
              "    </tr>\n",
              "    <tr>\n",
              "      <th>1</th>\n",
              "      <td>UNIVERSIDAD CATÓLICA NUESTRA SEÑORA DE LA ASUN...</td>\n",
              "      <td>*316826</td>\n",
              "      <td>Universidad</td>\n",
              "      <td>Privado</td>\n",
              "      <td>4</td>\n",
              "      <td>Guairá</td>\n",
              "      <td>1.0</td>\n",
              "      <td>Villarrica</td>\n",
              "      <td>*210015</td>\n",
              "      <td>UNIVERSIDAD CATÓLICA NUESTRA SEÑORA DE LA ASUN...</td>\n",
              "      <td>...</td>\n",
              "      <td>CONTADOR PUBLICO NACIONAL</td>\n",
              "      <td>CONTADOR(A) PUBLICO NACIONAL</td>\n",
              "      <td>Educación de Grado</td>\n",
              "      <td>NaN</td>\n",
              "      <td>NaN</td>\n",
              "      <td>Presencial</td>\n",
              "      <td>Contabilidad  e impuestos</td>\n",
              "      <td>Educación comercial y administración</td>\n",
              "      <td>Administración de empresas y derecho</td>\n",
              "      <td>SI</td>\n",
              "    </tr>\n",
              "    <tr>\n",
              "      <th>2</th>\n",
              "      <td>INSTITUTO TÉCNICO SUPERIOR DEL ROSARIO</td>\n",
              "      <td>*326333</td>\n",
              "      <td>Instituto Técnico Superior</td>\n",
              "      <td>Privado</td>\n",
              "      <td>7</td>\n",
              "      <td>Itapúa</td>\n",
              "      <td>17.0</td>\n",
              "      <td>Obligado</td>\n",
              "      <td>*235201</td>\n",
              "      <td>INSTITUTO TÉCNICO SUPERIOR DEL ROSARIO</td>\n",
              "      <td>...</td>\n",
              "      <td>AGRONEGOCIOS</td>\n",
              "      <td>TÉCNICO SUPERIOR EN AGRONEGOCIOS</td>\n",
              "      <td>Educación de Pre-Grado - Educación Técnica Sup...</td>\n",
              "      <td>NaN</td>\n",
              "      <td>NaN</td>\n",
              "      <td>Presencial</td>\n",
              "      <td>Producción agrícola y ganadera</td>\n",
              "      <td>Agricultura</td>\n",
              "      <td>Agricultura, silvicultura, pesca y veterinaria</td>\n",
              "      <td>SI</td>\n",
              "    </tr>\n",
              "    <tr>\n",
              "      <th>3</th>\n",
              "      <td>INSTITUTO TÉCNICO SUPERIOR DE AERONÁUTICA</td>\n",
              "      <td>*319210</td>\n",
              "      <td>Instituto Técnico Superior</td>\n",
              "      <td>Oficial</td>\n",
              "      <td>11</td>\n",
              "      <td>Central</td>\n",
              "      <td>9.0</td>\n",
              "      <td>Luque</td>\n",
              "      <td>*227025</td>\n",
              "      <td>INSTITUTO TÉCNICO SUPERIOR DE AERONÁUTICA</td>\n",
              "      <td>...</td>\n",
              "      <td>INTERPRETE DE INSTRUMENTOS MUSICALES</td>\n",
              "      <td>TECNICO SUPERIOR EN INTERPRETE DE INSTRUMENTOS...</td>\n",
              "      <td>Educación de Pre-Grado - Educación Técnica Sup...</td>\n",
              "      <td>NaN</td>\n",
              "      <td>NaN</td>\n",
              "      <td>Presencial</td>\n",
              "      <td>Música y artes escénicas</td>\n",
              "      <td>Artes</td>\n",
              "      <td>Artes y humanidades</td>\n",
              "      <td>SI</td>\n",
              "    </tr>\n",
              "    <tr>\n",
              "      <th>4</th>\n",
              "      <td>INSTITUTO DE FORMACION DOCENTE DE CORONEL OVIEDO</td>\n",
              "      <td>*318638</td>\n",
              "      <td>Instituto de Formación Docente</td>\n",
              "      <td>Oficial</td>\n",
              "      <td>5</td>\n",
              "      <td>Caaguazú</td>\n",
              "      <td>1.0</td>\n",
              "      <td>Coronel Oviedo</td>\n",
              "      <td>*226453</td>\n",
              "      <td>INSTITUTO DE FORMACION DOCENTE DE CORONEL OVIE...</td>\n",
              "      <td>...</td>\n",
              "      <td>Profesorado de Educación Escolar Básica para e...</td>\n",
              "      <td>Profesor de Educación Escolar Básica para el 1...</td>\n",
              "      <td>Educación de Pre-Grado (Formación Docente Inic...</td>\n",
              "      <td>NaN</td>\n",
              "      <td>NaN</td>\n",
              "      <td>Presencial</td>\n",
              "      <td>NaN</td>\n",
              "      <td>NaN</td>\n",
              "      <td>NaN</td>\n",
              "      <td>SI</td>\n",
              "    </tr>\n",
              "  </tbody>\n",
              "</table>\n",
              "<p>5 rows × 23 columns</p>\n",
              "</div>\n",
              "      <button class=\"colab-df-convert\" onclick=\"convertToInteractive('df-ca8a47db-f3a3-466e-8d50-7abde1a48911')\"\n",
              "              title=\"Convert this dataframe to an interactive table.\"\n",
              "              style=\"display:none;\">\n",
              "        \n",
              "  <svg xmlns=\"http://www.w3.org/2000/svg\" height=\"24px\"viewBox=\"0 0 24 24\"\n",
              "       width=\"24px\">\n",
              "    <path d=\"M0 0h24v24H0V0z\" fill=\"none\"/>\n",
              "    <path d=\"M18.56 5.44l.94 2.06.94-2.06 2.06-.94-2.06-.94-.94-2.06-.94 2.06-2.06.94zm-11 1L8.5 8.5l.94-2.06 2.06-.94-2.06-.94L8.5 2.5l-.94 2.06-2.06.94zm10 10l.94 2.06.94-2.06 2.06-.94-2.06-.94-.94-2.06-.94 2.06-2.06.94z\"/><path d=\"M17.41 7.96l-1.37-1.37c-.4-.4-.92-.59-1.43-.59-.52 0-1.04.2-1.43.59L10.3 9.45l-7.72 7.72c-.78.78-.78 2.05 0 2.83L4 21.41c.39.39.9.59 1.41.59.51 0 1.02-.2 1.41-.59l7.78-7.78 2.81-2.81c.8-.78.8-2.07 0-2.86zM5.41 20L4 18.59l7.72-7.72 1.47 1.35L5.41 20z\"/>\n",
              "  </svg>\n",
              "      </button>\n",
              "      \n",
              "  <style>\n",
              "    .colab-df-container {\n",
              "      display:flex;\n",
              "      flex-wrap:wrap;\n",
              "      gap: 12px;\n",
              "    }\n",
              "\n",
              "    .colab-df-convert {\n",
              "      background-color: #E8F0FE;\n",
              "      border: none;\n",
              "      border-radius: 50%;\n",
              "      cursor: pointer;\n",
              "      display: none;\n",
              "      fill: #1967D2;\n",
              "      height: 32px;\n",
              "      padding: 0 0 0 0;\n",
              "      width: 32px;\n",
              "    }\n",
              "\n",
              "    .colab-df-convert:hover {\n",
              "      background-color: #E2EBFA;\n",
              "      box-shadow: 0px 1px 2px rgba(60, 64, 67, 0.3), 0px 1px 3px 1px rgba(60, 64, 67, 0.15);\n",
              "      fill: #174EA6;\n",
              "    }\n",
              "\n",
              "    [theme=dark] .colab-df-convert {\n",
              "      background-color: #3B4455;\n",
              "      fill: #D2E3FC;\n",
              "    }\n",
              "\n",
              "    [theme=dark] .colab-df-convert:hover {\n",
              "      background-color: #434B5C;\n",
              "      box-shadow: 0px 1px 3px 1px rgba(0, 0, 0, 0.15);\n",
              "      filter: drop-shadow(0px 1px 2px rgba(0, 0, 0, 0.3));\n",
              "      fill: #FFFFFF;\n",
              "    }\n",
              "  </style>\n",
              "\n",
              "      <script>\n",
              "        const buttonEl =\n",
              "          document.querySelector('#df-ca8a47db-f3a3-466e-8d50-7abde1a48911 button.colab-df-convert');\n",
              "        buttonEl.style.display =\n",
              "          google.colab.kernel.accessAllowed ? 'block' : 'none';\n",
              "\n",
              "        async function convertToInteractive(key) {\n",
              "          const element = document.querySelector('#df-ca8a47db-f3a3-466e-8d50-7abde1a48911');\n",
              "          const dataTable =\n",
              "            await google.colab.kernel.invokeFunction('convertToInteractive',\n",
              "                                                     [key], {});\n",
              "          if (!dataTable) return;\n",
              "\n",
              "          const docLinkHtml = 'Like what you see? Visit the ' +\n",
              "            '<a target=\"_blank\" href=https://colab.research.google.com/notebooks/data_table.ipynb>data table notebook</a>'\n",
              "            + ' to learn more about interactive tables.';\n",
              "          element.innerHTML = '';\n",
              "          dataTable['output_type'] = 'display_data';\n",
              "          await google.colab.output.renderOutput(dataTable, element);\n",
              "          const docLink = document.createElement('div');\n",
              "          docLink.innerHTML = docLinkHtml;\n",
              "          element.appendChild(docLink);\n",
              "        }\n",
              "      </script>\n",
              "    </div>\n",
              "  </div>\n",
              "  "
            ]
          },
          "metadata": {},
          "execution_count": 9
        }
      ]
    },
    {
      "cell_type": "code",
      "source": [
        "df = df.drop(['codigo_distrito', 'activa', 'tipo_gestion', 'modalidad_asistencia', 'clasificacion_campo_especifico', 'clasificacion_campo_amplio',\n",
        " 'clasificacion_campo_detallado', 'establecimiento', 'enfasis_carrera','codigo_institucion', 'codigo_establecimiento', 'carrera_institucion_id', 'codigo_oferta','enfasis_id', 'codigo_carrera', 'codigo_departamento', 'codigo_distrito'], axis=1)"
      ],
      "metadata": {
        "id": "Y65AkkUhkwhV"
      },
      "execution_count": 10,
      "outputs": []
    },
    {
      "cell_type": "code",
      "source": [
        "df.shape[0]"
      ],
      "metadata": {
        "colab": {
          "base_uri": "https://localhost:8080/"
        },
        "id": "zivlR10D4Pzx",
        "outputId": "4eec62ee-1ffc-4d74-8b39-68d9cdb02c2c"
      },
      "execution_count": 11,
      "outputs": [
        {
          "output_type": "execute_result",
          "data": {
            "text/plain": [
              "12440"
            ]
          },
          "metadata": {},
          "execution_count": 11
        }
      ]
    },
    {
      "cell_type": "code",
      "source": [
        "df['denominacion_titulo'] = df['denominacion_titulo'].apply(lambda x: unidecode(x))\n",
        "df['denominacion_carrera'] = df['denominacion_carrera'].apply(lambda x: unidecode(x))\n",
        "df['nombre_institucion'] = df['nombre_institucion'].apply(lambda x: unidecode(x))\n",
        "df['nivel_titulacion'] = df['nivel_titulacion'].apply(lambda x: unidecode(x))\n",
        "df['tipo_institucion'] = df['tipo_institucion'].apply(lambda x: unidecode(x))\n",
        "df['departamento'] = df['departamento'].apply(lambda x: unidecode(x))\n",
        "df['distrito'] = df['distrito'].apply(lambda x: unidecode(x))"
      ],
      "metadata": {
        "id": "eOz_YKLvTz2V"
      },
      "execution_count": 12,
      "outputs": []
    },
    {
      "cell_type": "code",
      "source": [
        "df['tipo_institucion'] = df['tipo_institucion'].str.upper()\n",
        "df['denominacion_carrera'] = df['denominacion_carrera'].str.upper()\n",
        "df['denominacion_titulo'] = df['denominacion_titulo'].str.upper()\n",
        "df['nivel_titulacion'] = df['nivel_titulacion'].str.upper()\n",
        "df['departamento'] = df['departamento'].str.upper()\n",
        "df['distrito'] = df['distrito'].str.upper()\n",
        "df['nombre_institucion'] = df['nombre_institucion'].str.upper()"
      ],
      "metadata": {
        "id": "c_qU2wFKZ9bc"
      },
      "execution_count": 13,
      "outputs": []
    },
    {
      "cell_type": "code",
      "source": [
        "df['nivel_titulacion'] = df['nivel_titulacion'].str.replace('-', ' ')\n",
        "df['nombre_institucion'] = df['nombre_institucion'].str.replace(' \\t', '')\n",
        "df['nombre_institucion'] = df['nombre_institucion'].str.replace('  ', ' ')\n",
        "df['nombre_institucion'] = df['nombre_institucion'].str.replace('\"', '').str.replace('.', '')\n",
        "df['nombre_institucion'] = df['nombre_institucion'].str.replace('-', '')\n",
        "df['denominacion_titulo'] = df['denominacion_titulo'].apply(lambda x: re.sub(r'\\(.*?\\)', '', x))\n",
        "df['denominacion_titulo'] = df['denominacion_titulo'].str.rstrip('/A').str.rstrip('/a')"
      ],
      "metadata": {
        "colab": {
          "base_uri": "https://localhost:8080/"
        },
        "id": "iTVTsxkndLWn",
        "outputId": "05182155-da79-46b4-9a59-b8a91e20a4fa"
      },
      "execution_count": 14,
      "outputs": [
        {
          "output_type": "stream",
          "name": "stderr",
          "text": [
            "<ipython-input-14-e112dc8da2b5>:4: FutureWarning: The default value of regex will change from True to False in a future version. In addition, single character regular expressions will *not* be treated as literal strings when regex=True.\n",
            "  df['nombre_institucion'] = df['nombre_institucion'].str.replace('\"', '').str.replace('.', '')\n"
          ]
        }
      ]
    },
    {
      "cell_type": "code",
      "source": [
        "df['denominacion_titulo'] = df['denominacion_titulo'].str.replace('ESPECIALIST', 'ESPECIALISTA')\n",
        "df['denominacion_titulo'] = df['denominacion_titulo'].str.replace('INGENIERO/A ZOOTECNIST', 'INGENIERO ZOOTECNISTA')\n",
        "df['denominacion_titulo'] = df['denominacion_titulo'].str.replace('MEDICO/A CIRUJANO', 'MEDICO CIRUJANO')\n",
        "df['denominacion_titulo'] = df['denominacion_titulo'].str.replace('CONTADOR/A PUBLICO', 'CONTADOR PUBLICO')\n",
        "df['denominacion_titulo'] = df['denominacion_titulo'].str.replace('CONTADOR PUBLICO/A NACIONAL', 'CONTADOR PUBLICO NACIONAL')\n",
        "df['denominacion_titulo'] = df['denominacion_titulo'].str.replace('CONTADOR(A) PUBLICO NACIONAL', 'CONTADOR PUBLICO NACIONAL')"
      ],
      "metadata": {
        "colab": {
          "base_uri": "https://localhost:8080/"
        },
        "id": "LBypCbhQMk_5",
        "outputId": "7b0f23d4-1706-4700-e54e-d7a4360ff4bb"
      },
      "execution_count": 15,
      "outputs": [
        {
          "output_type": "stream",
          "name": "stderr",
          "text": [
            "<ipython-input-15-d1ff79c533d1>:6: FutureWarning: The default value of regex will change from True to False in a future version.\n",
            "  df['denominacion_titulo'] = df['denominacion_titulo'].str.replace('CONTADOR(A) PUBLICO NACIONAL', 'CONTADOR PUBLICO NACIONAL')\n"
          ]
        }
      ]
    },
    {
      "cell_type": "code",
      "source": [
        "df.info()"
      ],
      "metadata": {
        "colab": {
          "base_uri": "https://localhost:8080/"
        },
        "id": "JQgya_Gedo-1",
        "outputId": "48d40922-bb06-4635-c0c7-723eeb2831b9"
      },
      "execution_count": 16,
      "outputs": [
        {
          "output_type": "stream",
          "name": "stdout",
          "text": [
            "<class 'pandas.core.frame.DataFrame'>\n",
            "RangeIndex: 12440 entries, 0 to 12439\n",
            "Data columns (total 7 columns):\n",
            " #   Column                Non-Null Count  Dtype \n",
            "---  ------                --------------  ----- \n",
            " 0   nombre_institucion    12440 non-null  object\n",
            " 1   tipo_institucion      12440 non-null  object\n",
            " 2   departamento          12440 non-null  object\n",
            " 3   distrito              12440 non-null  object\n",
            " 4   denominacion_carrera  12440 non-null  object\n",
            " 5   denominacion_titulo   12440 non-null  object\n",
            " 6   nivel_titulacion      12440 non-null  object\n",
            "dtypes: object(7)\n",
            "memory usage: 680.4+ KB\n"
          ]
        }
      ]
    },
    {
      "cell_type": "code",
      "source": [
        "df.isnull().sum()"
      ],
      "metadata": {
        "colab": {
          "base_uri": "https://localhost:8080/"
        },
        "id": "7CtTIE6cjwbT",
        "outputId": "458b47dc-08ce-4bbd-a4c2-fbfbc9e45789"
      },
      "execution_count": 17,
      "outputs": [
        {
          "output_type": "execute_result",
          "data": {
            "text/plain": [
              "nombre_institucion      0\n",
              "tipo_institucion        0\n",
              "departamento            0\n",
              "distrito                0\n",
              "denominacion_carrera    0\n",
              "denominacion_titulo     0\n",
              "nivel_titulacion        0\n",
              "dtype: int64"
            ]
          },
          "metadata": {},
          "execution_count": 17
        }
      ]
    },
    {
      "cell_type": "code",
      "source": [
        "df"
      ],
      "metadata": {
        "colab": {
          "base_uri": "https://localhost:8080/",
          "height": 815
        },
        "id": "4w6xWVYy7IpR",
        "outputId": "31ce8e88-2c1a-498b-8313-adb6ce010976"
      },
      "execution_count": 18,
      "outputs": [
        {
          "output_type": "execute_result",
          "data": {
            "text/plain": [
              "                                      nombre_institucion  \\\n",
              "0          INSTITUTO TECNICO SUPERIOR SANTA ROSA MISTICA   \n",
              "1      UNIVERSIDAD CATOLICA NUESTRA SENORA DE LA ASUN...   \n",
              "2                 INSTITUTO TECNICO SUPERIOR DEL ROSARIO   \n",
              "3              INSTITUTO TECNICO SUPERIOR DE AERONAUTICA   \n",
              "4       INSTITUTO DE FORMACION DOCENTE DE CORONEL OVIEDO   \n",
              "...                                                  ...   \n",
              "12435  CENTRO REGIONAL DE EDUCACION DR JOSE GASPAR RO...   \n",
              "12436     INSTITUTO TECNICO SUPERIOR FISIOMEDIC PARAGUAY   \n",
              "12437                  UNIVERSIDAD AUTONOMA DEL PARAGUAY   \n",
              "12438           UNIVERSIDAD TECNOLOGICA INTERCONTINENTAL   \n",
              "12439  INSTITUTO TECNICO SUPERIOR DEL SERVICIO NACION...   \n",
              "\n",
              "                     tipo_institucion departamento              distrito  \\\n",
              "0          INSTITUTO TECNICO SUPERIOR   CONCEPCION            CONCEPCION   \n",
              "1                         UNIVERSIDAD       GUAIRA            VILLARRICA   \n",
              "2          INSTITUTO TECNICO SUPERIOR       ITAPUA              OBLIGADO   \n",
              "3          INSTITUTO TECNICO SUPERIOR      CENTRAL                 LUQUE   \n",
              "4      INSTITUTO DE FORMACION DOCENTE     CAAGUAZU        CORONEL OVIEDO   \n",
              "...                               ...          ...                   ...   \n",
              "12435    CENTRO REGIONAL DE EDUCACION  ALTO PARANA       CIUDAD DEL ESTE   \n",
              "12436      INSTITUTO TECNICO SUPERIOR      CENTRAL                 LUQUE   \n",
              "12437                     UNIVERSIDAD      CAPITAL              ASUNCION   \n",
              "12438                     UNIVERSIDAD      AMAMBAY  PEDRO JUAN CABALLERO   \n",
              "12439      INSTITUTO TECNICO SUPERIOR     CAAGUAZU        CORONEL OVIEDO   \n",
              "\n",
              "                                    denominacion_carrera  \\\n",
              "0             TECNICATURA EN ADMINISTRACION HOSPITALARIA   \n",
              "1                              CONTADOR PUBLICO NACIONAL   \n",
              "2                                           AGRONEGOCIOS   \n",
              "3                   INTERPRETE DE INSTRUMENTOS MUSICALES   \n",
              "4      PROFESORADO DE EDUCACION ESCOLAR BASICA PARA E...   \n",
              "...                                                  ...   \n",
              "12435  INNOVACIONES EN LA METODOLOGIA DE LA FORMACION...   \n",
              "12436                                             VENTAS   \n",
              "12437                                    PROTESIS DENTAL   \n",
              "12438                                         MATEMATICA   \n",
              "12439                             ELECTRONICA INDUSTRIAL   \n",
              "\n",
              "                                     denominacion_titulo  \\\n",
              "0                                              DIPLOMADO   \n",
              "1                              CONTADOR PUBLICO NACIONAL   \n",
              "2                       TECNICO SUPERIOR EN AGRONEGOCIOS   \n",
              "3      TECNICO SUPERIOR EN INTERPRETE DE INSTRUMENTOS...   \n",
              "4      PROFESOR DE EDUCACION ESCOLAR BASICA PARA EL 1...   \n",
              "...                                                  ...   \n",
              "12435                                        CERTIFICADO   \n",
              "12436                         TECNICO SUPERIOR EN VENTAS   \n",
              "12437                TECNICO SUPERIOR EN PROTESIS DENTAL   \n",
              "12438                                         LICENCIADO   \n",
              "12439         TECNICO SUPERIOR EN ELECTRONICA INDUSTRIAL   \n",
              "\n",
              "                                        nivel_titulacion  \n",
              "0      EDUCACION DE PRE GRADO   EDUCACION TECNICA SUP...  \n",
              "1                                     EDUCACION DE GRADO  \n",
              "2      EDUCACION DE PRE GRADO   EDUCACION TECNICA SUP...  \n",
              "3      EDUCACION DE PRE GRADO   EDUCACION TECNICA SUP...  \n",
              "4      EDUCACION DE PRE GRADO (FORMACION DOCENTE INIC...  \n",
              "...                                                  ...  \n",
              "12435  EDUCACION DE PRE GRADO (FORMACION DOCENTE CONT...  \n",
              "12436  EDUCACION DE PRE GRADO   EDUCACION TECNICA SUP...  \n",
              "12437  EDUCACION DE PRE GRADO   EDUCACION TECNICA SUP...  \n",
              "12438                                 EDUCACION DE GRADO  \n",
              "12439  EDUCACION DE PRE GRADO   EDUCACION TECNICA SUP...  \n",
              "\n",
              "[12440 rows x 7 columns]"
            ],
            "text/html": [
              "\n",
              "  <div id=\"df-a5abc35b-6880-4e8b-98c7-40d0dc535f5c\">\n",
              "    <div class=\"colab-df-container\">\n",
              "      <div>\n",
              "<style scoped>\n",
              "    .dataframe tbody tr th:only-of-type {\n",
              "        vertical-align: middle;\n",
              "    }\n",
              "\n",
              "    .dataframe tbody tr th {\n",
              "        vertical-align: top;\n",
              "    }\n",
              "\n",
              "    .dataframe thead th {\n",
              "        text-align: right;\n",
              "    }\n",
              "</style>\n",
              "<table border=\"1\" class=\"dataframe\">\n",
              "  <thead>\n",
              "    <tr style=\"text-align: right;\">\n",
              "      <th></th>\n",
              "      <th>nombre_institucion</th>\n",
              "      <th>tipo_institucion</th>\n",
              "      <th>departamento</th>\n",
              "      <th>distrito</th>\n",
              "      <th>denominacion_carrera</th>\n",
              "      <th>denominacion_titulo</th>\n",
              "      <th>nivel_titulacion</th>\n",
              "    </tr>\n",
              "  </thead>\n",
              "  <tbody>\n",
              "    <tr>\n",
              "      <th>0</th>\n",
              "      <td>INSTITUTO TECNICO SUPERIOR SANTA ROSA MISTICA</td>\n",
              "      <td>INSTITUTO TECNICO SUPERIOR</td>\n",
              "      <td>CONCEPCION</td>\n",
              "      <td>CONCEPCION</td>\n",
              "      <td>TECNICATURA EN ADMINISTRACION HOSPITALARIA</td>\n",
              "      <td>DIPLOMADO</td>\n",
              "      <td>EDUCACION DE PRE GRADO   EDUCACION TECNICA SUP...</td>\n",
              "    </tr>\n",
              "    <tr>\n",
              "      <th>1</th>\n",
              "      <td>UNIVERSIDAD CATOLICA NUESTRA SENORA DE LA ASUN...</td>\n",
              "      <td>UNIVERSIDAD</td>\n",
              "      <td>GUAIRA</td>\n",
              "      <td>VILLARRICA</td>\n",
              "      <td>CONTADOR PUBLICO NACIONAL</td>\n",
              "      <td>CONTADOR PUBLICO NACIONAL</td>\n",
              "      <td>EDUCACION DE GRADO</td>\n",
              "    </tr>\n",
              "    <tr>\n",
              "      <th>2</th>\n",
              "      <td>INSTITUTO TECNICO SUPERIOR DEL ROSARIO</td>\n",
              "      <td>INSTITUTO TECNICO SUPERIOR</td>\n",
              "      <td>ITAPUA</td>\n",
              "      <td>OBLIGADO</td>\n",
              "      <td>AGRONEGOCIOS</td>\n",
              "      <td>TECNICO SUPERIOR EN AGRONEGOCIOS</td>\n",
              "      <td>EDUCACION DE PRE GRADO   EDUCACION TECNICA SUP...</td>\n",
              "    </tr>\n",
              "    <tr>\n",
              "      <th>3</th>\n",
              "      <td>INSTITUTO TECNICO SUPERIOR DE AERONAUTICA</td>\n",
              "      <td>INSTITUTO TECNICO SUPERIOR</td>\n",
              "      <td>CENTRAL</td>\n",
              "      <td>LUQUE</td>\n",
              "      <td>INTERPRETE DE INSTRUMENTOS MUSICALES</td>\n",
              "      <td>TECNICO SUPERIOR EN INTERPRETE DE INSTRUMENTOS...</td>\n",
              "      <td>EDUCACION DE PRE GRADO   EDUCACION TECNICA SUP...</td>\n",
              "    </tr>\n",
              "    <tr>\n",
              "      <th>4</th>\n",
              "      <td>INSTITUTO DE FORMACION DOCENTE DE CORONEL OVIEDO</td>\n",
              "      <td>INSTITUTO DE FORMACION DOCENTE</td>\n",
              "      <td>CAAGUAZU</td>\n",
              "      <td>CORONEL OVIEDO</td>\n",
              "      <td>PROFESORADO DE EDUCACION ESCOLAR BASICA PARA E...</td>\n",
              "      <td>PROFESOR DE EDUCACION ESCOLAR BASICA PARA EL 1...</td>\n",
              "      <td>EDUCACION DE PRE GRADO (FORMACION DOCENTE INIC...</td>\n",
              "    </tr>\n",
              "    <tr>\n",
              "      <th>...</th>\n",
              "      <td>...</td>\n",
              "      <td>...</td>\n",
              "      <td>...</td>\n",
              "      <td>...</td>\n",
              "      <td>...</td>\n",
              "      <td>...</td>\n",
              "      <td>...</td>\n",
              "    </tr>\n",
              "    <tr>\n",
              "      <th>12435</th>\n",
              "      <td>CENTRO REGIONAL DE EDUCACION DR JOSE GASPAR RO...</td>\n",
              "      <td>CENTRO REGIONAL DE EDUCACION</td>\n",
              "      <td>ALTO PARANA</td>\n",
              "      <td>CIUDAD DEL ESTE</td>\n",
              "      <td>INNOVACIONES EN LA METODOLOGIA DE LA FORMACION...</td>\n",
              "      <td>CERTIFICADO</td>\n",
              "      <td>EDUCACION DE PRE GRADO (FORMACION DOCENTE CONT...</td>\n",
              "    </tr>\n",
              "    <tr>\n",
              "      <th>12436</th>\n",
              "      <td>INSTITUTO TECNICO SUPERIOR FISIOMEDIC PARAGUAY</td>\n",
              "      <td>INSTITUTO TECNICO SUPERIOR</td>\n",
              "      <td>CENTRAL</td>\n",
              "      <td>LUQUE</td>\n",
              "      <td>VENTAS</td>\n",
              "      <td>TECNICO SUPERIOR EN VENTAS</td>\n",
              "      <td>EDUCACION DE PRE GRADO   EDUCACION TECNICA SUP...</td>\n",
              "    </tr>\n",
              "    <tr>\n",
              "      <th>12437</th>\n",
              "      <td>UNIVERSIDAD AUTONOMA DEL PARAGUAY</td>\n",
              "      <td>UNIVERSIDAD</td>\n",
              "      <td>CAPITAL</td>\n",
              "      <td>ASUNCION</td>\n",
              "      <td>PROTESIS DENTAL</td>\n",
              "      <td>TECNICO SUPERIOR EN PROTESIS DENTAL</td>\n",
              "      <td>EDUCACION DE PRE GRADO   EDUCACION TECNICA SUP...</td>\n",
              "    </tr>\n",
              "    <tr>\n",
              "      <th>12438</th>\n",
              "      <td>UNIVERSIDAD TECNOLOGICA INTERCONTINENTAL</td>\n",
              "      <td>UNIVERSIDAD</td>\n",
              "      <td>AMAMBAY</td>\n",
              "      <td>PEDRO JUAN CABALLERO</td>\n",
              "      <td>MATEMATICA</td>\n",
              "      <td>LICENCIADO</td>\n",
              "      <td>EDUCACION DE GRADO</td>\n",
              "    </tr>\n",
              "    <tr>\n",
              "      <th>12439</th>\n",
              "      <td>INSTITUTO TECNICO SUPERIOR DEL SERVICIO NACION...</td>\n",
              "      <td>INSTITUTO TECNICO SUPERIOR</td>\n",
              "      <td>CAAGUAZU</td>\n",
              "      <td>CORONEL OVIEDO</td>\n",
              "      <td>ELECTRONICA INDUSTRIAL</td>\n",
              "      <td>TECNICO SUPERIOR EN ELECTRONICA INDUSTRIAL</td>\n",
              "      <td>EDUCACION DE PRE GRADO   EDUCACION TECNICA SUP...</td>\n",
              "    </tr>\n",
              "  </tbody>\n",
              "</table>\n",
              "<p>12440 rows × 7 columns</p>\n",
              "</div>\n",
              "      <button class=\"colab-df-convert\" onclick=\"convertToInteractive('df-a5abc35b-6880-4e8b-98c7-40d0dc535f5c')\"\n",
              "              title=\"Convert this dataframe to an interactive table.\"\n",
              "              style=\"display:none;\">\n",
              "        \n",
              "  <svg xmlns=\"http://www.w3.org/2000/svg\" height=\"24px\"viewBox=\"0 0 24 24\"\n",
              "       width=\"24px\">\n",
              "    <path d=\"M0 0h24v24H0V0z\" fill=\"none\"/>\n",
              "    <path d=\"M18.56 5.44l.94 2.06.94-2.06 2.06-.94-2.06-.94-.94-2.06-.94 2.06-2.06.94zm-11 1L8.5 8.5l.94-2.06 2.06-.94-2.06-.94L8.5 2.5l-.94 2.06-2.06.94zm10 10l.94 2.06.94-2.06 2.06-.94-2.06-.94-.94-2.06-.94 2.06-2.06.94z\"/><path d=\"M17.41 7.96l-1.37-1.37c-.4-.4-.92-.59-1.43-.59-.52 0-1.04.2-1.43.59L10.3 9.45l-7.72 7.72c-.78.78-.78 2.05 0 2.83L4 21.41c.39.39.9.59 1.41.59.51 0 1.02-.2 1.41-.59l7.78-7.78 2.81-2.81c.8-.78.8-2.07 0-2.86zM5.41 20L4 18.59l7.72-7.72 1.47 1.35L5.41 20z\"/>\n",
              "  </svg>\n",
              "      </button>\n",
              "      \n",
              "  <style>\n",
              "    .colab-df-container {\n",
              "      display:flex;\n",
              "      flex-wrap:wrap;\n",
              "      gap: 12px;\n",
              "    }\n",
              "\n",
              "    .colab-df-convert {\n",
              "      background-color: #E8F0FE;\n",
              "      border: none;\n",
              "      border-radius: 50%;\n",
              "      cursor: pointer;\n",
              "      display: none;\n",
              "      fill: #1967D2;\n",
              "      height: 32px;\n",
              "      padding: 0 0 0 0;\n",
              "      width: 32px;\n",
              "    }\n",
              "\n",
              "    .colab-df-convert:hover {\n",
              "      background-color: #E2EBFA;\n",
              "      box-shadow: 0px 1px 2px rgba(60, 64, 67, 0.3), 0px 1px 3px 1px rgba(60, 64, 67, 0.15);\n",
              "      fill: #174EA6;\n",
              "    }\n",
              "\n",
              "    [theme=dark] .colab-df-convert {\n",
              "      background-color: #3B4455;\n",
              "      fill: #D2E3FC;\n",
              "    }\n",
              "\n",
              "    [theme=dark] .colab-df-convert:hover {\n",
              "      background-color: #434B5C;\n",
              "      box-shadow: 0px 1px 3px 1px rgba(0, 0, 0, 0.15);\n",
              "      filter: drop-shadow(0px 1px 2px rgba(0, 0, 0, 0.3));\n",
              "      fill: #FFFFFF;\n",
              "    }\n",
              "  </style>\n",
              "\n",
              "      <script>\n",
              "        const buttonEl =\n",
              "          document.querySelector('#df-a5abc35b-6880-4e8b-98c7-40d0dc535f5c button.colab-df-convert');\n",
              "        buttonEl.style.display =\n",
              "          google.colab.kernel.accessAllowed ? 'block' : 'none';\n",
              "\n",
              "        async function convertToInteractive(key) {\n",
              "          const element = document.querySelector('#df-a5abc35b-6880-4e8b-98c7-40d0dc535f5c');\n",
              "          const dataTable =\n",
              "            await google.colab.kernel.invokeFunction('convertToInteractive',\n",
              "                                                     [key], {});\n",
              "          if (!dataTable) return;\n",
              "\n",
              "          const docLinkHtml = 'Like what you see? Visit the ' +\n",
              "            '<a target=\"_blank\" href=https://colab.research.google.com/notebooks/data_table.ipynb>data table notebook</a>'\n",
              "            + ' to learn more about interactive tables.';\n",
              "          element.innerHTML = '';\n",
              "          dataTable['output_type'] = 'display_data';\n",
              "          await google.colab.output.renderOutput(dataTable, element);\n",
              "          const docLink = document.createElement('div');\n",
              "          docLink.innerHTML = docLinkHtml;\n",
              "          element.appendChild(docLink);\n",
              "        }\n",
              "      </script>\n",
              "    </div>\n",
              "  </div>\n",
              "  "
            ]
          },
          "metadata": {},
          "execution_count": 18
        }
      ]
    },
    {
      "cell_type": "markdown",
      "source": [
        "### Data Frame de los egresados"
      ],
      "metadata": {
        "id": "UYDEGubNfo9L"
      }
    },
    {
      "cell_type": "code",
      "source": [
        "df2 = pd.read_csv(\"titulos.csv\", sep=';')"
      ],
      "metadata": {
        "id": "8bozOnRuBbvh"
      },
      "execution_count": 19,
      "outputs": []
    },
    {
      "cell_type": "code",
      "source": [
        "df2.head()"
      ],
      "metadata": {
        "colab": {
          "base_uri": "https://localhost:8080/",
          "height": 548
        },
        "id": "45tEpMSfft7Y",
        "outputId": "00bb27bf-efe4-464f-ad4e-78209241e98a"
      },
      "execution_count": 20,
      "outputs": [
        {
          "output_type": "execute_result",
          "data": {
            "text/plain": [
              "   anio  mes documento                 nombre_completo  carrera_id  \\\n",
              "0  2022    1   4866986   MILAGROS ANAHI FRETES CABRERA         146   \n",
              "1  2022    1   4867832   ANGEL MARIA ARZAMENDIA FIGARI        3142   \n",
              "2  2022    1   4865510  AMANDA MARIEL CHAMORRO DELGADO           9   \n",
              "3  2022    1   4868114  GABRIELA CAROLINA LOPEZ SCORZA          63   \n",
              "4  2022    1   4868999   ANIBAL RUBEN AREVALOS BENITEZ          33   \n",
              "\n",
              "                                             carrera  titulo_id  \\\n",
              "0                                   INGENIERIA CIVIL       2201   \n",
              "1  PROFESORADO EN EDUCACION BILINGUE GUARANI – CA...       2910   \n",
              "2                         ADMINISTRACION DE EMPRESAS        792   \n",
              "3                             COMERCIO INTERNACIONAL        792   \n",
              "4                                         BIOQUIMICA       1043   \n",
              "\n",
              "                                              titulo  numero_resolucion  \\\n",
              "0                                    INGENIERO CIVIL              47718   \n",
              "1  PROFESOR EN EDUCACION BILINGUE GUARANI – CASTE...              47952   \n",
              "2                                       LICENCIADO/A              47500   \n",
              "3                                       LICENCIADO/A              47583   \n",
              "4                                       BIOQUIMICO/A              48069   \n",
              "\n",
              "  fecha_resolucion  tipo_institucion_id    tipo_institucion  institucion_id  \\\n",
              "0       2022-01-18                   16         UNIVERSIDAD          316883   \n",
              "1       2022-01-25                   17  INSTITUTO SUPERIOR          316891   \n",
              "2       2022-01-10                   16         UNIVERSIDAD          316914   \n",
              "3       2022-01-12                   16         UNIVERSIDAD          316920   \n",
              "4       2022-01-28                   16         UNIVERSIDAD          316883   \n",
              "\n",
              "                                         institucion gobierno_actual    sexo  \n",
              "0  UNIVERSIDAD NACIONAL DE ASUNCIÓN - FACULTAD DE...              Si   MUJER  \n",
              "1  INSTITUTO DE LINGÜÍSTICA GUARANÍ DEL PARAGUAY ...              Si  HOMBRE  \n",
              "2                              UNIVERSIDAD DEL NORTE              Si   MUJER  \n",
              "3                              UNIVERSIDAD AMERICANA              Si   MUJER  \n",
              "4         UNIVERSIDAD NACIONAL DE ASUNCIÓN - QUIMICA              Si  HOMBRE  "
            ],
            "text/html": [
              "\n",
              "  <div id=\"df-fac5e236-31e1-4743-90f5-29a2a158b002\">\n",
              "    <div class=\"colab-df-container\">\n",
              "      <div>\n",
              "<style scoped>\n",
              "    .dataframe tbody tr th:only-of-type {\n",
              "        vertical-align: middle;\n",
              "    }\n",
              "\n",
              "    .dataframe tbody tr th {\n",
              "        vertical-align: top;\n",
              "    }\n",
              "\n",
              "    .dataframe thead th {\n",
              "        text-align: right;\n",
              "    }\n",
              "</style>\n",
              "<table border=\"1\" class=\"dataframe\">\n",
              "  <thead>\n",
              "    <tr style=\"text-align: right;\">\n",
              "      <th></th>\n",
              "      <th>anio</th>\n",
              "      <th>mes</th>\n",
              "      <th>documento</th>\n",
              "      <th>nombre_completo</th>\n",
              "      <th>carrera_id</th>\n",
              "      <th>carrera</th>\n",
              "      <th>titulo_id</th>\n",
              "      <th>titulo</th>\n",
              "      <th>numero_resolucion</th>\n",
              "      <th>fecha_resolucion</th>\n",
              "      <th>tipo_institucion_id</th>\n",
              "      <th>tipo_institucion</th>\n",
              "      <th>institucion_id</th>\n",
              "      <th>institucion</th>\n",
              "      <th>gobierno_actual</th>\n",
              "      <th>sexo</th>\n",
              "    </tr>\n",
              "  </thead>\n",
              "  <tbody>\n",
              "    <tr>\n",
              "      <th>0</th>\n",
              "      <td>2022</td>\n",
              "      <td>1</td>\n",
              "      <td>4866986</td>\n",
              "      <td>MILAGROS ANAHI FRETES CABRERA</td>\n",
              "      <td>146</td>\n",
              "      <td>INGENIERIA CIVIL</td>\n",
              "      <td>2201</td>\n",
              "      <td>INGENIERO CIVIL</td>\n",
              "      <td>47718</td>\n",
              "      <td>2022-01-18</td>\n",
              "      <td>16</td>\n",
              "      <td>UNIVERSIDAD</td>\n",
              "      <td>316883</td>\n",
              "      <td>UNIVERSIDAD NACIONAL DE ASUNCIÓN - FACULTAD DE...</td>\n",
              "      <td>Si</td>\n",
              "      <td>MUJER</td>\n",
              "    </tr>\n",
              "    <tr>\n",
              "      <th>1</th>\n",
              "      <td>2022</td>\n",
              "      <td>1</td>\n",
              "      <td>4867832</td>\n",
              "      <td>ANGEL MARIA ARZAMENDIA FIGARI</td>\n",
              "      <td>3142</td>\n",
              "      <td>PROFESORADO EN EDUCACION BILINGUE GUARANI – CA...</td>\n",
              "      <td>2910</td>\n",
              "      <td>PROFESOR EN EDUCACION BILINGUE GUARANI – CASTE...</td>\n",
              "      <td>47952</td>\n",
              "      <td>2022-01-25</td>\n",
              "      <td>17</td>\n",
              "      <td>INSTITUTO SUPERIOR</td>\n",
              "      <td>316891</td>\n",
              "      <td>INSTITUTO DE LINGÜÍSTICA GUARANÍ DEL PARAGUAY ...</td>\n",
              "      <td>Si</td>\n",
              "      <td>HOMBRE</td>\n",
              "    </tr>\n",
              "    <tr>\n",
              "      <th>2</th>\n",
              "      <td>2022</td>\n",
              "      <td>1</td>\n",
              "      <td>4865510</td>\n",
              "      <td>AMANDA MARIEL CHAMORRO DELGADO</td>\n",
              "      <td>9</td>\n",
              "      <td>ADMINISTRACION DE EMPRESAS</td>\n",
              "      <td>792</td>\n",
              "      <td>LICENCIADO/A</td>\n",
              "      <td>47500</td>\n",
              "      <td>2022-01-10</td>\n",
              "      <td>16</td>\n",
              "      <td>UNIVERSIDAD</td>\n",
              "      <td>316914</td>\n",
              "      <td>UNIVERSIDAD DEL NORTE</td>\n",
              "      <td>Si</td>\n",
              "      <td>MUJER</td>\n",
              "    </tr>\n",
              "    <tr>\n",
              "      <th>3</th>\n",
              "      <td>2022</td>\n",
              "      <td>1</td>\n",
              "      <td>4868114</td>\n",
              "      <td>GABRIELA CAROLINA LOPEZ SCORZA</td>\n",
              "      <td>63</td>\n",
              "      <td>COMERCIO INTERNACIONAL</td>\n",
              "      <td>792</td>\n",
              "      <td>LICENCIADO/A</td>\n",
              "      <td>47583</td>\n",
              "      <td>2022-01-12</td>\n",
              "      <td>16</td>\n",
              "      <td>UNIVERSIDAD</td>\n",
              "      <td>316920</td>\n",
              "      <td>UNIVERSIDAD AMERICANA</td>\n",
              "      <td>Si</td>\n",
              "      <td>MUJER</td>\n",
              "    </tr>\n",
              "    <tr>\n",
              "      <th>4</th>\n",
              "      <td>2022</td>\n",
              "      <td>1</td>\n",
              "      <td>4868999</td>\n",
              "      <td>ANIBAL RUBEN AREVALOS BENITEZ</td>\n",
              "      <td>33</td>\n",
              "      <td>BIOQUIMICA</td>\n",
              "      <td>1043</td>\n",
              "      <td>BIOQUIMICO/A</td>\n",
              "      <td>48069</td>\n",
              "      <td>2022-01-28</td>\n",
              "      <td>16</td>\n",
              "      <td>UNIVERSIDAD</td>\n",
              "      <td>316883</td>\n",
              "      <td>UNIVERSIDAD NACIONAL DE ASUNCIÓN - QUIMICA</td>\n",
              "      <td>Si</td>\n",
              "      <td>HOMBRE</td>\n",
              "    </tr>\n",
              "  </tbody>\n",
              "</table>\n",
              "</div>\n",
              "      <button class=\"colab-df-convert\" onclick=\"convertToInteractive('df-fac5e236-31e1-4743-90f5-29a2a158b002')\"\n",
              "              title=\"Convert this dataframe to an interactive table.\"\n",
              "              style=\"display:none;\">\n",
              "        \n",
              "  <svg xmlns=\"http://www.w3.org/2000/svg\" height=\"24px\"viewBox=\"0 0 24 24\"\n",
              "       width=\"24px\">\n",
              "    <path d=\"M0 0h24v24H0V0z\" fill=\"none\"/>\n",
              "    <path d=\"M18.56 5.44l.94 2.06.94-2.06 2.06-.94-2.06-.94-.94-2.06-.94 2.06-2.06.94zm-11 1L8.5 8.5l.94-2.06 2.06-.94-2.06-.94L8.5 2.5l-.94 2.06-2.06.94zm10 10l.94 2.06.94-2.06 2.06-.94-2.06-.94-.94-2.06-.94 2.06-2.06.94z\"/><path d=\"M17.41 7.96l-1.37-1.37c-.4-.4-.92-.59-1.43-.59-.52 0-1.04.2-1.43.59L10.3 9.45l-7.72 7.72c-.78.78-.78 2.05 0 2.83L4 21.41c.39.39.9.59 1.41.59.51 0 1.02-.2 1.41-.59l7.78-7.78 2.81-2.81c.8-.78.8-2.07 0-2.86zM5.41 20L4 18.59l7.72-7.72 1.47 1.35L5.41 20z\"/>\n",
              "  </svg>\n",
              "      </button>\n",
              "      \n",
              "  <style>\n",
              "    .colab-df-container {\n",
              "      display:flex;\n",
              "      flex-wrap:wrap;\n",
              "      gap: 12px;\n",
              "    }\n",
              "\n",
              "    .colab-df-convert {\n",
              "      background-color: #E8F0FE;\n",
              "      border: none;\n",
              "      border-radius: 50%;\n",
              "      cursor: pointer;\n",
              "      display: none;\n",
              "      fill: #1967D2;\n",
              "      height: 32px;\n",
              "      padding: 0 0 0 0;\n",
              "      width: 32px;\n",
              "    }\n",
              "\n",
              "    .colab-df-convert:hover {\n",
              "      background-color: #E2EBFA;\n",
              "      box-shadow: 0px 1px 2px rgba(60, 64, 67, 0.3), 0px 1px 3px 1px rgba(60, 64, 67, 0.15);\n",
              "      fill: #174EA6;\n",
              "    }\n",
              "\n",
              "    [theme=dark] .colab-df-convert {\n",
              "      background-color: #3B4455;\n",
              "      fill: #D2E3FC;\n",
              "    }\n",
              "\n",
              "    [theme=dark] .colab-df-convert:hover {\n",
              "      background-color: #434B5C;\n",
              "      box-shadow: 0px 1px 3px 1px rgba(0, 0, 0, 0.15);\n",
              "      filter: drop-shadow(0px 1px 2px rgba(0, 0, 0, 0.3));\n",
              "      fill: #FFFFFF;\n",
              "    }\n",
              "  </style>\n",
              "\n",
              "      <script>\n",
              "        const buttonEl =\n",
              "          document.querySelector('#df-fac5e236-31e1-4743-90f5-29a2a158b002 button.colab-df-convert');\n",
              "        buttonEl.style.display =\n",
              "          google.colab.kernel.accessAllowed ? 'block' : 'none';\n",
              "\n",
              "        async function convertToInteractive(key) {\n",
              "          const element = document.querySelector('#df-fac5e236-31e1-4743-90f5-29a2a158b002');\n",
              "          const dataTable =\n",
              "            await google.colab.kernel.invokeFunction('convertToInteractive',\n",
              "                                                     [key], {});\n",
              "          if (!dataTable) return;\n",
              "\n",
              "          const docLinkHtml = 'Like what you see? Visit the ' +\n",
              "            '<a target=\"_blank\" href=https://colab.research.google.com/notebooks/data_table.ipynb>data table notebook</a>'\n",
              "            + ' to learn more about interactive tables.';\n",
              "          element.innerHTML = '';\n",
              "          dataTable['output_type'] = 'display_data';\n",
              "          await google.colab.output.renderOutput(dataTable, element);\n",
              "          const docLink = document.createElement('div');\n",
              "          docLink.innerHTML = docLinkHtml;\n",
              "          element.appendChild(docLink);\n",
              "        }\n",
              "      </script>\n",
              "    </div>\n",
              "  </div>\n",
              "  "
            ]
          },
          "metadata": {},
          "execution_count": 20
        }
      ]
    },
    {
      "cell_type": "code",
      "source": [
        "df2.info()"
      ],
      "metadata": {
        "colab": {
          "base_uri": "https://localhost:8080/"
        },
        "id": "zOgZn8eX4KeH",
        "outputId": "dc796aa5-eb78-49a9-f56d-fbbee3b137c7"
      },
      "execution_count": 21,
      "outputs": [
        {
          "output_type": "stream",
          "name": "stdout",
          "text": [
            "<class 'pandas.core.frame.DataFrame'>\n",
            "RangeIndex: 84465 entries, 0 to 84464\n",
            "Data columns (total 16 columns):\n",
            " #   Column               Non-Null Count  Dtype \n",
            "---  ------               --------------  ----- \n",
            " 0   anio                 84465 non-null  int64 \n",
            " 1   mes                  84465 non-null  int64 \n",
            " 2   documento            84465 non-null  object\n",
            " 3   nombre_completo      84465 non-null  object\n",
            " 4   carrera_id           84465 non-null  int64 \n",
            " 5   carrera              84465 non-null  object\n",
            " 6   titulo_id            84465 non-null  int64 \n",
            " 7   titulo               84465 non-null  object\n",
            " 8   numero_resolucion    84465 non-null  int64 \n",
            " 9   fecha_resolucion     84465 non-null  object\n",
            " 10  tipo_institucion_id  84465 non-null  int64 \n",
            " 11  tipo_institucion     84465 non-null  object\n",
            " 12  institucion_id       84465 non-null  int64 \n",
            " 13  institucion          84465 non-null  object\n",
            " 14  gobierno_actual      84465 non-null  object\n",
            " 15  sexo                 84327 non-null  object\n",
            "dtypes: int64(7), object(9)\n",
            "memory usage: 10.3+ MB\n"
          ]
        }
      ]
    },
    {
      "cell_type": "code",
      "source": [
        "df2.shape[0]"
      ],
      "metadata": {
        "colab": {
          "base_uri": "https://localhost:8080/"
        },
        "id": "in_fB9yRmVwJ",
        "outputId": "efdc11f1-2b09-4e6c-dfec-fbcb67f68577"
      },
      "execution_count": 22,
      "outputs": [
        {
          "output_type": "execute_result",
          "data": {
            "text/plain": [
              "84465"
            ]
          },
          "metadata": {},
          "execution_count": 22
        }
      ]
    },
    {
      "cell_type": "code",
      "source": [
        "df2 = df2.drop(['nombre_completo', 'anio', 'mes','tipo_institucion_id','institucion_id', 'fecha_resolucion', 'numero_resolucion', 'gobierno_actual','titulo_id', 'carrera_id'], axis=1)"
      ],
      "metadata": {
        "id": "vS0TWuU8I4a9"
      },
      "execution_count": 23,
      "outputs": []
    },
    {
      "cell_type": "code",
      "source": [
        "df2.info()"
      ],
      "metadata": {
        "colab": {
          "base_uri": "https://localhost:8080/"
        },
        "id": "RQGhEPLmAoMA",
        "outputId": "ded10bbb-ac75-4d1d-daeb-671a8dcd1749"
      },
      "execution_count": 24,
      "outputs": [
        {
          "output_type": "stream",
          "name": "stdout",
          "text": [
            "<class 'pandas.core.frame.DataFrame'>\n",
            "RangeIndex: 84465 entries, 0 to 84464\n",
            "Data columns (total 6 columns):\n",
            " #   Column            Non-Null Count  Dtype \n",
            "---  ------            --------------  ----- \n",
            " 0   documento         84465 non-null  object\n",
            " 1   carrera           84465 non-null  object\n",
            " 2   titulo            84465 non-null  object\n",
            " 3   tipo_institucion  84465 non-null  object\n",
            " 4   institucion       84465 non-null  object\n",
            " 5   sexo              84327 non-null  object\n",
            "dtypes: object(6)\n",
            "memory usage: 3.9+ MB\n"
          ]
        }
      ]
    },
    {
      "cell_type": "code",
      "source": [
        "df2['institucion'] = df2['institucion'].apply(lambda x: unidecode(x))\n",
        "df2['tipo_institucion'] = df2['tipo_institucion'].apply(lambda x: unidecode(x))\n",
        "df2['titulo'] = df2['titulo'].apply(lambda x: unidecode(x))\n",
        "df2['carrera'] = df2['carrera'].apply(lambda x: unidecode(x))"
      ],
      "metadata": {
        "id": "eGGS8Q_hgGf_"
      },
      "execution_count": 25,
      "outputs": []
    },
    {
      "cell_type": "code",
      "source": [
        "df2['carrera'] = df2['carrera'].str.replace('-', ' ')\n",
        "df2['titulo'] = df2['titulo'].str.replace('-', ' ')\n",
        "df2['institucion'] = df2['institucion'].str.replace('-', '')\n",
        "df2['institucion'] = df2['institucion'].str.replace('\"', '').str.replace('.', '')\n",
        "df2['institucion'] = df2['institucion'].str.replace(' \\t', '')\n",
        "df2['institucion'] = df2['institucion'].str.replace('\\t', '')\n",
        "df2['institucion'] = df2['institucion'].str.replace('  ', ' ')\n",
        "df2['institucion'] = df2['institucion'].str.upper()"
      ],
      "metadata": {
        "colab": {
          "base_uri": "https://localhost:8080/"
        },
        "id": "m4n8jQlLxEIr",
        "outputId": "1c7b4881-7510-4e6a-ffb5-ceab6629372c"
      },
      "execution_count": 26,
      "outputs": [
        {
          "output_type": "stream",
          "name": "stderr",
          "text": [
            "<ipython-input-26-719b16c2bf79>:4: FutureWarning: The default value of regex will change from True to False in a future version. In addition, single character regular expressions will *not* be treated as literal strings when regex=True.\n",
            "  df2['institucion'] = df2['institucion'].str.replace('\"', '').str.replace('.', '')\n"
          ]
        }
      ]
    },
    {
      "cell_type": "code",
      "source": [
        "df2['titulo'] = df2['titulo'].str.rstrip('/A').str.rstrip('/a')"
      ],
      "metadata": {
        "id": "w2YbmKongpAM"
      },
      "execution_count": 27,
      "outputs": []
    },
    {
      "cell_type": "code",
      "source": [
        "df2['titulo'] = df2['titulo'].str.replace('ESPECIALIST', 'ESPECIALISTA')\n",
        "df2['titulo'] = df2['titulo'].str.replace('INGENIERO/A ZOOTECNIST', 'INGENIERO ZOOTECNISTA')\n",
        "df2['titulo'] = df2['titulo'].str.replace('MEDICO/A CIRUJANO', 'MEDICO CIRUJANO')\n",
        "df2['titulo'] = df2['titulo'].str.replace('CONTADOR/A PUBLICO', 'CONTADOR PUBLICO')\n",
        "df2['titulo'] = df2['titulo'].str.replace('CONTADOR PUBLICO/A NACIONAL', 'CONTADOR PUBLICO NACIONAL')\n",
        "df2['titulo'] = df2['titulo'].str.replace('CONTADOR(A) PUBLICO NACIONAL', 'CONTADOR PUBLICO NACIONAL')"
      ],
      "metadata": {
        "colab": {
          "base_uri": "https://localhost:8080/"
        },
        "id": "_XU8-u9pxu3p",
        "outputId": "19878ccc-25d6-43e9-aae8-816834c630e9"
      },
      "execution_count": 28,
      "outputs": [
        {
          "output_type": "stream",
          "name": "stderr",
          "text": [
            "<ipython-input-28-5edc43c85d39>:6: FutureWarning: The default value of regex will change from True to False in a future version.\n",
            "  df2['titulo'] = df2['titulo'].str.replace('CONTADOR(A) PUBLICO NACIONAL', 'CONTADOR PUBLICO NACIONAL')\n"
          ]
        }
      ]
    },
    {
      "cell_type": "code",
      "source": [
        "df2.duplicated(['documento']).sum()"
      ],
      "metadata": {
        "colab": {
          "base_uri": "https://localhost:8080/"
        },
        "id": "saK2Aor17u8H",
        "outputId": "a94eaf14-129f-4521-bfbf-5d0f1c4363cc"
      },
      "execution_count": 29,
      "outputs": [
        {
          "output_type": "execute_result",
          "data": {
            "text/plain": [
              "6318"
            ]
          },
          "metadata": {},
          "execution_count": 29
        }
      ]
    },
    {
      "cell_type": "code",
      "source": [
        "df2.drop_duplicates(subset=['documento'], inplace=True)"
      ],
      "metadata": {
        "id": "a1IMmHUh7xM3"
      },
      "execution_count": 30,
      "outputs": []
    },
    {
      "cell_type": "code",
      "source": [
        "df2.isnull().sum()"
      ],
      "metadata": {
        "colab": {
          "base_uri": "https://localhost:8080/"
        },
        "id": "RWVvE9UxjyQV",
        "outputId": "7f479ae0-7e7f-4c3b-a0e8-b10dfc2205ff"
      },
      "execution_count": 31,
      "outputs": [
        {
          "output_type": "execute_result",
          "data": {
            "text/plain": [
              "documento             0\n",
              "carrera               0\n",
              "titulo                0\n",
              "tipo_institucion      0\n",
              "institucion           0\n",
              "sexo                133\n",
              "dtype: int64"
            ]
          },
          "metadata": {},
          "execution_count": 31
        }
      ]
    },
    {
      "cell_type": "code",
      "source": [
        "df2 = df2.dropna(subset=['sexo'])"
      ],
      "metadata": {
        "id": "Rkp_oc6Fkju_"
      },
      "execution_count": 32,
      "outputs": []
    },
    {
      "cell_type": "code",
      "source": [
        "df2"
      ],
      "metadata": {
        "colab": {
          "base_uri": "https://localhost:8080/",
          "height": 607
        },
        "id": "Ny06J7I-VVOn",
        "outputId": "1354a666-17a4-43fd-a141-4de0e88f8ca3"
      },
      "execution_count": 33,
      "outputs": [
        {
          "output_type": "execute_result",
          "data": {
            "text/plain": [
              "      documento                                            carrera  \\\n",
              "0       4866986                                   INGENIERIA CIVIL   \n",
              "1       4867832  PROFESORADO EN EDUCACION BILINGUE GUARANI   CA...   \n",
              "2       4865510                         ADMINISTRACION DE EMPRESAS   \n",
              "3       4868114                             COMERCIO INTERNACIONAL   \n",
              "4       4868999                                         BIOQUIMICA   \n",
              "...         ...                                                ...   \n",
              "84459   3611279  TECNICO DOCENTE EN INTEGRACION PEDAGOGICA DE L...   \n",
              "84460   1721721                                           MEDICINA   \n",
              "84461   1727015                                 OPERACIONES AEREAS   \n",
              "84462   3611509                               MEDICINA DEL TRABAJO   \n",
              "84463   1736838                                     LENGUA INGLESA   \n",
              "\n",
              "                                                  titulo  \\\n",
              "0                                        INGENIERO CIVIL   \n",
              "1      PROFESOR EN EDUCACION BILINGUE GUARANI   CASTE...   \n",
              "2                                             LICENCIADO   \n",
              "3                                             LICENCIADO   \n",
              "4                                             BIOQUIMICO   \n",
              "...                                                  ...   \n",
              "84459  TECNICO DOCENTE EN INTEGRACION PEDAGOGICA DE L...   \n",
              "84460                                             MEDICO   \n",
              "84461                                           MAGISTER   \n",
              "84462                                       ESPECIALISTA   \n",
              "84463                                         LICENCIADO   \n",
              "\n",
              "                     tipo_institucion  \\\n",
              "0                         UNIVERSIDAD   \n",
              "1                  INSTITUTO SUPERIOR   \n",
              "2                         UNIVERSIDAD   \n",
              "3                         UNIVERSIDAD   \n",
              "4                         UNIVERSIDAD   \n",
              "...                               ...   \n",
              "84459  INSTITUTO DE FORMACION DOCENTE   \n",
              "84460                     UNIVERSIDAD   \n",
              "84461              INSTITUTO SUPERIOR   \n",
              "84462                     UNIVERSIDAD   \n",
              "84463                     UNIVERSIDAD   \n",
              "\n",
              "                                             institucion    sexo  \n",
              "0      UNIVERSIDAD NACIONAL DE ASUNCION FACULTAD DE I...   MUJER  \n",
              "1      INSTITUTO DE LINGUISTICA GUARANI DEL PARAGUAY ...  HOMBRE  \n",
              "2                                  UNIVERSIDAD DEL NORTE   MUJER  \n",
              "3                                  UNIVERSIDAD AMERICANA   MUJER  \n",
              "4               UNIVERSIDAD NACIONAL DE ASUNCION QUIMICA  HOMBRE  \n",
              "...                                                  ...     ...  \n",
              "84459             INSTITUTO DE FORMACION DOCENTE CAAZAPA   MUJER  \n",
              "84460           UNIVERSIDAD INTERNACIONAL TRES FRONTERAS   MUJER  \n",
              "84461  COMANDO DE INSTITUTOS AERONAUTICOS DE ENSENANZ...   MUJER  \n",
              "84462                 UNIVERSIDAD CENTRO MEDICO BAUTISTA  HOMBRE  \n",
              "84463                UNIVERSIDAD EVANGELICA DEL PARAGUAY   MUJER  \n",
              "\n",
              "[78014 rows x 6 columns]"
            ],
            "text/html": [
              "\n",
              "  <div id=\"df-791246b9-251e-4f3d-8193-22bf2ea9187d\">\n",
              "    <div class=\"colab-df-container\">\n",
              "      <div>\n",
              "<style scoped>\n",
              "    .dataframe tbody tr th:only-of-type {\n",
              "        vertical-align: middle;\n",
              "    }\n",
              "\n",
              "    .dataframe tbody tr th {\n",
              "        vertical-align: top;\n",
              "    }\n",
              "\n",
              "    .dataframe thead th {\n",
              "        text-align: right;\n",
              "    }\n",
              "</style>\n",
              "<table border=\"1\" class=\"dataframe\">\n",
              "  <thead>\n",
              "    <tr style=\"text-align: right;\">\n",
              "      <th></th>\n",
              "      <th>documento</th>\n",
              "      <th>carrera</th>\n",
              "      <th>titulo</th>\n",
              "      <th>tipo_institucion</th>\n",
              "      <th>institucion</th>\n",
              "      <th>sexo</th>\n",
              "    </tr>\n",
              "  </thead>\n",
              "  <tbody>\n",
              "    <tr>\n",
              "      <th>0</th>\n",
              "      <td>4866986</td>\n",
              "      <td>INGENIERIA CIVIL</td>\n",
              "      <td>INGENIERO CIVIL</td>\n",
              "      <td>UNIVERSIDAD</td>\n",
              "      <td>UNIVERSIDAD NACIONAL DE ASUNCION FACULTAD DE I...</td>\n",
              "      <td>MUJER</td>\n",
              "    </tr>\n",
              "    <tr>\n",
              "      <th>1</th>\n",
              "      <td>4867832</td>\n",
              "      <td>PROFESORADO EN EDUCACION BILINGUE GUARANI   CA...</td>\n",
              "      <td>PROFESOR EN EDUCACION BILINGUE GUARANI   CASTE...</td>\n",
              "      <td>INSTITUTO SUPERIOR</td>\n",
              "      <td>INSTITUTO DE LINGUISTICA GUARANI DEL PARAGUAY ...</td>\n",
              "      <td>HOMBRE</td>\n",
              "    </tr>\n",
              "    <tr>\n",
              "      <th>2</th>\n",
              "      <td>4865510</td>\n",
              "      <td>ADMINISTRACION DE EMPRESAS</td>\n",
              "      <td>LICENCIADO</td>\n",
              "      <td>UNIVERSIDAD</td>\n",
              "      <td>UNIVERSIDAD DEL NORTE</td>\n",
              "      <td>MUJER</td>\n",
              "    </tr>\n",
              "    <tr>\n",
              "      <th>3</th>\n",
              "      <td>4868114</td>\n",
              "      <td>COMERCIO INTERNACIONAL</td>\n",
              "      <td>LICENCIADO</td>\n",
              "      <td>UNIVERSIDAD</td>\n",
              "      <td>UNIVERSIDAD AMERICANA</td>\n",
              "      <td>MUJER</td>\n",
              "    </tr>\n",
              "    <tr>\n",
              "      <th>4</th>\n",
              "      <td>4868999</td>\n",
              "      <td>BIOQUIMICA</td>\n",
              "      <td>BIOQUIMICO</td>\n",
              "      <td>UNIVERSIDAD</td>\n",
              "      <td>UNIVERSIDAD NACIONAL DE ASUNCION QUIMICA</td>\n",
              "      <td>HOMBRE</td>\n",
              "    </tr>\n",
              "    <tr>\n",
              "      <th>...</th>\n",
              "      <td>...</td>\n",
              "      <td>...</td>\n",
              "      <td>...</td>\n",
              "      <td>...</td>\n",
              "      <td>...</td>\n",
              "      <td>...</td>\n",
              "    </tr>\n",
              "    <tr>\n",
              "      <th>84459</th>\n",
              "      <td>3611279</td>\n",
              "      <td>TECNICO DOCENTE EN INTEGRACION PEDAGOGICA DE L...</td>\n",
              "      <td>TECNICO DOCENTE EN INTEGRACION PEDAGOGICA DE L...</td>\n",
              "      <td>INSTITUTO DE FORMACION DOCENTE</td>\n",
              "      <td>INSTITUTO DE FORMACION DOCENTE CAAZAPA</td>\n",
              "      <td>MUJER</td>\n",
              "    </tr>\n",
              "    <tr>\n",
              "      <th>84460</th>\n",
              "      <td>1721721</td>\n",
              "      <td>MEDICINA</td>\n",
              "      <td>MEDICO</td>\n",
              "      <td>UNIVERSIDAD</td>\n",
              "      <td>UNIVERSIDAD INTERNACIONAL TRES FRONTERAS</td>\n",
              "      <td>MUJER</td>\n",
              "    </tr>\n",
              "    <tr>\n",
              "      <th>84461</th>\n",
              "      <td>1727015</td>\n",
              "      <td>OPERACIONES AEREAS</td>\n",
              "      <td>MAGISTER</td>\n",
              "      <td>INSTITUTO SUPERIOR</td>\n",
              "      <td>COMANDO DE INSTITUTOS AERONAUTICOS DE ENSENANZ...</td>\n",
              "      <td>MUJER</td>\n",
              "    </tr>\n",
              "    <tr>\n",
              "      <th>84462</th>\n",
              "      <td>3611509</td>\n",
              "      <td>MEDICINA DEL TRABAJO</td>\n",
              "      <td>ESPECIALISTA</td>\n",
              "      <td>UNIVERSIDAD</td>\n",
              "      <td>UNIVERSIDAD CENTRO MEDICO BAUTISTA</td>\n",
              "      <td>HOMBRE</td>\n",
              "    </tr>\n",
              "    <tr>\n",
              "      <th>84463</th>\n",
              "      <td>1736838</td>\n",
              "      <td>LENGUA INGLESA</td>\n",
              "      <td>LICENCIADO</td>\n",
              "      <td>UNIVERSIDAD</td>\n",
              "      <td>UNIVERSIDAD EVANGELICA DEL PARAGUAY</td>\n",
              "      <td>MUJER</td>\n",
              "    </tr>\n",
              "  </tbody>\n",
              "</table>\n",
              "<p>78014 rows × 6 columns</p>\n",
              "</div>\n",
              "      <button class=\"colab-df-convert\" onclick=\"convertToInteractive('df-791246b9-251e-4f3d-8193-22bf2ea9187d')\"\n",
              "              title=\"Convert this dataframe to an interactive table.\"\n",
              "              style=\"display:none;\">\n",
              "        \n",
              "  <svg xmlns=\"http://www.w3.org/2000/svg\" height=\"24px\"viewBox=\"0 0 24 24\"\n",
              "       width=\"24px\">\n",
              "    <path d=\"M0 0h24v24H0V0z\" fill=\"none\"/>\n",
              "    <path d=\"M18.56 5.44l.94 2.06.94-2.06 2.06-.94-2.06-.94-.94-2.06-.94 2.06-2.06.94zm-11 1L8.5 8.5l.94-2.06 2.06-.94-2.06-.94L8.5 2.5l-.94 2.06-2.06.94zm10 10l.94 2.06.94-2.06 2.06-.94-2.06-.94-.94-2.06-.94 2.06-2.06.94z\"/><path d=\"M17.41 7.96l-1.37-1.37c-.4-.4-.92-.59-1.43-.59-.52 0-1.04.2-1.43.59L10.3 9.45l-7.72 7.72c-.78.78-.78 2.05 0 2.83L4 21.41c.39.39.9.59 1.41.59.51 0 1.02-.2 1.41-.59l7.78-7.78 2.81-2.81c.8-.78.8-2.07 0-2.86zM5.41 20L4 18.59l7.72-7.72 1.47 1.35L5.41 20z\"/>\n",
              "  </svg>\n",
              "      </button>\n",
              "      \n",
              "  <style>\n",
              "    .colab-df-container {\n",
              "      display:flex;\n",
              "      flex-wrap:wrap;\n",
              "      gap: 12px;\n",
              "    }\n",
              "\n",
              "    .colab-df-convert {\n",
              "      background-color: #E8F0FE;\n",
              "      border: none;\n",
              "      border-radius: 50%;\n",
              "      cursor: pointer;\n",
              "      display: none;\n",
              "      fill: #1967D2;\n",
              "      height: 32px;\n",
              "      padding: 0 0 0 0;\n",
              "      width: 32px;\n",
              "    }\n",
              "\n",
              "    .colab-df-convert:hover {\n",
              "      background-color: #E2EBFA;\n",
              "      box-shadow: 0px 1px 2px rgba(60, 64, 67, 0.3), 0px 1px 3px 1px rgba(60, 64, 67, 0.15);\n",
              "      fill: #174EA6;\n",
              "    }\n",
              "\n",
              "    [theme=dark] .colab-df-convert {\n",
              "      background-color: #3B4455;\n",
              "      fill: #D2E3FC;\n",
              "    }\n",
              "\n",
              "    [theme=dark] .colab-df-convert:hover {\n",
              "      background-color: #434B5C;\n",
              "      box-shadow: 0px 1px 3px 1px rgba(0, 0, 0, 0.15);\n",
              "      filter: drop-shadow(0px 1px 2px rgba(0, 0, 0, 0.3));\n",
              "      fill: #FFFFFF;\n",
              "    }\n",
              "  </style>\n",
              "\n",
              "      <script>\n",
              "        const buttonEl =\n",
              "          document.querySelector('#df-791246b9-251e-4f3d-8193-22bf2ea9187d button.colab-df-convert');\n",
              "        buttonEl.style.display =\n",
              "          google.colab.kernel.accessAllowed ? 'block' : 'none';\n",
              "\n",
              "        async function convertToInteractive(key) {\n",
              "          const element = document.querySelector('#df-791246b9-251e-4f3d-8193-22bf2ea9187d');\n",
              "          const dataTable =\n",
              "            await google.colab.kernel.invokeFunction('convertToInteractive',\n",
              "                                                     [key], {});\n",
              "          if (!dataTable) return;\n",
              "\n",
              "          const docLinkHtml = 'Like what you see? Visit the ' +\n",
              "            '<a target=\"_blank\" href=https://colab.research.google.com/notebooks/data_table.ipynb>data table notebook</a>'\n",
              "            + ' to learn more about interactive tables.';\n",
              "          element.innerHTML = '';\n",
              "          dataTable['output_type'] = 'display_data';\n",
              "          await google.colab.output.renderOutput(dataTable, element);\n",
              "          const docLink = document.createElement('div');\n",
              "          docLink.innerHTML = docLinkHtml;\n",
              "          element.appendChild(docLink);\n",
              "        }\n",
              "      </script>\n",
              "    </div>\n",
              "  </div>\n",
              "  "
            ]
          },
          "metadata": {},
          "execution_count": 33
        }
      ]
    },
    {
      "cell_type": "code",
      "source": [
        "eg = df2.copy()"
      ],
      "metadata": {
        "id": "Db8bhZgZZTW2"
      },
      "execution_count": 34,
      "outputs": []
    },
    {
      "cell_type": "code",
      "source": [
        "eg"
      ],
      "metadata": {
        "colab": {
          "base_uri": "https://localhost:8080/",
          "height": 607
        },
        "id": "CX-c3N8zZ1lI",
        "outputId": "05a46597-3841-4fcc-9f27-e91f43e59972"
      },
      "execution_count": 35,
      "outputs": [
        {
          "output_type": "execute_result",
          "data": {
            "text/plain": [
              "      documento                                            carrera  \\\n",
              "0       4866986                                   INGENIERIA CIVIL   \n",
              "1       4867832  PROFESORADO EN EDUCACION BILINGUE GUARANI   CA...   \n",
              "2       4865510                         ADMINISTRACION DE EMPRESAS   \n",
              "3       4868114                             COMERCIO INTERNACIONAL   \n",
              "4       4868999                                         BIOQUIMICA   \n",
              "...         ...                                                ...   \n",
              "84459   3611279  TECNICO DOCENTE EN INTEGRACION PEDAGOGICA DE L...   \n",
              "84460   1721721                                           MEDICINA   \n",
              "84461   1727015                                 OPERACIONES AEREAS   \n",
              "84462   3611509                               MEDICINA DEL TRABAJO   \n",
              "84463   1736838                                     LENGUA INGLESA   \n",
              "\n",
              "                                                  titulo  \\\n",
              "0                                        INGENIERO CIVIL   \n",
              "1      PROFESOR EN EDUCACION BILINGUE GUARANI   CASTE...   \n",
              "2                                             LICENCIADO   \n",
              "3                                             LICENCIADO   \n",
              "4                                             BIOQUIMICO   \n",
              "...                                                  ...   \n",
              "84459  TECNICO DOCENTE EN INTEGRACION PEDAGOGICA DE L...   \n",
              "84460                                             MEDICO   \n",
              "84461                                           MAGISTER   \n",
              "84462                                       ESPECIALISTA   \n",
              "84463                                         LICENCIADO   \n",
              "\n",
              "                     tipo_institucion  \\\n",
              "0                         UNIVERSIDAD   \n",
              "1                  INSTITUTO SUPERIOR   \n",
              "2                         UNIVERSIDAD   \n",
              "3                         UNIVERSIDAD   \n",
              "4                         UNIVERSIDAD   \n",
              "...                               ...   \n",
              "84459  INSTITUTO DE FORMACION DOCENTE   \n",
              "84460                     UNIVERSIDAD   \n",
              "84461              INSTITUTO SUPERIOR   \n",
              "84462                     UNIVERSIDAD   \n",
              "84463                     UNIVERSIDAD   \n",
              "\n",
              "                                             institucion    sexo  \n",
              "0      UNIVERSIDAD NACIONAL DE ASUNCION FACULTAD DE I...   MUJER  \n",
              "1      INSTITUTO DE LINGUISTICA GUARANI DEL PARAGUAY ...  HOMBRE  \n",
              "2                                  UNIVERSIDAD DEL NORTE   MUJER  \n",
              "3                                  UNIVERSIDAD AMERICANA   MUJER  \n",
              "4               UNIVERSIDAD NACIONAL DE ASUNCION QUIMICA  HOMBRE  \n",
              "...                                                  ...     ...  \n",
              "84459             INSTITUTO DE FORMACION DOCENTE CAAZAPA   MUJER  \n",
              "84460           UNIVERSIDAD INTERNACIONAL TRES FRONTERAS   MUJER  \n",
              "84461  COMANDO DE INSTITUTOS AERONAUTICOS DE ENSENANZ...   MUJER  \n",
              "84462                 UNIVERSIDAD CENTRO MEDICO BAUTISTA  HOMBRE  \n",
              "84463                UNIVERSIDAD EVANGELICA DEL PARAGUAY   MUJER  \n",
              "\n",
              "[78014 rows x 6 columns]"
            ],
            "text/html": [
              "\n",
              "  <div id=\"df-9186165e-cc16-421b-b04f-625b5f45e4fd\">\n",
              "    <div class=\"colab-df-container\">\n",
              "      <div>\n",
              "<style scoped>\n",
              "    .dataframe tbody tr th:only-of-type {\n",
              "        vertical-align: middle;\n",
              "    }\n",
              "\n",
              "    .dataframe tbody tr th {\n",
              "        vertical-align: top;\n",
              "    }\n",
              "\n",
              "    .dataframe thead th {\n",
              "        text-align: right;\n",
              "    }\n",
              "</style>\n",
              "<table border=\"1\" class=\"dataframe\">\n",
              "  <thead>\n",
              "    <tr style=\"text-align: right;\">\n",
              "      <th></th>\n",
              "      <th>documento</th>\n",
              "      <th>carrera</th>\n",
              "      <th>titulo</th>\n",
              "      <th>tipo_institucion</th>\n",
              "      <th>institucion</th>\n",
              "      <th>sexo</th>\n",
              "    </tr>\n",
              "  </thead>\n",
              "  <tbody>\n",
              "    <tr>\n",
              "      <th>0</th>\n",
              "      <td>4866986</td>\n",
              "      <td>INGENIERIA CIVIL</td>\n",
              "      <td>INGENIERO CIVIL</td>\n",
              "      <td>UNIVERSIDAD</td>\n",
              "      <td>UNIVERSIDAD NACIONAL DE ASUNCION FACULTAD DE I...</td>\n",
              "      <td>MUJER</td>\n",
              "    </tr>\n",
              "    <tr>\n",
              "      <th>1</th>\n",
              "      <td>4867832</td>\n",
              "      <td>PROFESORADO EN EDUCACION BILINGUE GUARANI   CA...</td>\n",
              "      <td>PROFESOR EN EDUCACION BILINGUE GUARANI   CASTE...</td>\n",
              "      <td>INSTITUTO SUPERIOR</td>\n",
              "      <td>INSTITUTO DE LINGUISTICA GUARANI DEL PARAGUAY ...</td>\n",
              "      <td>HOMBRE</td>\n",
              "    </tr>\n",
              "    <tr>\n",
              "      <th>2</th>\n",
              "      <td>4865510</td>\n",
              "      <td>ADMINISTRACION DE EMPRESAS</td>\n",
              "      <td>LICENCIADO</td>\n",
              "      <td>UNIVERSIDAD</td>\n",
              "      <td>UNIVERSIDAD DEL NORTE</td>\n",
              "      <td>MUJER</td>\n",
              "    </tr>\n",
              "    <tr>\n",
              "      <th>3</th>\n",
              "      <td>4868114</td>\n",
              "      <td>COMERCIO INTERNACIONAL</td>\n",
              "      <td>LICENCIADO</td>\n",
              "      <td>UNIVERSIDAD</td>\n",
              "      <td>UNIVERSIDAD AMERICANA</td>\n",
              "      <td>MUJER</td>\n",
              "    </tr>\n",
              "    <tr>\n",
              "      <th>4</th>\n",
              "      <td>4868999</td>\n",
              "      <td>BIOQUIMICA</td>\n",
              "      <td>BIOQUIMICO</td>\n",
              "      <td>UNIVERSIDAD</td>\n",
              "      <td>UNIVERSIDAD NACIONAL DE ASUNCION QUIMICA</td>\n",
              "      <td>HOMBRE</td>\n",
              "    </tr>\n",
              "    <tr>\n",
              "      <th>...</th>\n",
              "      <td>...</td>\n",
              "      <td>...</td>\n",
              "      <td>...</td>\n",
              "      <td>...</td>\n",
              "      <td>...</td>\n",
              "      <td>...</td>\n",
              "    </tr>\n",
              "    <tr>\n",
              "      <th>84459</th>\n",
              "      <td>3611279</td>\n",
              "      <td>TECNICO DOCENTE EN INTEGRACION PEDAGOGICA DE L...</td>\n",
              "      <td>TECNICO DOCENTE EN INTEGRACION PEDAGOGICA DE L...</td>\n",
              "      <td>INSTITUTO DE FORMACION DOCENTE</td>\n",
              "      <td>INSTITUTO DE FORMACION DOCENTE CAAZAPA</td>\n",
              "      <td>MUJER</td>\n",
              "    </tr>\n",
              "    <tr>\n",
              "      <th>84460</th>\n",
              "      <td>1721721</td>\n",
              "      <td>MEDICINA</td>\n",
              "      <td>MEDICO</td>\n",
              "      <td>UNIVERSIDAD</td>\n",
              "      <td>UNIVERSIDAD INTERNACIONAL TRES FRONTERAS</td>\n",
              "      <td>MUJER</td>\n",
              "    </tr>\n",
              "    <tr>\n",
              "      <th>84461</th>\n",
              "      <td>1727015</td>\n",
              "      <td>OPERACIONES AEREAS</td>\n",
              "      <td>MAGISTER</td>\n",
              "      <td>INSTITUTO SUPERIOR</td>\n",
              "      <td>COMANDO DE INSTITUTOS AERONAUTICOS DE ENSENANZ...</td>\n",
              "      <td>MUJER</td>\n",
              "    </tr>\n",
              "    <tr>\n",
              "      <th>84462</th>\n",
              "      <td>3611509</td>\n",
              "      <td>MEDICINA DEL TRABAJO</td>\n",
              "      <td>ESPECIALISTA</td>\n",
              "      <td>UNIVERSIDAD</td>\n",
              "      <td>UNIVERSIDAD CENTRO MEDICO BAUTISTA</td>\n",
              "      <td>HOMBRE</td>\n",
              "    </tr>\n",
              "    <tr>\n",
              "      <th>84463</th>\n",
              "      <td>1736838</td>\n",
              "      <td>LENGUA INGLESA</td>\n",
              "      <td>LICENCIADO</td>\n",
              "      <td>UNIVERSIDAD</td>\n",
              "      <td>UNIVERSIDAD EVANGELICA DEL PARAGUAY</td>\n",
              "      <td>MUJER</td>\n",
              "    </tr>\n",
              "  </tbody>\n",
              "</table>\n",
              "<p>78014 rows × 6 columns</p>\n",
              "</div>\n",
              "      <button class=\"colab-df-convert\" onclick=\"convertToInteractive('df-9186165e-cc16-421b-b04f-625b5f45e4fd')\"\n",
              "              title=\"Convert this dataframe to an interactive table.\"\n",
              "              style=\"display:none;\">\n",
              "        \n",
              "  <svg xmlns=\"http://www.w3.org/2000/svg\" height=\"24px\"viewBox=\"0 0 24 24\"\n",
              "       width=\"24px\">\n",
              "    <path d=\"M0 0h24v24H0V0z\" fill=\"none\"/>\n",
              "    <path d=\"M18.56 5.44l.94 2.06.94-2.06 2.06-.94-2.06-.94-.94-2.06-.94 2.06-2.06.94zm-11 1L8.5 8.5l.94-2.06 2.06-.94-2.06-.94L8.5 2.5l-.94 2.06-2.06.94zm10 10l.94 2.06.94-2.06 2.06-.94-2.06-.94-.94-2.06-.94 2.06-2.06.94z\"/><path d=\"M17.41 7.96l-1.37-1.37c-.4-.4-.92-.59-1.43-.59-.52 0-1.04.2-1.43.59L10.3 9.45l-7.72 7.72c-.78.78-.78 2.05 0 2.83L4 21.41c.39.39.9.59 1.41.59.51 0 1.02-.2 1.41-.59l7.78-7.78 2.81-2.81c.8-.78.8-2.07 0-2.86zM5.41 20L4 18.59l7.72-7.72 1.47 1.35L5.41 20z\"/>\n",
              "  </svg>\n",
              "      </button>\n",
              "      \n",
              "  <style>\n",
              "    .colab-df-container {\n",
              "      display:flex;\n",
              "      flex-wrap:wrap;\n",
              "      gap: 12px;\n",
              "    }\n",
              "\n",
              "    .colab-df-convert {\n",
              "      background-color: #E8F0FE;\n",
              "      border: none;\n",
              "      border-radius: 50%;\n",
              "      cursor: pointer;\n",
              "      display: none;\n",
              "      fill: #1967D2;\n",
              "      height: 32px;\n",
              "      padding: 0 0 0 0;\n",
              "      width: 32px;\n",
              "    }\n",
              "\n",
              "    .colab-df-convert:hover {\n",
              "      background-color: #E2EBFA;\n",
              "      box-shadow: 0px 1px 2px rgba(60, 64, 67, 0.3), 0px 1px 3px 1px rgba(60, 64, 67, 0.15);\n",
              "      fill: #174EA6;\n",
              "    }\n",
              "\n",
              "    [theme=dark] .colab-df-convert {\n",
              "      background-color: #3B4455;\n",
              "      fill: #D2E3FC;\n",
              "    }\n",
              "\n",
              "    [theme=dark] .colab-df-convert:hover {\n",
              "      background-color: #434B5C;\n",
              "      box-shadow: 0px 1px 3px 1px rgba(0, 0, 0, 0.15);\n",
              "      filter: drop-shadow(0px 1px 2px rgba(0, 0, 0, 0.3));\n",
              "      fill: #FFFFFF;\n",
              "    }\n",
              "  </style>\n",
              "\n",
              "      <script>\n",
              "        const buttonEl =\n",
              "          document.querySelector('#df-9186165e-cc16-421b-b04f-625b5f45e4fd button.colab-df-convert');\n",
              "        buttonEl.style.display =\n",
              "          google.colab.kernel.accessAllowed ? 'block' : 'none';\n",
              "\n",
              "        async function convertToInteractive(key) {\n",
              "          const element = document.querySelector('#df-9186165e-cc16-421b-b04f-625b5f45e4fd');\n",
              "          const dataTable =\n",
              "            await google.colab.kernel.invokeFunction('convertToInteractive',\n",
              "                                                     [key], {});\n",
              "          if (!dataTable) return;\n",
              "\n",
              "          const docLinkHtml = 'Like what you see? Visit the ' +\n",
              "            '<a target=\"_blank\" href=https://colab.research.google.com/notebooks/data_table.ipynb>data table notebook</a>'\n",
              "            + ' to learn more about interactive tables.';\n",
              "          element.innerHTML = '';\n",
              "          dataTable['output_type'] = 'display_data';\n",
              "          await google.colab.output.renderOutput(dataTable, element);\n",
              "          const docLink = document.createElement('div');\n",
              "          docLink.innerHTML = docLinkHtml;\n",
              "          element.appendChild(docLink);\n",
              "        }\n",
              "      </script>\n",
              "    </div>\n",
              "  </div>\n",
              "  "
            ]
          },
          "metadata": {},
          "execution_count": 35
        }
      ]
    },
    {
      "cell_type": "code",
      "source": [
        "ins = df.copy()"
      ],
      "metadata": {
        "id": "YqdHPRsyZWS6"
      },
      "execution_count": 36,
      "outputs": []
    },
    {
      "cell_type": "code",
      "source": [
        "ins"
      ],
      "metadata": {
        "colab": {
          "base_uri": "https://localhost:8080/",
          "height": 815
        },
        "id": "K01tU3MXZmUS",
        "outputId": "89511cb2-adc7-4118-c7d8-d7f458f80c87"
      },
      "execution_count": 37,
      "outputs": [
        {
          "output_type": "execute_result",
          "data": {
            "text/plain": [
              "                                      nombre_institucion  \\\n",
              "0          INSTITUTO TECNICO SUPERIOR SANTA ROSA MISTICA   \n",
              "1      UNIVERSIDAD CATOLICA NUESTRA SENORA DE LA ASUN...   \n",
              "2                 INSTITUTO TECNICO SUPERIOR DEL ROSARIO   \n",
              "3              INSTITUTO TECNICO SUPERIOR DE AERONAUTICA   \n",
              "4       INSTITUTO DE FORMACION DOCENTE DE CORONEL OVIEDO   \n",
              "...                                                  ...   \n",
              "12435  CENTRO REGIONAL DE EDUCACION DR JOSE GASPAR RO...   \n",
              "12436     INSTITUTO TECNICO SUPERIOR FISIOMEDIC PARAGUAY   \n",
              "12437                  UNIVERSIDAD AUTONOMA DEL PARAGUAY   \n",
              "12438           UNIVERSIDAD TECNOLOGICA INTERCONTINENTAL   \n",
              "12439  INSTITUTO TECNICO SUPERIOR DEL SERVICIO NACION...   \n",
              "\n",
              "                     tipo_institucion departamento              distrito  \\\n",
              "0          INSTITUTO TECNICO SUPERIOR   CONCEPCION            CONCEPCION   \n",
              "1                         UNIVERSIDAD       GUAIRA            VILLARRICA   \n",
              "2          INSTITUTO TECNICO SUPERIOR       ITAPUA              OBLIGADO   \n",
              "3          INSTITUTO TECNICO SUPERIOR      CENTRAL                 LUQUE   \n",
              "4      INSTITUTO DE FORMACION DOCENTE     CAAGUAZU        CORONEL OVIEDO   \n",
              "...                               ...          ...                   ...   \n",
              "12435    CENTRO REGIONAL DE EDUCACION  ALTO PARANA       CIUDAD DEL ESTE   \n",
              "12436      INSTITUTO TECNICO SUPERIOR      CENTRAL                 LUQUE   \n",
              "12437                     UNIVERSIDAD      CAPITAL              ASUNCION   \n",
              "12438                     UNIVERSIDAD      AMAMBAY  PEDRO JUAN CABALLERO   \n",
              "12439      INSTITUTO TECNICO SUPERIOR     CAAGUAZU        CORONEL OVIEDO   \n",
              "\n",
              "                                    denominacion_carrera  \\\n",
              "0             TECNICATURA EN ADMINISTRACION HOSPITALARIA   \n",
              "1                              CONTADOR PUBLICO NACIONAL   \n",
              "2                                           AGRONEGOCIOS   \n",
              "3                   INTERPRETE DE INSTRUMENTOS MUSICALES   \n",
              "4      PROFESORADO DE EDUCACION ESCOLAR BASICA PARA E...   \n",
              "...                                                  ...   \n",
              "12435  INNOVACIONES EN LA METODOLOGIA DE LA FORMACION...   \n",
              "12436                                             VENTAS   \n",
              "12437                                    PROTESIS DENTAL   \n",
              "12438                                         MATEMATICA   \n",
              "12439                             ELECTRONICA INDUSTRIAL   \n",
              "\n",
              "                                     denominacion_titulo  \\\n",
              "0                                              DIPLOMADO   \n",
              "1                              CONTADOR PUBLICO NACIONAL   \n",
              "2                       TECNICO SUPERIOR EN AGRONEGOCIOS   \n",
              "3      TECNICO SUPERIOR EN INTERPRETE DE INSTRUMENTOS...   \n",
              "4      PROFESOR DE EDUCACION ESCOLAR BASICA PARA EL 1...   \n",
              "...                                                  ...   \n",
              "12435                                        CERTIFICADO   \n",
              "12436                         TECNICO SUPERIOR EN VENTAS   \n",
              "12437                TECNICO SUPERIOR EN PROTESIS DENTAL   \n",
              "12438                                         LICENCIADO   \n",
              "12439         TECNICO SUPERIOR EN ELECTRONICA INDUSTRIAL   \n",
              "\n",
              "                                        nivel_titulacion  \n",
              "0      EDUCACION DE PRE GRADO   EDUCACION TECNICA SUP...  \n",
              "1                                     EDUCACION DE GRADO  \n",
              "2      EDUCACION DE PRE GRADO   EDUCACION TECNICA SUP...  \n",
              "3      EDUCACION DE PRE GRADO   EDUCACION TECNICA SUP...  \n",
              "4      EDUCACION DE PRE GRADO (FORMACION DOCENTE INIC...  \n",
              "...                                                  ...  \n",
              "12435  EDUCACION DE PRE GRADO (FORMACION DOCENTE CONT...  \n",
              "12436  EDUCACION DE PRE GRADO   EDUCACION TECNICA SUP...  \n",
              "12437  EDUCACION DE PRE GRADO   EDUCACION TECNICA SUP...  \n",
              "12438                                 EDUCACION DE GRADO  \n",
              "12439  EDUCACION DE PRE GRADO   EDUCACION TECNICA SUP...  \n",
              "\n",
              "[12440 rows x 7 columns]"
            ],
            "text/html": [
              "\n",
              "  <div id=\"df-a51d6a6f-fef7-4f7e-b836-c2d2d9b71449\">\n",
              "    <div class=\"colab-df-container\">\n",
              "      <div>\n",
              "<style scoped>\n",
              "    .dataframe tbody tr th:only-of-type {\n",
              "        vertical-align: middle;\n",
              "    }\n",
              "\n",
              "    .dataframe tbody tr th {\n",
              "        vertical-align: top;\n",
              "    }\n",
              "\n",
              "    .dataframe thead th {\n",
              "        text-align: right;\n",
              "    }\n",
              "</style>\n",
              "<table border=\"1\" class=\"dataframe\">\n",
              "  <thead>\n",
              "    <tr style=\"text-align: right;\">\n",
              "      <th></th>\n",
              "      <th>nombre_institucion</th>\n",
              "      <th>tipo_institucion</th>\n",
              "      <th>departamento</th>\n",
              "      <th>distrito</th>\n",
              "      <th>denominacion_carrera</th>\n",
              "      <th>denominacion_titulo</th>\n",
              "      <th>nivel_titulacion</th>\n",
              "    </tr>\n",
              "  </thead>\n",
              "  <tbody>\n",
              "    <tr>\n",
              "      <th>0</th>\n",
              "      <td>INSTITUTO TECNICO SUPERIOR SANTA ROSA MISTICA</td>\n",
              "      <td>INSTITUTO TECNICO SUPERIOR</td>\n",
              "      <td>CONCEPCION</td>\n",
              "      <td>CONCEPCION</td>\n",
              "      <td>TECNICATURA EN ADMINISTRACION HOSPITALARIA</td>\n",
              "      <td>DIPLOMADO</td>\n",
              "      <td>EDUCACION DE PRE GRADO   EDUCACION TECNICA SUP...</td>\n",
              "    </tr>\n",
              "    <tr>\n",
              "      <th>1</th>\n",
              "      <td>UNIVERSIDAD CATOLICA NUESTRA SENORA DE LA ASUN...</td>\n",
              "      <td>UNIVERSIDAD</td>\n",
              "      <td>GUAIRA</td>\n",
              "      <td>VILLARRICA</td>\n",
              "      <td>CONTADOR PUBLICO NACIONAL</td>\n",
              "      <td>CONTADOR PUBLICO NACIONAL</td>\n",
              "      <td>EDUCACION DE GRADO</td>\n",
              "    </tr>\n",
              "    <tr>\n",
              "      <th>2</th>\n",
              "      <td>INSTITUTO TECNICO SUPERIOR DEL ROSARIO</td>\n",
              "      <td>INSTITUTO TECNICO SUPERIOR</td>\n",
              "      <td>ITAPUA</td>\n",
              "      <td>OBLIGADO</td>\n",
              "      <td>AGRONEGOCIOS</td>\n",
              "      <td>TECNICO SUPERIOR EN AGRONEGOCIOS</td>\n",
              "      <td>EDUCACION DE PRE GRADO   EDUCACION TECNICA SUP...</td>\n",
              "    </tr>\n",
              "    <tr>\n",
              "      <th>3</th>\n",
              "      <td>INSTITUTO TECNICO SUPERIOR DE AERONAUTICA</td>\n",
              "      <td>INSTITUTO TECNICO SUPERIOR</td>\n",
              "      <td>CENTRAL</td>\n",
              "      <td>LUQUE</td>\n",
              "      <td>INTERPRETE DE INSTRUMENTOS MUSICALES</td>\n",
              "      <td>TECNICO SUPERIOR EN INTERPRETE DE INSTRUMENTOS...</td>\n",
              "      <td>EDUCACION DE PRE GRADO   EDUCACION TECNICA SUP...</td>\n",
              "    </tr>\n",
              "    <tr>\n",
              "      <th>4</th>\n",
              "      <td>INSTITUTO DE FORMACION DOCENTE DE CORONEL OVIEDO</td>\n",
              "      <td>INSTITUTO DE FORMACION DOCENTE</td>\n",
              "      <td>CAAGUAZU</td>\n",
              "      <td>CORONEL OVIEDO</td>\n",
              "      <td>PROFESORADO DE EDUCACION ESCOLAR BASICA PARA E...</td>\n",
              "      <td>PROFESOR DE EDUCACION ESCOLAR BASICA PARA EL 1...</td>\n",
              "      <td>EDUCACION DE PRE GRADO (FORMACION DOCENTE INIC...</td>\n",
              "    </tr>\n",
              "    <tr>\n",
              "      <th>...</th>\n",
              "      <td>...</td>\n",
              "      <td>...</td>\n",
              "      <td>...</td>\n",
              "      <td>...</td>\n",
              "      <td>...</td>\n",
              "      <td>...</td>\n",
              "      <td>...</td>\n",
              "    </tr>\n",
              "    <tr>\n",
              "      <th>12435</th>\n",
              "      <td>CENTRO REGIONAL DE EDUCACION DR JOSE GASPAR RO...</td>\n",
              "      <td>CENTRO REGIONAL DE EDUCACION</td>\n",
              "      <td>ALTO PARANA</td>\n",
              "      <td>CIUDAD DEL ESTE</td>\n",
              "      <td>INNOVACIONES EN LA METODOLOGIA DE LA FORMACION...</td>\n",
              "      <td>CERTIFICADO</td>\n",
              "      <td>EDUCACION DE PRE GRADO (FORMACION DOCENTE CONT...</td>\n",
              "    </tr>\n",
              "    <tr>\n",
              "      <th>12436</th>\n",
              "      <td>INSTITUTO TECNICO SUPERIOR FISIOMEDIC PARAGUAY</td>\n",
              "      <td>INSTITUTO TECNICO SUPERIOR</td>\n",
              "      <td>CENTRAL</td>\n",
              "      <td>LUQUE</td>\n",
              "      <td>VENTAS</td>\n",
              "      <td>TECNICO SUPERIOR EN VENTAS</td>\n",
              "      <td>EDUCACION DE PRE GRADO   EDUCACION TECNICA SUP...</td>\n",
              "    </tr>\n",
              "    <tr>\n",
              "      <th>12437</th>\n",
              "      <td>UNIVERSIDAD AUTONOMA DEL PARAGUAY</td>\n",
              "      <td>UNIVERSIDAD</td>\n",
              "      <td>CAPITAL</td>\n",
              "      <td>ASUNCION</td>\n",
              "      <td>PROTESIS DENTAL</td>\n",
              "      <td>TECNICO SUPERIOR EN PROTESIS DENTAL</td>\n",
              "      <td>EDUCACION DE PRE GRADO   EDUCACION TECNICA SUP...</td>\n",
              "    </tr>\n",
              "    <tr>\n",
              "      <th>12438</th>\n",
              "      <td>UNIVERSIDAD TECNOLOGICA INTERCONTINENTAL</td>\n",
              "      <td>UNIVERSIDAD</td>\n",
              "      <td>AMAMBAY</td>\n",
              "      <td>PEDRO JUAN CABALLERO</td>\n",
              "      <td>MATEMATICA</td>\n",
              "      <td>LICENCIADO</td>\n",
              "      <td>EDUCACION DE GRADO</td>\n",
              "    </tr>\n",
              "    <tr>\n",
              "      <th>12439</th>\n",
              "      <td>INSTITUTO TECNICO SUPERIOR DEL SERVICIO NACION...</td>\n",
              "      <td>INSTITUTO TECNICO SUPERIOR</td>\n",
              "      <td>CAAGUAZU</td>\n",
              "      <td>CORONEL OVIEDO</td>\n",
              "      <td>ELECTRONICA INDUSTRIAL</td>\n",
              "      <td>TECNICO SUPERIOR EN ELECTRONICA INDUSTRIAL</td>\n",
              "      <td>EDUCACION DE PRE GRADO   EDUCACION TECNICA SUP...</td>\n",
              "    </tr>\n",
              "  </tbody>\n",
              "</table>\n",
              "<p>12440 rows × 7 columns</p>\n",
              "</div>\n",
              "      <button class=\"colab-df-convert\" onclick=\"convertToInteractive('df-a51d6a6f-fef7-4f7e-b836-c2d2d9b71449')\"\n",
              "              title=\"Convert this dataframe to an interactive table.\"\n",
              "              style=\"display:none;\">\n",
              "        \n",
              "  <svg xmlns=\"http://www.w3.org/2000/svg\" height=\"24px\"viewBox=\"0 0 24 24\"\n",
              "       width=\"24px\">\n",
              "    <path d=\"M0 0h24v24H0V0z\" fill=\"none\"/>\n",
              "    <path d=\"M18.56 5.44l.94 2.06.94-2.06 2.06-.94-2.06-.94-.94-2.06-.94 2.06-2.06.94zm-11 1L8.5 8.5l.94-2.06 2.06-.94-2.06-.94L8.5 2.5l-.94 2.06-2.06.94zm10 10l.94 2.06.94-2.06 2.06-.94-2.06-.94-.94-2.06-.94 2.06-2.06.94z\"/><path d=\"M17.41 7.96l-1.37-1.37c-.4-.4-.92-.59-1.43-.59-.52 0-1.04.2-1.43.59L10.3 9.45l-7.72 7.72c-.78.78-.78 2.05 0 2.83L4 21.41c.39.39.9.59 1.41.59.51 0 1.02-.2 1.41-.59l7.78-7.78 2.81-2.81c.8-.78.8-2.07 0-2.86zM5.41 20L4 18.59l7.72-7.72 1.47 1.35L5.41 20z\"/>\n",
              "  </svg>\n",
              "      </button>\n",
              "      \n",
              "  <style>\n",
              "    .colab-df-container {\n",
              "      display:flex;\n",
              "      flex-wrap:wrap;\n",
              "      gap: 12px;\n",
              "    }\n",
              "\n",
              "    .colab-df-convert {\n",
              "      background-color: #E8F0FE;\n",
              "      border: none;\n",
              "      border-radius: 50%;\n",
              "      cursor: pointer;\n",
              "      display: none;\n",
              "      fill: #1967D2;\n",
              "      height: 32px;\n",
              "      padding: 0 0 0 0;\n",
              "      width: 32px;\n",
              "    }\n",
              "\n",
              "    .colab-df-convert:hover {\n",
              "      background-color: #E2EBFA;\n",
              "      box-shadow: 0px 1px 2px rgba(60, 64, 67, 0.3), 0px 1px 3px 1px rgba(60, 64, 67, 0.15);\n",
              "      fill: #174EA6;\n",
              "    }\n",
              "\n",
              "    [theme=dark] .colab-df-convert {\n",
              "      background-color: #3B4455;\n",
              "      fill: #D2E3FC;\n",
              "    }\n",
              "\n",
              "    [theme=dark] .colab-df-convert:hover {\n",
              "      background-color: #434B5C;\n",
              "      box-shadow: 0px 1px 3px 1px rgba(0, 0, 0, 0.15);\n",
              "      filter: drop-shadow(0px 1px 2px rgba(0, 0, 0, 0.3));\n",
              "      fill: #FFFFFF;\n",
              "    }\n",
              "  </style>\n",
              "\n",
              "      <script>\n",
              "        const buttonEl =\n",
              "          document.querySelector('#df-a51d6a6f-fef7-4f7e-b836-c2d2d9b71449 button.colab-df-convert');\n",
              "        buttonEl.style.display =\n",
              "          google.colab.kernel.accessAllowed ? 'block' : 'none';\n",
              "\n",
              "        async function convertToInteractive(key) {\n",
              "          const element = document.querySelector('#df-a51d6a6f-fef7-4f7e-b836-c2d2d9b71449');\n",
              "          const dataTable =\n",
              "            await google.colab.kernel.invokeFunction('convertToInteractive',\n",
              "                                                     [key], {});\n",
              "          if (!dataTable) return;\n",
              "\n",
              "          const docLinkHtml = 'Like what you see? Visit the ' +\n",
              "            '<a target=\"_blank\" href=https://colab.research.google.com/notebooks/data_table.ipynb>data table notebook</a>'\n",
              "            + ' to learn more about interactive tables.';\n",
              "          element.innerHTML = '';\n",
              "          dataTable['output_type'] = 'display_data';\n",
              "          await google.colab.output.renderOutput(dataTable, element);\n",
              "          const docLink = document.createElement('div');\n",
              "          docLink.innerHTML = docLinkHtml;\n",
              "          element.appendChild(docLink);\n",
              "        }\n",
              "      </script>\n",
              "    </div>\n",
              "  </div>\n",
              "  "
            ]
          },
          "metadata": {},
          "execution_count": 37
        }
      ]
    },
    {
      "cell_type": "markdown",
      "source": [
        "## Union de los Data Frames\n",
        "\n",
        "---\n",
        "\n"
      ],
      "metadata": {
        "id": "vBs7nse6Za9r"
      }
    },
    {
      "cell_type": "code",
      "source": [
        "df3 = pd.merge(ins, eg, left_on=['nombre_institucion', 'denominacion_carrera'], right_on=['institucion', 'carrera'], how='right')"
      ],
      "metadata": {
        "id": "eJ_KyBz6141b"
      },
      "execution_count": 38,
      "outputs": []
    },
    {
      "cell_type": "code",
      "source": [
        "df3"
      ],
      "metadata": {
        "colab": {
          "base_uri": "https://localhost:8080/",
          "height": 939
        },
        "id": "uxP6-QdZqjVu",
        "outputId": "37a33472-59c0-45d6-c084-13be9cda0790"
      },
      "execution_count": 39,
      "outputs": [
        {
          "output_type": "execute_result",
          "data": {
            "text/plain": [
              "                                       nombre_institucion  tipo_institucion_x  \\\n",
              "0                                                     NaN                 NaN   \n",
              "1                                                     NaN                 NaN   \n",
              "2                                   UNIVERSIDAD DEL NORTE         UNIVERSIDAD   \n",
              "3                                   UNIVERSIDAD DEL NORTE         UNIVERSIDAD   \n",
              "4                                   UNIVERSIDAD DEL NORTE         UNIVERSIDAD   \n",
              "...                                                   ...                 ...   \n",
              "315997           UNIVERSIDAD INTERNACIONAL TRES FRONTERAS         UNIVERSIDAD   \n",
              "315998  COMANDO DE INSTITUTOS AERONAUTICOS DE ENSENANZ...  INSTITUTO SUPERIOR   \n",
              "315999                 UNIVERSIDAD CENTRO MEDICO BAUTISTA         UNIVERSIDAD   \n",
              "316000                UNIVERSIDAD EVANGELICA DEL PARAGUAY         UNIVERSIDAD   \n",
              "316001                UNIVERSIDAD EVANGELICA DEL PARAGUAY         UNIVERSIDAD   \n",
              "\n",
              "       departamento              distrito        denominacion_carrera  \\\n",
              "0               NaN                   NaN                         NaN   \n",
              "1               NaN                   NaN                         NaN   \n",
              "2          CAAGUAZU        CORONEL OVIEDO  ADMINISTRACION DE EMPRESAS   \n",
              "3           CENTRAL                 LUQUE  ADMINISTRACION DE EMPRESAS   \n",
              "4           CAPITAL              ASUNCION  ADMINISTRACION DE EMPRESAS   \n",
              "...             ...                   ...                         ...   \n",
              "315997      AMAMBAY  PEDRO JUAN CABALLERO                    MEDICINA   \n",
              "315998      CENTRAL                 LUQUE          OPERACIONES AEREAS   \n",
              "315999      CAPITAL              ASUNCION        MEDICINA DEL TRABAJO   \n",
              "316000      CAPITAL              ASUNCION              LENGUA INGLESA   \n",
              "316001      CENTRAL               LAMBARE              LENGUA INGLESA   \n",
              "\n",
              "       denominacion_titulo                         nivel_titulacion documento  \\\n",
              "0                      NaN                                      NaN   4866986   \n",
              "1                      NaN                                      NaN   4867832   \n",
              "2               LICENCIADO                       EDUCACION DE GRADO   4865510   \n",
              "3               LICENCIADO                       EDUCACION DE GRADO   4865510   \n",
              "4                 MAGISTER         EDUCACION DE POSGRADO (MAESTRIA)   4865510   \n",
              "...                    ...                                      ...       ...   \n",
              "315997              MEDICO                       EDUCACION DE GRADO   1721721   \n",
              "315998            MAGISTER         EDUCACION DE POSGRADO (MAESTRIA)   1727015   \n",
              "315999        ESPECIALISTA  EDUCACION DE POSGRADO (ESPECIALIZACION)   3611509   \n",
              "316000          LICENCIADO                       EDUCACION DE GRADO   1736838   \n",
              "316001          LICENCIADO                       EDUCACION DE GRADO   1736838   \n",
              "\n",
              "                                                  carrera  \\\n",
              "0                                        INGENIERIA CIVIL   \n",
              "1       PROFESORADO EN EDUCACION BILINGUE GUARANI   CA...   \n",
              "2                              ADMINISTRACION DE EMPRESAS   \n",
              "3                              ADMINISTRACION DE EMPRESAS   \n",
              "4                              ADMINISTRACION DE EMPRESAS   \n",
              "...                                                   ...   \n",
              "315997                                           MEDICINA   \n",
              "315998                                 OPERACIONES AEREAS   \n",
              "315999                               MEDICINA DEL TRABAJO   \n",
              "316000                                     LENGUA INGLESA   \n",
              "316001                                     LENGUA INGLESA   \n",
              "\n",
              "                                                   titulo  tipo_institucion_y  \\\n",
              "0                                         INGENIERO CIVIL         UNIVERSIDAD   \n",
              "1       PROFESOR EN EDUCACION BILINGUE GUARANI   CASTE...  INSTITUTO SUPERIOR   \n",
              "2                                              LICENCIADO         UNIVERSIDAD   \n",
              "3                                              LICENCIADO         UNIVERSIDAD   \n",
              "4                                              LICENCIADO         UNIVERSIDAD   \n",
              "...                                                   ...                 ...   \n",
              "315997                                             MEDICO         UNIVERSIDAD   \n",
              "315998                                           MAGISTER  INSTITUTO SUPERIOR   \n",
              "315999                                       ESPECIALISTA         UNIVERSIDAD   \n",
              "316000                                         LICENCIADO         UNIVERSIDAD   \n",
              "316001                                         LICENCIADO         UNIVERSIDAD   \n",
              "\n",
              "                                              institucion    sexo  \n",
              "0       UNIVERSIDAD NACIONAL DE ASUNCION FACULTAD DE I...   MUJER  \n",
              "1       INSTITUTO DE LINGUISTICA GUARANI DEL PARAGUAY ...  HOMBRE  \n",
              "2                                   UNIVERSIDAD DEL NORTE   MUJER  \n",
              "3                                   UNIVERSIDAD DEL NORTE   MUJER  \n",
              "4                                   UNIVERSIDAD DEL NORTE   MUJER  \n",
              "...                                                   ...     ...  \n",
              "315997           UNIVERSIDAD INTERNACIONAL TRES FRONTERAS   MUJER  \n",
              "315998  COMANDO DE INSTITUTOS AERONAUTICOS DE ENSENANZ...   MUJER  \n",
              "315999                 UNIVERSIDAD CENTRO MEDICO BAUTISTA  HOMBRE  \n",
              "316000                UNIVERSIDAD EVANGELICA DEL PARAGUAY   MUJER  \n",
              "316001                UNIVERSIDAD EVANGELICA DEL PARAGUAY   MUJER  \n",
              "\n",
              "[316002 rows x 13 columns]"
            ],
            "text/html": [
              "\n",
              "  <div id=\"df-c1e3d132-bf1d-4f8d-9540-7aa941db8f8b\">\n",
              "    <div class=\"colab-df-container\">\n",
              "      <div>\n",
              "<style scoped>\n",
              "    .dataframe tbody tr th:only-of-type {\n",
              "        vertical-align: middle;\n",
              "    }\n",
              "\n",
              "    .dataframe tbody tr th {\n",
              "        vertical-align: top;\n",
              "    }\n",
              "\n",
              "    .dataframe thead th {\n",
              "        text-align: right;\n",
              "    }\n",
              "</style>\n",
              "<table border=\"1\" class=\"dataframe\">\n",
              "  <thead>\n",
              "    <tr style=\"text-align: right;\">\n",
              "      <th></th>\n",
              "      <th>nombre_institucion</th>\n",
              "      <th>tipo_institucion_x</th>\n",
              "      <th>departamento</th>\n",
              "      <th>distrito</th>\n",
              "      <th>denominacion_carrera</th>\n",
              "      <th>denominacion_titulo</th>\n",
              "      <th>nivel_titulacion</th>\n",
              "      <th>documento</th>\n",
              "      <th>carrera</th>\n",
              "      <th>titulo</th>\n",
              "      <th>tipo_institucion_y</th>\n",
              "      <th>institucion</th>\n",
              "      <th>sexo</th>\n",
              "    </tr>\n",
              "  </thead>\n",
              "  <tbody>\n",
              "    <tr>\n",
              "      <th>0</th>\n",
              "      <td>NaN</td>\n",
              "      <td>NaN</td>\n",
              "      <td>NaN</td>\n",
              "      <td>NaN</td>\n",
              "      <td>NaN</td>\n",
              "      <td>NaN</td>\n",
              "      <td>NaN</td>\n",
              "      <td>4866986</td>\n",
              "      <td>INGENIERIA CIVIL</td>\n",
              "      <td>INGENIERO CIVIL</td>\n",
              "      <td>UNIVERSIDAD</td>\n",
              "      <td>UNIVERSIDAD NACIONAL DE ASUNCION FACULTAD DE I...</td>\n",
              "      <td>MUJER</td>\n",
              "    </tr>\n",
              "    <tr>\n",
              "      <th>1</th>\n",
              "      <td>NaN</td>\n",
              "      <td>NaN</td>\n",
              "      <td>NaN</td>\n",
              "      <td>NaN</td>\n",
              "      <td>NaN</td>\n",
              "      <td>NaN</td>\n",
              "      <td>NaN</td>\n",
              "      <td>4867832</td>\n",
              "      <td>PROFESORADO EN EDUCACION BILINGUE GUARANI   CA...</td>\n",
              "      <td>PROFESOR EN EDUCACION BILINGUE GUARANI   CASTE...</td>\n",
              "      <td>INSTITUTO SUPERIOR</td>\n",
              "      <td>INSTITUTO DE LINGUISTICA GUARANI DEL PARAGUAY ...</td>\n",
              "      <td>HOMBRE</td>\n",
              "    </tr>\n",
              "    <tr>\n",
              "      <th>2</th>\n",
              "      <td>UNIVERSIDAD DEL NORTE</td>\n",
              "      <td>UNIVERSIDAD</td>\n",
              "      <td>CAAGUAZU</td>\n",
              "      <td>CORONEL OVIEDO</td>\n",
              "      <td>ADMINISTRACION DE EMPRESAS</td>\n",
              "      <td>LICENCIADO</td>\n",
              "      <td>EDUCACION DE GRADO</td>\n",
              "      <td>4865510</td>\n",
              "      <td>ADMINISTRACION DE EMPRESAS</td>\n",
              "      <td>LICENCIADO</td>\n",
              "      <td>UNIVERSIDAD</td>\n",
              "      <td>UNIVERSIDAD DEL NORTE</td>\n",
              "      <td>MUJER</td>\n",
              "    </tr>\n",
              "    <tr>\n",
              "      <th>3</th>\n",
              "      <td>UNIVERSIDAD DEL NORTE</td>\n",
              "      <td>UNIVERSIDAD</td>\n",
              "      <td>CENTRAL</td>\n",
              "      <td>LUQUE</td>\n",
              "      <td>ADMINISTRACION DE EMPRESAS</td>\n",
              "      <td>LICENCIADO</td>\n",
              "      <td>EDUCACION DE GRADO</td>\n",
              "      <td>4865510</td>\n",
              "      <td>ADMINISTRACION DE EMPRESAS</td>\n",
              "      <td>LICENCIADO</td>\n",
              "      <td>UNIVERSIDAD</td>\n",
              "      <td>UNIVERSIDAD DEL NORTE</td>\n",
              "      <td>MUJER</td>\n",
              "    </tr>\n",
              "    <tr>\n",
              "      <th>4</th>\n",
              "      <td>UNIVERSIDAD DEL NORTE</td>\n",
              "      <td>UNIVERSIDAD</td>\n",
              "      <td>CAPITAL</td>\n",
              "      <td>ASUNCION</td>\n",
              "      <td>ADMINISTRACION DE EMPRESAS</td>\n",
              "      <td>MAGISTER</td>\n",
              "      <td>EDUCACION DE POSGRADO (MAESTRIA)</td>\n",
              "      <td>4865510</td>\n",
              "      <td>ADMINISTRACION DE EMPRESAS</td>\n",
              "      <td>LICENCIADO</td>\n",
              "      <td>UNIVERSIDAD</td>\n",
              "      <td>UNIVERSIDAD DEL NORTE</td>\n",
              "      <td>MUJER</td>\n",
              "    </tr>\n",
              "    <tr>\n",
              "      <th>...</th>\n",
              "      <td>...</td>\n",
              "      <td>...</td>\n",
              "      <td>...</td>\n",
              "      <td>...</td>\n",
              "      <td>...</td>\n",
              "      <td>...</td>\n",
              "      <td>...</td>\n",
              "      <td>...</td>\n",
              "      <td>...</td>\n",
              "      <td>...</td>\n",
              "      <td>...</td>\n",
              "      <td>...</td>\n",
              "      <td>...</td>\n",
              "    </tr>\n",
              "    <tr>\n",
              "      <th>315997</th>\n",
              "      <td>UNIVERSIDAD INTERNACIONAL TRES FRONTERAS</td>\n",
              "      <td>UNIVERSIDAD</td>\n",
              "      <td>AMAMBAY</td>\n",
              "      <td>PEDRO JUAN CABALLERO</td>\n",
              "      <td>MEDICINA</td>\n",
              "      <td>MEDICO</td>\n",
              "      <td>EDUCACION DE GRADO</td>\n",
              "      <td>1721721</td>\n",
              "      <td>MEDICINA</td>\n",
              "      <td>MEDICO</td>\n",
              "      <td>UNIVERSIDAD</td>\n",
              "      <td>UNIVERSIDAD INTERNACIONAL TRES FRONTERAS</td>\n",
              "      <td>MUJER</td>\n",
              "    </tr>\n",
              "    <tr>\n",
              "      <th>315998</th>\n",
              "      <td>COMANDO DE INSTITUTOS AERONAUTICOS DE ENSENANZ...</td>\n",
              "      <td>INSTITUTO SUPERIOR</td>\n",
              "      <td>CENTRAL</td>\n",
              "      <td>LUQUE</td>\n",
              "      <td>OPERACIONES AEREAS</td>\n",
              "      <td>MAGISTER</td>\n",
              "      <td>EDUCACION DE POSGRADO (MAESTRIA)</td>\n",
              "      <td>1727015</td>\n",
              "      <td>OPERACIONES AEREAS</td>\n",
              "      <td>MAGISTER</td>\n",
              "      <td>INSTITUTO SUPERIOR</td>\n",
              "      <td>COMANDO DE INSTITUTOS AERONAUTICOS DE ENSENANZ...</td>\n",
              "      <td>MUJER</td>\n",
              "    </tr>\n",
              "    <tr>\n",
              "      <th>315999</th>\n",
              "      <td>UNIVERSIDAD CENTRO MEDICO BAUTISTA</td>\n",
              "      <td>UNIVERSIDAD</td>\n",
              "      <td>CAPITAL</td>\n",
              "      <td>ASUNCION</td>\n",
              "      <td>MEDICINA DEL TRABAJO</td>\n",
              "      <td>ESPECIALISTA</td>\n",
              "      <td>EDUCACION DE POSGRADO (ESPECIALIZACION)</td>\n",
              "      <td>3611509</td>\n",
              "      <td>MEDICINA DEL TRABAJO</td>\n",
              "      <td>ESPECIALISTA</td>\n",
              "      <td>UNIVERSIDAD</td>\n",
              "      <td>UNIVERSIDAD CENTRO MEDICO BAUTISTA</td>\n",
              "      <td>HOMBRE</td>\n",
              "    </tr>\n",
              "    <tr>\n",
              "      <th>316000</th>\n",
              "      <td>UNIVERSIDAD EVANGELICA DEL PARAGUAY</td>\n",
              "      <td>UNIVERSIDAD</td>\n",
              "      <td>CAPITAL</td>\n",
              "      <td>ASUNCION</td>\n",
              "      <td>LENGUA INGLESA</td>\n",
              "      <td>LICENCIADO</td>\n",
              "      <td>EDUCACION DE GRADO</td>\n",
              "      <td>1736838</td>\n",
              "      <td>LENGUA INGLESA</td>\n",
              "      <td>LICENCIADO</td>\n",
              "      <td>UNIVERSIDAD</td>\n",
              "      <td>UNIVERSIDAD EVANGELICA DEL PARAGUAY</td>\n",
              "      <td>MUJER</td>\n",
              "    </tr>\n",
              "    <tr>\n",
              "      <th>316001</th>\n",
              "      <td>UNIVERSIDAD EVANGELICA DEL PARAGUAY</td>\n",
              "      <td>UNIVERSIDAD</td>\n",
              "      <td>CENTRAL</td>\n",
              "      <td>LAMBARE</td>\n",
              "      <td>LENGUA INGLESA</td>\n",
              "      <td>LICENCIADO</td>\n",
              "      <td>EDUCACION DE GRADO</td>\n",
              "      <td>1736838</td>\n",
              "      <td>LENGUA INGLESA</td>\n",
              "      <td>LICENCIADO</td>\n",
              "      <td>UNIVERSIDAD</td>\n",
              "      <td>UNIVERSIDAD EVANGELICA DEL PARAGUAY</td>\n",
              "      <td>MUJER</td>\n",
              "    </tr>\n",
              "  </tbody>\n",
              "</table>\n",
              "<p>316002 rows × 13 columns</p>\n",
              "</div>\n",
              "      <button class=\"colab-df-convert\" onclick=\"convertToInteractive('df-c1e3d132-bf1d-4f8d-9540-7aa941db8f8b')\"\n",
              "              title=\"Convert this dataframe to an interactive table.\"\n",
              "              style=\"display:none;\">\n",
              "        \n",
              "  <svg xmlns=\"http://www.w3.org/2000/svg\" height=\"24px\"viewBox=\"0 0 24 24\"\n",
              "       width=\"24px\">\n",
              "    <path d=\"M0 0h24v24H0V0z\" fill=\"none\"/>\n",
              "    <path d=\"M18.56 5.44l.94 2.06.94-2.06 2.06-.94-2.06-.94-.94-2.06-.94 2.06-2.06.94zm-11 1L8.5 8.5l.94-2.06 2.06-.94-2.06-.94L8.5 2.5l-.94 2.06-2.06.94zm10 10l.94 2.06.94-2.06 2.06-.94-2.06-.94-.94-2.06-.94 2.06-2.06.94z\"/><path d=\"M17.41 7.96l-1.37-1.37c-.4-.4-.92-.59-1.43-.59-.52 0-1.04.2-1.43.59L10.3 9.45l-7.72 7.72c-.78.78-.78 2.05 0 2.83L4 21.41c.39.39.9.59 1.41.59.51 0 1.02-.2 1.41-.59l7.78-7.78 2.81-2.81c.8-.78.8-2.07 0-2.86zM5.41 20L4 18.59l7.72-7.72 1.47 1.35L5.41 20z\"/>\n",
              "  </svg>\n",
              "      </button>\n",
              "      \n",
              "  <style>\n",
              "    .colab-df-container {\n",
              "      display:flex;\n",
              "      flex-wrap:wrap;\n",
              "      gap: 12px;\n",
              "    }\n",
              "\n",
              "    .colab-df-convert {\n",
              "      background-color: #E8F0FE;\n",
              "      border: none;\n",
              "      border-radius: 50%;\n",
              "      cursor: pointer;\n",
              "      display: none;\n",
              "      fill: #1967D2;\n",
              "      height: 32px;\n",
              "      padding: 0 0 0 0;\n",
              "      width: 32px;\n",
              "    }\n",
              "\n",
              "    .colab-df-convert:hover {\n",
              "      background-color: #E2EBFA;\n",
              "      box-shadow: 0px 1px 2px rgba(60, 64, 67, 0.3), 0px 1px 3px 1px rgba(60, 64, 67, 0.15);\n",
              "      fill: #174EA6;\n",
              "    }\n",
              "\n",
              "    [theme=dark] .colab-df-convert {\n",
              "      background-color: #3B4455;\n",
              "      fill: #D2E3FC;\n",
              "    }\n",
              "\n",
              "    [theme=dark] .colab-df-convert:hover {\n",
              "      background-color: #434B5C;\n",
              "      box-shadow: 0px 1px 3px 1px rgba(0, 0, 0, 0.15);\n",
              "      filter: drop-shadow(0px 1px 2px rgba(0, 0, 0, 0.3));\n",
              "      fill: #FFFFFF;\n",
              "    }\n",
              "  </style>\n",
              "\n",
              "      <script>\n",
              "        const buttonEl =\n",
              "          document.querySelector('#df-c1e3d132-bf1d-4f8d-9540-7aa941db8f8b button.colab-df-convert');\n",
              "        buttonEl.style.display =\n",
              "          google.colab.kernel.accessAllowed ? 'block' : 'none';\n",
              "\n",
              "        async function convertToInteractive(key) {\n",
              "          const element = document.querySelector('#df-c1e3d132-bf1d-4f8d-9540-7aa941db8f8b');\n",
              "          const dataTable =\n",
              "            await google.colab.kernel.invokeFunction('convertToInteractive',\n",
              "                                                     [key], {});\n",
              "          if (!dataTable) return;\n",
              "\n",
              "          const docLinkHtml = 'Like what you see? Visit the ' +\n",
              "            '<a target=\"_blank\" href=https://colab.research.google.com/notebooks/data_table.ipynb>data table notebook</a>'\n",
              "            + ' to learn more about interactive tables.';\n",
              "          element.innerHTML = '';\n",
              "          dataTable['output_type'] = 'display_data';\n",
              "          await google.colab.output.renderOutput(dataTable, element);\n",
              "          const docLink = document.createElement('div');\n",
              "          docLink.innerHTML = docLinkHtml;\n",
              "          element.appendChild(docLink);\n",
              "        }\n",
              "      </script>\n",
              "    </div>\n",
              "  </div>\n",
              "  "
            ]
          },
          "metadata": {},
          "execution_count": 39
        }
      ]
    },
    {
      "cell_type": "code",
      "source": [
        "df3.isnull().sum()"
      ],
      "metadata": {
        "colab": {
          "base_uri": "https://localhost:8080/"
        },
        "id": "RGc5G0_46fCe",
        "outputId": "f9f8a593-5d7c-485a-ae72-894a58246832"
      },
      "execution_count": 40,
      "outputs": [
        {
          "output_type": "execute_result",
          "data": {
            "text/plain": [
              "nombre_institucion      21609\n",
              "tipo_institucion_x      21609\n",
              "departamento            21609\n",
              "distrito                21609\n",
              "denominacion_carrera    21609\n",
              "denominacion_titulo     21609\n",
              "nivel_titulacion        21609\n",
              "documento                   0\n",
              "carrera                     0\n",
              "titulo                      0\n",
              "tipo_institucion_y          0\n",
              "institucion                 0\n",
              "sexo                        0\n",
              "dtype: int64"
            ]
          },
          "metadata": {},
          "execution_count": 40
        }
      ]
    },
    {
      "cell_type": "code",
      "source": [
        "df3 = df3.dropna(how='any')"
      ],
      "metadata": {
        "id": "UC41JnQK9SW3"
      },
      "execution_count": 41,
      "outputs": []
    },
    {
      "cell_type": "code",
      "source": [
        "df3 = df3[~df3.duplicated(['documento'])]"
      ],
      "metadata": {
        "id": "Dn5DSSVN3M2q"
      },
      "execution_count": 43,
      "outputs": []
    },
    {
      "cell_type": "code",
      "source": [
        "df3"
      ],
      "metadata": {
        "colab": {
          "base_uri": "https://localhost:8080/",
          "height": 922
        },
        "id": "La9p5hSm9ltA",
        "outputId": "7ca725e2-097c-4534-c98e-862a2a59d678"
      },
      "execution_count": 44,
      "outputs": [
        {
          "output_type": "execute_result",
          "data": {
            "text/plain": [
              "                                       nombre_institucion  \\\n",
              "2                                   UNIVERSIDAD DEL NORTE   \n",
              "16                                  UNIVERSIDAD AMERICANA   \n",
              "21                          UNIVERSIDAD NACIONAL DE PILAR   \n",
              "23               UNIVERSIDAD INTERNACIONAL TRES FRONTERAS   \n",
              "24                  UNIVERSIDAD DE DESARROLLO SUSTENTABLE   \n",
              "...                                                   ...   \n",
              "315995             INSTITUTO DE FORMACION DOCENTE CAAZAPA   \n",
              "315996           UNIVERSIDAD INTERNACIONAL TRES FRONTERAS   \n",
              "315998  COMANDO DE INSTITUTOS AERONAUTICOS DE ENSENANZ...   \n",
              "315999                 UNIVERSIDAD CENTRO MEDICO BAUTISTA   \n",
              "316000                UNIVERSIDAD EVANGELICA DEL PARAGUAY   \n",
              "\n",
              "                    tipo_institucion_x departamento         distrito  \\\n",
              "2                          UNIVERSIDAD     CAAGUAZU   CORONEL OVIEDO   \n",
              "16                         UNIVERSIDAD  ALTO PARANA  CIUDAD DEL ESTE   \n",
              "21                         UNIVERSIDAD     NEEMBUCU            PILAR   \n",
              "23                         UNIVERSIDAD  ALTO PARANA  CIUDAD DEL ESTE   \n",
              "24                         UNIVERSIDAD      CAPITAL         ASUNCION   \n",
              "...                                ...          ...              ...   \n",
              "315995  INSTITUTO DE FORMACION DOCENTE      CAAZAPA          CAAZAPA   \n",
              "315996                     UNIVERSIDAD  ALTO PARANA  CIUDAD DEL ESTE   \n",
              "315998              INSTITUTO SUPERIOR      CENTRAL            LUQUE   \n",
              "315999                     UNIVERSIDAD      CAPITAL         ASUNCION   \n",
              "316000                     UNIVERSIDAD      CAPITAL         ASUNCION   \n",
              "\n",
              "                                     denominacion_carrera  \\\n",
              "2                              ADMINISTRACION DE EMPRESAS   \n",
              "16                                 COMERCIO INTERNACIONAL   \n",
              "21                                     PSICOLOGIA LABORAL   \n",
              "23                                  ODONTOLOGIA Y CIRUGIA   \n",
              "24                            CONTADURIA PUBLICA NACIONAL   \n",
              "...                                                   ...   \n",
              "315995  TECNICO DOCENTE EN INTEGRACION PEDAGOGICA DE L...   \n",
              "315996                                           MEDICINA   \n",
              "315998                                 OPERACIONES AEREAS   \n",
              "315999                               MEDICINA DEL TRABAJO   \n",
              "316000                                     LENGUA INGLESA   \n",
              "\n",
              "                                      denominacion_titulo  \\\n",
              "2                                              LICENCIADO   \n",
              "16                                             LICENCIADO   \n",
              "21                                             LICENCIADO   \n",
              "23                                  ODONTOLOGO/A CIRUJANO   \n",
              "24                              CONTADOR PUBLICO NACIONAL   \n",
              "...                                                   ...   \n",
              "315995  TECNICO DOCENTE EN INTEGRACION PEDAGOGICA DE L...   \n",
              "315996                                             MEDICO   \n",
              "315998                                           MAGISTER   \n",
              "315999                                       ESPECIALISTA   \n",
              "316000                                         LICENCIADO   \n",
              "\n",
              "                                         nivel_titulacion documento  \\\n",
              "2                                      EDUCACION DE GRADO   4865510   \n",
              "16                                     EDUCACION DE GRADO   4868114   \n",
              "21                                     EDUCACION DE GRADO   4869154   \n",
              "23                                     EDUCACION DE GRADO   4870396   \n",
              "24                                     EDUCACION DE GRADO   4873930   \n",
              "...                                                   ...       ...   \n",
              "315995  EDUCACION DE PRE GRADO (FORMACION DOCENTE CONT...   3611279   \n",
              "315996                                 EDUCACION DE GRADO   1721721   \n",
              "315998                   EDUCACION DE POSGRADO (MAESTRIA)   1727015   \n",
              "315999            EDUCACION DE POSGRADO (ESPECIALIZACION)   3611509   \n",
              "316000                                 EDUCACION DE GRADO   1736838   \n",
              "\n",
              "                                                  carrera  \\\n",
              "2                              ADMINISTRACION DE EMPRESAS   \n",
              "16                                 COMERCIO INTERNACIONAL   \n",
              "21                                     PSICOLOGIA LABORAL   \n",
              "23                                  ODONTOLOGIA Y CIRUGIA   \n",
              "24                            CONTADURIA PUBLICA NACIONAL   \n",
              "...                                                   ...   \n",
              "315995  TECNICO DOCENTE EN INTEGRACION PEDAGOGICA DE L...   \n",
              "315996                                           MEDICINA   \n",
              "315998                                 OPERACIONES AEREAS   \n",
              "315999                               MEDICINA DEL TRABAJO   \n",
              "316000                                     LENGUA INGLESA   \n",
              "\n",
              "                                                   titulo  \\\n",
              "2                                              LICENCIADO   \n",
              "16                                             LICENCIADO   \n",
              "21                                             LICENCIADO   \n",
              "23                                  ODONTOLOGO/A CIRUJANO   \n",
              "24                              CONTADOR PUBLICO NACIONAL   \n",
              "...                                                   ...   \n",
              "315995  TECNICO DOCENTE EN INTEGRACION PEDAGOGICA DE L...   \n",
              "315996                                             MEDICO   \n",
              "315998                                           MAGISTER   \n",
              "315999                                       ESPECIALISTA   \n",
              "316000                                         LICENCIADO   \n",
              "\n",
              "                    tipo_institucion_y  \\\n",
              "2                          UNIVERSIDAD   \n",
              "16                         UNIVERSIDAD   \n",
              "21                         UNIVERSIDAD   \n",
              "23                         UNIVERSIDAD   \n",
              "24                         UNIVERSIDAD   \n",
              "...                                ...   \n",
              "315995  INSTITUTO DE FORMACION DOCENTE   \n",
              "315996                     UNIVERSIDAD   \n",
              "315998              INSTITUTO SUPERIOR   \n",
              "315999                     UNIVERSIDAD   \n",
              "316000                     UNIVERSIDAD   \n",
              "\n",
              "                                              institucion    sexo  \n",
              "2                                   UNIVERSIDAD DEL NORTE   MUJER  \n",
              "16                                  UNIVERSIDAD AMERICANA   MUJER  \n",
              "21                          UNIVERSIDAD NACIONAL DE PILAR   MUJER  \n",
              "23               UNIVERSIDAD INTERNACIONAL TRES FRONTERAS   MUJER  \n",
              "24                  UNIVERSIDAD DE DESARROLLO SUSTENTABLE   MUJER  \n",
              "...                                                   ...     ...  \n",
              "315995             INSTITUTO DE FORMACION DOCENTE CAAZAPA   MUJER  \n",
              "315996           UNIVERSIDAD INTERNACIONAL TRES FRONTERAS   MUJER  \n",
              "315998  COMANDO DE INSTITUTOS AERONAUTICOS DE ENSENANZ...   MUJER  \n",
              "315999                 UNIVERSIDAD CENTRO MEDICO BAUTISTA  HOMBRE  \n",
              "316000                UNIVERSIDAD EVANGELICA DEL PARAGUAY   MUJER  \n",
              "\n",
              "[56405 rows x 13 columns]"
            ],
            "text/html": [
              "\n",
              "  <div id=\"df-f5cbfc64-2f8f-43b8-84eb-c6ad46f66bc0\">\n",
              "    <div class=\"colab-df-container\">\n",
              "      <div>\n",
              "<style scoped>\n",
              "    .dataframe tbody tr th:only-of-type {\n",
              "        vertical-align: middle;\n",
              "    }\n",
              "\n",
              "    .dataframe tbody tr th {\n",
              "        vertical-align: top;\n",
              "    }\n",
              "\n",
              "    .dataframe thead th {\n",
              "        text-align: right;\n",
              "    }\n",
              "</style>\n",
              "<table border=\"1\" class=\"dataframe\">\n",
              "  <thead>\n",
              "    <tr style=\"text-align: right;\">\n",
              "      <th></th>\n",
              "      <th>nombre_institucion</th>\n",
              "      <th>tipo_institucion_x</th>\n",
              "      <th>departamento</th>\n",
              "      <th>distrito</th>\n",
              "      <th>denominacion_carrera</th>\n",
              "      <th>denominacion_titulo</th>\n",
              "      <th>nivel_titulacion</th>\n",
              "      <th>documento</th>\n",
              "      <th>carrera</th>\n",
              "      <th>titulo</th>\n",
              "      <th>tipo_institucion_y</th>\n",
              "      <th>institucion</th>\n",
              "      <th>sexo</th>\n",
              "    </tr>\n",
              "  </thead>\n",
              "  <tbody>\n",
              "    <tr>\n",
              "      <th>2</th>\n",
              "      <td>UNIVERSIDAD DEL NORTE</td>\n",
              "      <td>UNIVERSIDAD</td>\n",
              "      <td>CAAGUAZU</td>\n",
              "      <td>CORONEL OVIEDO</td>\n",
              "      <td>ADMINISTRACION DE EMPRESAS</td>\n",
              "      <td>LICENCIADO</td>\n",
              "      <td>EDUCACION DE GRADO</td>\n",
              "      <td>4865510</td>\n",
              "      <td>ADMINISTRACION DE EMPRESAS</td>\n",
              "      <td>LICENCIADO</td>\n",
              "      <td>UNIVERSIDAD</td>\n",
              "      <td>UNIVERSIDAD DEL NORTE</td>\n",
              "      <td>MUJER</td>\n",
              "    </tr>\n",
              "    <tr>\n",
              "      <th>16</th>\n",
              "      <td>UNIVERSIDAD AMERICANA</td>\n",
              "      <td>UNIVERSIDAD</td>\n",
              "      <td>ALTO PARANA</td>\n",
              "      <td>CIUDAD DEL ESTE</td>\n",
              "      <td>COMERCIO INTERNACIONAL</td>\n",
              "      <td>LICENCIADO</td>\n",
              "      <td>EDUCACION DE GRADO</td>\n",
              "      <td>4868114</td>\n",
              "      <td>COMERCIO INTERNACIONAL</td>\n",
              "      <td>LICENCIADO</td>\n",
              "      <td>UNIVERSIDAD</td>\n",
              "      <td>UNIVERSIDAD AMERICANA</td>\n",
              "      <td>MUJER</td>\n",
              "    </tr>\n",
              "    <tr>\n",
              "      <th>21</th>\n",
              "      <td>UNIVERSIDAD NACIONAL DE PILAR</td>\n",
              "      <td>UNIVERSIDAD</td>\n",
              "      <td>NEEMBUCU</td>\n",
              "      <td>PILAR</td>\n",
              "      <td>PSICOLOGIA LABORAL</td>\n",
              "      <td>LICENCIADO</td>\n",
              "      <td>EDUCACION DE GRADO</td>\n",
              "      <td>4869154</td>\n",
              "      <td>PSICOLOGIA LABORAL</td>\n",
              "      <td>LICENCIADO</td>\n",
              "      <td>UNIVERSIDAD</td>\n",
              "      <td>UNIVERSIDAD NACIONAL DE PILAR</td>\n",
              "      <td>MUJER</td>\n",
              "    </tr>\n",
              "    <tr>\n",
              "      <th>23</th>\n",
              "      <td>UNIVERSIDAD INTERNACIONAL TRES FRONTERAS</td>\n",
              "      <td>UNIVERSIDAD</td>\n",
              "      <td>ALTO PARANA</td>\n",
              "      <td>CIUDAD DEL ESTE</td>\n",
              "      <td>ODONTOLOGIA Y CIRUGIA</td>\n",
              "      <td>ODONTOLOGO/A CIRUJANO</td>\n",
              "      <td>EDUCACION DE GRADO</td>\n",
              "      <td>4870396</td>\n",
              "      <td>ODONTOLOGIA Y CIRUGIA</td>\n",
              "      <td>ODONTOLOGO/A CIRUJANO</td>\n",
              "      <td>UNIVERSIDAD</td>\n",
              "      <td>UNIVERSIDAD INTERNACIONAL TRES FRONTERAS</td>\n",
              "      <td>MUJER</td>\n",
              "    </tr>\n",
              "    <tr>\n",
              "      <th>24</th>\n",
              "      <td>UNIVERSIDAD DE DESARROLLO SUSTENTABLE</td>\n",
              "      <td>UNIVERSIDAD</td>\n",
              "      <td>CAPITAL</td>\n",
              "      <td>ASUNCION</td>\n",
              "      <td>CONTADURIA PUBLICA NACIONAL</td>\n",
              "      <td>CONTADOR PUBLICO NACIONAL</td>\n",
              "      <td>EDUCACION DE GRADO</td>\n",
              "      <td>4873930</td>\n",
              "      <td>CONTADURIA PUBLICA NACIONAL</td>\n",
              "      <td>CONTADOR PUBLICO NACIONAL</td>\n",
              "      <td>UNIVERSIDAD</td>\n",
              "      <td>UNIVERSIDAD DE DESARROLLO SUSTENTABLE</td>\n",
              "      <td>MUJER</td>\n",
              "    </tr>\n",
              "    <tr>\n",
              "      <th>...</th>\n",
              "      <td>...</td>\n",
              "      <td>...</td>\n",
              "      <td>...</td>\n",
              "      <td>...</td>\n",
              "      <td>...</td>\n",
              "      <td>...</td>\n",
              "      <td>...</td>\n",
              "      <td>...</td>\n",
              "      <td>...</td>\n",
              "      <td>...</td>\n",
              "      <td>...</td>\n",
              "      <td>...</td>\n",
              "      <td>...</td>\n",
              "    </tr>\n",
              "    <tr>\n",
              "      <th>315995</th>\n",
              "      <td>INSTITUTO DE FORMACION DOCENTE CAAZAPA</td>\n",
              "      <td>INSTITUTO DE FORMACION DOCENTE</td>\n",
              "      <td>CAAZAPA</td>\n",
              "      <td>CAAZAPA</td>\n",
              "      <td>TECNICO DOCENTE EN INTEGRACION PEDAGOGICA DE L...</td>\n",
              "      <td>TECNICO DOCENTE EN INTEGRACION PEDAGOGICA DE L...</td>\n",
              "      <td>EDUCACION DE PRE GRADO (FORMACION DOCENTE CONT...</td>\n",
              "      <td>3611279</td>\n",
              "      <td>TECNICO DOCENTE EN INTEGRACION PEDAGOGICA DE L...</td>\n",
              "      <td>TECNICO DOCENTE EN INTEGRACION PEDAGOGICA DE L...</td>\n",
              "      <td>INSTITUTO DE FORMACION DOCENTE</td>\n",
              "      <td>INSTITUTO DE FORMACION DOCENTE CAAZAPA</td>\n",
              "      <td>MUJER</td>\n",
              "    </tr>\n",
              "    <tr>\n",
              "      <th>315996</th>\n",
              "      <td>UNIVERSIDAD INTERNACIONAL TRES FRONTERAS</td>\n",
              "      <td>UNIVERSIDAD</td>\n",
              "      <td>ALTO PARANA</td>\n",
              "      <td>CIUDAD DEL ESTE</td>\n",
              "      <td>MEDICINA</td>\n",
              "      <td>MEDICO</td>\n",
              "      <td>EDUCACION DE GRADO</td>\n",
              "      <td>1721721</td>\n",
              "      <td>MEDICINA</td>\n",
              "      <td>MEDICO</td>\n",
              "      <td>UNIVERSIDAD</td>\n",
              "      <td>UNIVERSIDAD INTERNACIONAL TRES FRONTERAS</td>\n",
              "      <td>MUJER</td>\n",
              "    </tr>\n",
              "    <tr>\n",
              "      <th>315998</th>\n",
              "      <td>COMANDO DE INSTITUTOS AERONAUTICOS DE ENSENANZ...</td>\n",
              "      <td>INSTITUTO SUPERIOR</td>\n",
              "      <td>CENTRAL</td>\n",
              "      <td>LUQUE</td>\n",
              "      <td>OPERACIONES AEREAS</td>\n",
              "      <td>MAGISTER</td>\n",
              "      <td>EDUCACION DE POSGRADO (MAESTRIA)</td>\n",
              "      <td>1727015</td>\n",
              "      <td>OPERACIONES AEREAS</td>\n",
              "      <td>MAGISTER</td>\n",
              "      <td>INSTITUTO SUPERIOR</td>\n",
              "      <td>COMANDO DE INSTITUTOS AERONAUTICOS DE ENSENANZ...</td>\n",
              "      <td>MUJER</td>\n",
              "    </tr>\n",
              "    <tr>\n",
              "      <th>315999</th>\n",
              "      <td>UNIVERSIDAD CENTRO MEDICO BAUTISTA</td>\n",
              "      <td>UNIVERSIDAD</td>\n",
              "      <td>CAPITAL</td>\n",
              "      <td>ASUNCION</td>\n",
              "      <td>MEDICINA DEL TRABAJO</td>\n",
              "      <td>ESPECIALISTA</td>\n",
              "      <td>EDUCACION DE POSGRADO (ESPECIALIZACION)</td>\n",
              "      <td>3611509</td>\n",
              "      <td>MEDICINA DEL TRABAJO</td>\n",
              "      <td>ESPECIALISTA</td>\n",
              "      <td>UNIVERSIDAD</td>\n",
              "      <td>UNIVERSIDAD CENTRO MEDICO BAUTISTA</td>\n",
              "      <td>HOMBRE</td>\n",
              "    </tr>\n",
              "    <tr>\n",
              "      <th>316000</th>\n",
              "      <td>UNIVERSIDAD EVANGELICA DEL PARAGUAY</td>\n",
              "      <td>UNIVERSIDAD</td>\n",
              "      <td>CAPITAL</td>\n",
              "      <td>ASUNCION</td>\n",
              "      <td>LENGUA INGLESA</td>\n",
              "      <td>LICENCIADO</td>\n",
              "      <td>EDUCACION DE GRADO</td>\n",
              "      <td>1736838</td>\n",
              "      <td>LENGUA INGLESA</td>\n",
              "      <td>LICENCIADO</td>\n",
              "      <td>UNIVERSIDAD</td>\n",
              "      <td>UNIVERSIDAD EVANGELICA DEL PARAGUAY</td>\n",
              "      <td>MUJER</td>\n",
              "    </tr>\n",
              "  </tbody>\n",
              "</table>\n",
              "<p>56405 rows × 13 columns</p>\n",
              "</div>\n",
              "      <button class=\"colab-df-convert\" onclick=\"convertToInteractive('df-f5cbfc64-2f8f-43b8-84eb-c6ad46f66bc0')\"\n",
              "              title=\"Convert this dataframe to an interactive table.\"\n",
              "              style=\"display:none;\">\n",
              "        \n",
              "  <svg xmlns=\"http://www.w3.org/2000/svg\" height=\"24px\"viewBox=\"0 0 24 24\"\n",
              "       width=\"24px\">\n",
              "    <path d=\"M0 0h24v24H0V0z\" fill=\"none\"/>\n",
              "    <path d=\"M18.56 5.44l.94 2.06.94-2.06 2.06-.94-2.06-.94-.94-2.06-.94 2.06-2.06.94zm-11 1L8.5 8.5l.94-2.06 2.06-.94-2.06-.94L8.5 2.5l-.94 2.06-2.06.94zm10 10l.94 2.06.94-2.06 2.06-.94-2.06-.94-.94-2.06-.94 2.06-2.06.94z\"/><path d=\"M17.41 7.96l-1.37-1.37c-.4-.4-.92-.59-1.43-.59-.52 0-1.04.2-1.43.59L10.3 9.45l-7.72 7.72c-.78.78-.78 2.05 0 2.83L4 21.41c.39.39.9.59 1.41.59.51 0 1.02-.2 1.41-.59l7.78-7.78 2.81-2.81c.8-.78.8-2.07 0-2.86zM5.41 20L4 18.59l7.72-7.72 1.47 1.35L5.41 20z\"/>\n",
              "  </svg>\n",
              "      </button>\n",
              "      \n",
              "  <style>\n",
              "    .colab-df-container {\n",
              "      display:flex;\n",
              "      flex-wrap:wrap;\n",
              "      gap: 12px;\n",
              "    }\n",
              "\n",
              "    .colab-df-convert {\n",
              "      background-color: #E8F0FE;\n",
              "      border: none;\n",
              "      border-radius: 50%;\n",
              "      cursor: pointer;\n",
              "      display: none;\n",
              "      fill: #1967D2;\n",
              "      height: 32px;\n",
              "      padding: 0 0 0 0;\n",
              "      width: 32px;\n",
              "    }\n",
              "\n",
              "    .colab-df-convert:hover {\n",
              "      background-color: #E2EBFA;\n",
              "      box-shadow: 0px 1px 2px rgba(60, 64, 67, 0.3), 0px 1px 3px 1px rgba(60, 64, 67, 0.15);\n",
              "      fill: #174EA6;\n",
              "    }\n",
              "\n",
              "    [theme=dark] .colab-df-convert {\n",
              "      background-color: #3B4455;\n",
              "      fill: #D2E3FC;\n",
              "    }\n",
              "\n",
              "    [theme=dark] .colab-df-convert:hover {\n",
              "      background-color: #434B5C;\n",
              "      box-shadow: 0px 1px 3px 1px rgba(0, 0, 0, 0.15);\n",
              "      filter: drop-shadow(0px 1px 2px rgba(0, 0, 0, 0.3));\n",
              "      fill: #FFFFFF;\n",
              "    }\n",
              "  </style>\n",
              "\n",
              "      <script>\n",
              "        const buttonEl =\n",
              "          document.querySelector('#df-f5cbfc64-2f8f-43b8-84eb-c6ad46f66bc0 button.colab-df-convert');\n",
              "        buttonEl.style.display =\n",
              "          google.colab.kernel.accessAllowed ? 'block' : 'none';\n",
              "\n",
              "        async function convertToInteractive(key) {\n",
              "          const element = document.querySelector('#df-f5cbfc64-2f8f-43b8-84eb-c6ad46f66bc0');\n",
              "          const dataTable =\n",
              "            await google.colab.kernel.invokeFunction('convertToInteractive',\n",
              "                                                     [key], {});\n",
              "          if (!dataTable) return;\n",
              "\n",
              "          const docLinkHtml = 'Like what you see? Visit the ' +\n",
              "            '<a target=\"_blank\" href=https://colab.research.google.com/notebooks/data_table.ipynb>data table notebook</a>'\n",
              "            + ' to learn more about interactive tables.';\n",
              "          element.innerHTML = '';\n",
              "          dataTable['output_type'] = 'display_data';\n",
              "          await google.colab.output.renderOutput(dataTable, element);\n",
              "          const docLink = document.createElement('div');\n",
              "          docLink.innerHTML = docLinkHtml;\n",
              "          element.appendChild(docLink);\n",
              "        }\n",
              "      </script>\n",
              "    </div>\n",
              "  </div>\n",
              "  "
            ]
          },
          "metadata": {},
          "execution_count": 44
        }
      ]
    },
    {
      "cell_type": "code",
      "source": [
        "df3['documento'].nunique()"
      ],
      "metadata": {
        "colab": {
          "base_uri": "https://localhost:8080/"
        },
        "id": "GEbWUaKU9yLJ",
        "outputId": "50f91cd2-7375-4e91-a32c-3298fdaa155a"
      },
      "execution_count": 45,
      "outputs": [
        {
          "output_type": "execute_result",
          "data": {
            "text/plain": [
              "56405"
            ]
          },
          "metadata": {},
          "execution_count": 45
        }
      ]
    },
    {
      "cell_type": "markdown",
      "source": [
        "## Exploración y visualización de datos"
      ],
      "metadata": {
        "id": "r414r6xM_GZW"
      }
    },
    {
      "cell_type": "code",
      "source": [
        "df3.info()"
      ],
      "metadata": {
        "colab": {
          "base_uri": "https://localhost:8080/"
        },
        "id": "HiWX31nW_okO",
        "outputId": "51b8047c-ab6a-4299-b5f2-405ba4227558"
      },
      "execution_count": 46,
      "outputs": [
        {
          "output_type": "stream",
          "name": "stdout",
          "text": [
            "<class 'pandas.core.frame.DataFrame'>\n",
            "Int64Index: 56405 entries, 2 to 316000\n",
            "Data columns (total 13 columns):\n",
            " #   Column                Non-Null Count  Dtype \n",
            "---  ------                --------------  ----- \n",
            " 0   nombre_institucion    56405 non-null  object\n",
            " 1   tipo_institucion_x    56405 non-null  object\n",
            " 2   departamento          56405 non-null  object\n",
            " 3   distrito              56405 non-null  object\n",
            " 4   denominacion_carrera  56405 non-null  object\n",
            " 5   denominacion_titulo   56405 non-null  object\n",
            " 6   nivel_titulacion      56405 non-null  object\n",
            " 7   documento             56405 non-null  object\n",
            " 8   carrera               56405 non-null  object\n",
            " 9   titulo                56405 non-null  object\n",
            " 10  tipo_institucion_y    56405 non-null  object\n",
            " 11  institucion           56405 non-null  object\n",
            " 12  sexo                  56405 non-null  object\n",
            "dtypes: object(13)\n",
            "memory usage: 6.0+ MB\n"
          ]
        }
      ]
    },
    {
      "cell_type": "code",
      "source": [
        "df3.describe()"
      ],
      "metadata": {
        "colab": {
          "base_uri": "https://localhost:8080/",
          "height": 308
        },
        "id": "Hct-RQjS_TDb",
        "outputId": "2dbe97d5-178b-4261-9fbd-f02f9cc317ce"
      },
      "execution_count": 47,
      "outputs": [
        {
          "output_type": "execute_result",
          "data": {
            "text/plain": [
              "                                       nombre_institucion tipo_institucion_x  \\\n",
              "count                                               56405              56405   \n",
              "unique                                                191                  5   \n",
              "top     UNIVERSIDAD CATOLICA NUESTRA SENORA DE LA ASUN...        UNIVERSIDAD   \n",
              "freq                                                 4143              40603   \n",
              "\n",
              "       departamento  distrito denominacion_carrera denominacion_titulo  \\\n",
              "count         56405     56405                56405               56405   \n",
              "unique           17        83                  650                 218   \n",
              "top         CAPITAL  ASUNCION             MEDICINA          LICENCIADO   \n",
              "freq          13950     13899                 4042               16481   \n",
              "\n",
              "          nivel_titulacion documento   carrera      titulo tipo_institucion_y  \\\n",
              "count                56405     56405     56405       56405              56405   \n",
              "unique                  10     56405       650         226                  5   \n",
              "top     EDUCACION DE GRADO   4865510  MEDICINA  LICENCIADO        UNIVERSIDAD   \n",
              "freq                 31546         1      4042       19157              40603   \n",
              "\n",
              "                                              institucion   sexo  \n",
              "count                                               56405  56405  \n",
              "unique                                                191      2  \n",
              "top     UNIVERSIDAD CATOLICA NUESTRA SENORA DE LA ASUN...  MUJER  \n",
              "freq                                                 4143  37441  "
            ],
            "text/html": [
              "\n",
              "  <div id=\"df-5ac34d2b-7847-4f36-9f8f-8c2938b20a34\">\n",
              "    <div class=\"colab-df-container\">\n",
              "      <div>\n",
              "<style scoped>\n",
              "    .dataframe tbody tr th:only-of-type {\n",
              "        vertical-align: middle;\n",
              "    }\n",
              "\n",
              "    .dataframe tbody tr th {\n",
              "        vertical-align: top;\n",
              "    }\n",
              "\n",
              "    .dataframe thead th {\n",
              "        text-align: right;\n",
              "    }\n",
              "</style>\n",
              "<table border=\"1\" class=\"dataframe\">\n",
              "  <thead>\n",
              "    <tr style=\"text-align: right;\">\n",
              "      <th></th>\n",
              "      <th>nombre_institucion</th>\n",
              "      <th>tipo_institucion_x</th>\n",
              "      <th>departamento</th>\n",
              "      <th>distrito</th>\n",
              "      <th>denominacion_carrera</th>\n",
              "      <th>denominacion_titulo</th>\n",
              "      <th>nivel_titulacion</th>\n",
              "      <th>documento</th>\n",
              "      <th>carrera</th>\n",
              "      <th>titulo</th>\n",
              "      <th>tipo_institucion_y</th>\n",
              "      <th>institucion</th>\n",
              "      <th>sexo</th>\n",
              "    </tr>\n",
              "  </thead>\n",
              "  <tbody>\n",
              "    <tr>\n",
              "      <th>count</th>\n",
              "      <td>56405</td>\n",
              "      <td>56405</td>\n",
              "      <td>56405</td>\n",
              "      <td>56405</td>\n",
              "      <td>56405</td>\n",
              "      <td>56405</td>\n",
              "      <td>56405</td>\n",
              "      <td>56405</td>\n",
              "      <td>56405</td>\n",
              "      <td>56405</td>\n",
              "      <td>56405</td>\n",
              "      <td>56405</td>\n",
              "      <td>56405</td>\n",
              "    </tr>\n",
              "    <tr>\n",
              "      <th>unique</th>\n",
              "      <td>191</td>\n",
              "      <td>5</td>\n",
              "      <td>17</td>\n",
              "      <td>83</td>\n",
              "      <td>650</td>\n",
              "      <td>218</td>\n",
              "      <td>10</td>\n",
              "      <td>56405</td>\n",
              "      <td>650</td>\n",
              "      <td>226</td>\n",
              "      <td>5</td>\n",
              "      <td>191</td>\n",
              "      <td>2</td>\n",
              "    </tr>\n",
              "    <tr>\n",
              "      <th>top</th>\n",
              "      <td>UNIVERSIDAD CATOLICA NUESTRA SENORA DE LA ASUN...</td>\n",
              "      <td>UNIVERSIDAD</td>\n",
              "      <td>CAPITAL</td>\n",
              "      <td>ASUNCION</td>\n",
              "      <td>MEDICINA</td>\n",
              "      <td>LICENCIADO</td>\n",
              "      <td>EDUCACION DE GRADO</td>\n",
              "      <td>4865510</td>\n",
              "      <td>MEDICINA</td>\n",
              "      <td>LICENCIADO</td>\n",
              "      <td>UNIVERSIDAD</td>\n",
              "      <td>UNIVERSIDAD CATOLICA NUESTRA SENORA DE LA ASUN...</td>\n",
              "      <td>MUJER</td>\n",
              "    </tr>\n",
              "    <tr>\n",
              "      <th>freq</th>\n",
              "      <td>4143</td>\n",
              "      <td>40603</td>\n",
              "      <td>13950</td>\n",
              "      <td>13899</td>\n",
              "      <td>4042</td>\n",
              "      <td>16481</td>\n",
              "      <td>31546</td>\n",
              "      <td>1</td>\n",
              "      <td>4042</td>\n",
              "      <td>19157</td>\n",
              "      <td>40603</td>\n",
              "      <td>4143</td>\n",
              "      <td>37441</td>\n",
              "    </tr>\n",
              "  </tbody>\n",
              "</table>\n",
              "</div>\n",
              "      <button class=\"colab-df-convert\" onclick=\"convertToInteractive('df-5ac34d2b-7847-4f36-9f8f-8c2938b20a34')\"\n",
              "              title=\"Convert this dataframe to an interactive table.\"\n",
              "              style=\"display:none;\">\n",
              "        \n",
              "  <svg xmlns=\"http://www.w3.org/2000/svg\" height=\"24px\"viewBox=\"0 0 24 24\"\n",
              "       width=\"24px\">\n",
              "    <path d=\"M0 0h24v24H0V0z\" fill=\"none\"/>\n",
              "    <path d=\"M18.56 5.44l.94 2.06.94-2.06 2.06-.94-2.06-.94-.94-2.06-.94 2.06-2.06.94zm-11 1L8.5 8.5l.94-2.06 2.06-.94-2.06-.94L8.5 2.5l-.94 2.06-2.06.94zm10 10l.94 2.06.94-2.06 2.06-.94-2.06-.94-.94-2.06-.94 2.06-2.06.94z\"/><path d=\"M17.41 7.96l-1.37-1.37c-.4-.4-.92-.59-1.43-.59-.52 0-1.04.2-1.43.59L10.3 9.45l-7.72 7.72c-.78.78-.78 2.05 0 2.83L4 21.41c.39.39.9.59 1.41.59.51 0 1.02-.2 1.41-.59l7.78-7.78 2.81-2.81c.8-.78.8-2.07 0-2.86zM5.41 20L4 18.59l7.72-7.72 1.47 1.35L5.41 20z\"/>\n",
              "  </svg>\n",
              "      </button>\n",
              "      \n",
              "  <style>\n",
              "    .colab-df-container {\n",
              "      display:flex;\n",
              "      flex-wrap:wrap;\n",
              "      gap: 12px;\n",
              "    }\n",
              "\n",
              "    .colab-df-convert {\n",
              "      background-color: #E8F0FE;\n",
              "      border: none;\n",
              "      border-radius: 50%;\n",
              "      cursor: pointer;\n",
              "      display: none;\n",
              "      fill: #1967D2;\n",
              "      height: 32px;\n",
              "      padding: 0 0 0 0;\n",
              "      width: 32px;\n",
              "    }\n",
              "\n",
              "    .colab-df-convert:hover {\n",
              "      background-color: #E2EBFA;\n",
              "      box-shadow: 0px 1px 2px rgba(60, 64, 67, 0.3), 0px 1px 3px 1px rgba(60, 64, 67, 0.15);\n",
              "      fill: #174EA6;\n",
              "    }\n",
              "\n",
              "    [theme=dark] .colab-df-convert {\n",
              "      background-color: #3B4455;\n",
              "      fill: #D2E3FC;\n",
              "    }\n",
              "\n",
              "    [theme=dark] .colab-df-convert:hover {\n",
              "      background-color: #434B5C;\n",
              "      box-shadow: 0px 1px 3px 1px rgba(0, 0, 0, 0.15);\n",
              "      filter: drop-shadow(0px 1px 2px rgba(0, 0, 0, 0.3));\n",
              "      fill: #FFFFFF;\n",
              "    }\n",
              "  </style>\n",
              "\n",
              "      <script>\n",
              "        const buttonEl =\n",
              "          document.querySelector('#df-5ac34d2b-7847-4f36-9f8f-8c2938b20a34 button.colab-df-convert');\n",
              "        buttonEl.style.display =\n",
              "          google.colab.kernel.accessAllowed ? 'block' : 'none';\n",
              "\n",
              "        async function convertToInteractive(key) {\n",
              "          const element = document.querySelector('#df-5ac34d2b-7847-4f36-9f8f-8c2938b20a34');\n",
              "          const dataTable =\n",
              "            await google.colab.kernel.invokeFunction('convertToInteractive',\n",
              "                                                     [key], {});\n",
              "          if (!dataTable) return;\n",
              "\n",
              "          const docLinkHtml = 'Like what you see? Visit the ' +\n",
              "            '<a target=\"_blank\" href=https://colab.research.google.com/notebooks/data_table.ipynb>data table notebook</a>'\n",
              "            + ' to learn more about interactive tables.';\n",
              "          element.innerHTML = '';\n",
              "          dataTable['output_type'] = 'display_data';\n",
              "          await google.colab.output.renderOutput(dataTable, element);\n",
              "          const docLink = document.createElement('div');\n",
              "          docLink.innerHTML = docLinkHtml;\n",
              "          element.appendChild(docLink);\n",
              "        }\n",
              "      </script>\n",
              "    </div>\n",
              "  </div>\n",
              "  "
            ]
          },
          "metadata": {},
          "execution_count": 47
        }
      ]
    },
    {
      "cell_type": "code",
      "source": [
        "#Filtrado por universidad top\n",
        "df3[df3['nombre_institucion']=='UNIVERSIDAD CATOLICA NUESTRA SENORA DE LA ASUNCION'].head()"
      ],
      "metadata": {
        "colab": {
          "base_uri": "https://localhost:8080/",
          "height": 617
        },
        "id": "y__Z1I4k_nGb",
        "outputId": "e5db3b21-5c98-481d-c277-688f4a72f1b2"
      },
      "execution_count": 48,
      "outputs": [
        {
          "output_type": "execute_result",
          "data": {
            "text/plain": [
              "                                    nombre_institucion tipo_institucion_x  \\\n",
              "168  UNIVERSIDAD CATOLICA NUESTRA SENORA DE LA ASUN...        UNIVERSIDAD   \n",
              "172  UNIVERSIDAD CATOLICA NUESTRA SENORA DE LA ASUN...        UNIVERSIDAD   \n",
              "242  UNIVERSIDAD CATOLICA NUESTRA SENORA DE LA ASUN...        UNIVERSIDAD   \n",
              "287  UNIVERSIDAD CATOLICA NUESTRA SENORA DE LA ASUN...        UNIVERSIDAD   \n",
              "339  UNIVERSIDAD CATOLICA NUESTRA SENORA DE LA ASUN...        UNIVERSIDAD   \n",
              "\n",
              "    departamento     distrito denominacion_carrera denominacion_titulo  \\\n",
              "168       GUAIRA   VILLARRICA             MEDICINA     MEDICO CIRUJANO   \n",
              "172       GUAIRA   VILLARRICA             MEDICINA     MEDICO CIRUJANO   \n",
              "242       GUAIRA   VILLARRICA             MEDICINA     MEDICO CIRUJANO   \n",
              "287       GUAIRA   VILLARRICA             MEDICINA     MEDICO CIRUJANO   \n",
              "339       ITAPUA  ENCARNACION           ENFERMERIA          LICENCIADO   \n",
              "\n",
              "       nivel_titulacion documento     carrera           titulo  \\\n",
              "168  EDUCACION DE GRADO   4896764    MEDICINA  MEDICO CIRUJANO   \n",
              "172  EDUCACION DE GRADO   4895680    MEDICINA  MEDICO CIRUJANO   \n",
              "242  EDUCACION DE GRADO   4906150    MEDICINA  MEDICO CIRUJANO   \n",
              "287  EDUCACION DE GRADO   4911775    MEDICINA  MEDICO CIRUJANO   \n",
              "339  EDUCACION DE GRADO   4901999  ENFERMERIA       LICENCIADO   \n",
              "\n",
              "    tipo_institucion_y                                        institucion  \\\n",
              "168        UNIVERSIDAD  UNIVERSIDAD CATOLICA NUESTRA SENORA DE LA ASUN...   \n",
              "172        UNIVERSIDAD  UNIVERSIDAD CATOLICA NUESTRA SENORA DE LA ASUN...   \n",
              "242        UNIVERSIDAD  UNIVERSIDAD CATOLICA NUESTRA SENORA DE LA ASUN...   \n",
              "287        UNIVERSIDAD  UNIVERSIDAD CATOLICA NUESTRA SENORA DE LA ASUN...   \n",
              "339        UNIVERSIDAD  UNIVERSIDAD CATOLICA NUESTRA SENORA DE LA ASUN...   \n",
              "\n",
              "       sexo  \n",
              "168   MUJER  \n",
              "172  HOMBRE  \n",
              "242   MUJER  \n",
              "287   MUJER  \n",
              "339   MUJER  "
            ],
            "text/html": [
              "\n",
              "  <div id=\"df-7a4964f7-cf14-4b4b-8e98-fe7d8370ee32\">\n",
              "    <div class=\"colab-df-container\">\n",
              "      <div>\n",
              "<style scoped>\n",
              "    .dataframe tbody tr th:only-of-type {\n",
              "        vertical-align: middle;\n",
              "    }\n",
              "\n",
              "    .dataframe tbody tr th {\n",
              "        vertical-align: top;\n",
              "    }\n",
              "\n",
              "    .dataframe thead th {\n",
              "        text-align: right;\n",
              "    }\n",
              "</style>\n",
              "<table border=\"1\" class=\"dataframe\">\n",
              "  <thead>\n",
              "    <tr style=\"text-align: right;\">\n",
              "      <th></th>\n",
              "      <th>nombre_institucion</th>\n",
              "      <th>tipo_institucion_x</th>\n",
              "      <th>departamento</th>\n",
              "      <th>distrito</th>\n",
              "      <th>denominacion_carrera</th>\n",
              "      <th>denominacion_titulo</th>\n",
              "      <th>nivel_titulacion</th>\n",
              "      <th>documento</th>\n",
              "      <th>carrera</th>\n",
              "      <th>titulo</th>\n",
              "      <th>tipo_institucion_y</th>\n",
              "      <th>institucion</th>\n",
              "      <th>sexo</th>\n",
              "    </tr>\n",
              "  </thead>\n",
              "  <tbody>\n",
              "    <tr>\n",
              "      <th>168</th>\n",
              "      <td>UNIVERSIDAD CATOLICA NUESTRA SENORA DE LA ASUN...</td>\n",
              "      <td>UNIVERSIDAD</td>\n",
              "      <td>GUAIRA</td>\n",
              "      <td>VILLARRICA</td>\n",
              "      <td>MEDICINA</td>\n",
              "      <td>MEDICO CIRUJANO</td>\n",
              "      <td>EDUCACION DE GRADO</td>\n",
              "      <td>4896764</td>\n",
              "      <td>MEDICINA</td>\n",
              "      <td>MEDICO CIRUJANO</td>\n",
              "      <td>UNIVERSIDAD</td>\n",
              "      <td>UNIVERSIDAD CATOLICA NUESTRA SENORA DE LA ASUN...</td>\n",
              "      <td>MUJER</td>\n",
              "    </tr>\n",
              "    <tr>\n",
              "      <th>172</th>\n",
              "      <td>UNIVERSIDAD CATOLICA NUESTRA SENORA DE LA ASUN...</td>\n",
              "      <td>UNIVERSIDAD</td>\n",
              "      <td>GUAIRA</td>\n",
              "      <td>VILLARRICA</td>\n",
              "      <td>MEDICINA</td>\n",
              "      <td>MEDICO CIRUJANO</td>\n",
              "      <td>EDUCACION DE GRADO</td>\n",
              "      <td>4895680</td>\n",
              "      <td>MEDICINA</td>\n",
              "      <td>MEDICO CIRUJANO</td>\n",
              "      <td>UNIVERSIDAD</td>\n",
              "      <td>UNIVERSIDAD CATOLICA NUESTRA SENORA DE LA ASUN...</td>\n",
              "      <td>HOMBRE</td>\n",
              "    </tr>\n",
              "    <tr>\n",
              "      <th>242</th>\n",
              "      <td>UNIVERSIDAD CATOLICA NUESTRA SENORA DE LA ASUN...</td>\n",
              "      <td>UNIVERSIDAD</td>\n",
              "      <td>GUAIRA</td>\n",
              "      <td>VILLARRICA</td>\n",
              "      <td>MEDICINA</td>\n",
              "      <td>MEDICO CIRUJANO</td>\n",
              "      <td>EDUCACION DE GRADO</td>\n",
              "      <td>4906150</td>\n",
              "      <td>MEDICINA</td>\n",
              "      <td>MEDICO CIRUJANO</td>\n",
              "      <td>UNIVERSIDAD</td>\n",
              "      <td>UNIVERSIDAD CATOLICA NUESTRA SENORA DE LA ASUN...</td>\n",
              "      <td>MUJER</td>\n",
              "    </tr>\n",
              "    <tr>\n",
              "      <th>287</th>\n",
              "      <td>UNIVERSIDAD CATOLICA NUESTRA SENORA DE LA ASUN...</td>\n",
              "      <td>UNIVERSIDAD</td>\n",
              "      <td>GUAIRA</td>\n",
              "      <td>VILLARRICA</td>\n",
              "      <td>MEDICINA</td>\n",
              "      <td>MEDICO CIRUJANO</td>\n",
              "      <td>EDUCACION DE GRADO</td>\n",
              "      <td>4911775</td>\n",
              "      <td>MEDICINA</td>\n",
              "      <td>MEDICO CIRUJANO</td>\n",
              "      <td>UNIVERSIDAD</td>\n",
              "      <td>UNIVERSIDAD CATOLICA NUESTRA SENORA DE LA ASUN...</td>\n",
              "      <td>MUJER</td>\n",
              "    </tr>\n",
              "    <tr>\n",
              "      <th>339</th>\n",
              "      <td>UNIVERSIDAD CATOLICA NUESTRA SENORA DE LA ASUN...</td>\n",
              "      <td>UNIVERSIDAD</td>\n",
              "      <td>ITAPUA</td>\n",
              "      <td>ENCARNACION</td>\n",
              "      <td>ENFERMERIA</td>\n",
              "      <td>LICENCIADO</td>\n",
              "      <td>EDUCACION DE GRADO</td>\n",
              "      <td>4901999</td>\n",
              "      <td>ENFERMERIA</td>\n",
              "      <td>LICENCIADO</td>\n",
              "      <td>UNIVERSIDAD</td>\n",
              "      <td>UNIVERSIDAD CATOLICA NUESTRA SENORA DE LA ASUN...</td>\n",
              "      <td>MUJER</td>\n",
              "    </tr>\n",
              "  </tbody>\n",
              "</table>\n",
              "</div>\n",
              "      <button class=\"colab-df-convert\" onclick=\"convertToInteractive('df-7a4964f7-cf14-4b4b-8e98-fe7d8370ee32')\"\n",
              "              title=\"Convert this dataframe to an interactive table.\"\n",
              "              style=\"display:none;\">\n",
              "        \n",
              "  <svg xmlns=\"http://www.w3.org/2000/svg\" height=\"24px\"viewBox=\"0 0 24 24\"\n",
              "       width=\"24px\">\n",
              "    <path d=\"M0 0h24v24H0V0z\" fill=\"none\"/>\n",
              "    <path d=\"M18.56 5.44l.94 2.06.94-2.06 2.06-.94-2.06-.94-.94-2.06-.94 2.06-2.06.94zm-11 1L8.5 8.5l.94-2.06 2.06-.94-2.06-.94L8.5 2.5l-.94 2.06-2.06.94zm10 10l.94 2.06.94-2.06 2.06-.94-2.06-.94-.94-2.06-.94 2.06-2.06.94z\"/><path d=\"M17.41 7.96l-1.37-1.37c-.4-.4-.92-.59-1.43-.59-.52 0-1.04.2-1.43.59L10.3 9.45l-7.72 7.72c-.78.78-.78 2.05 0 2.83L4 21.41c.39.39.9.59 1.41.59.51 0 1.02-.2 1.41-.59l7.78-7.78 2.81-2.81c.8-.78.8-2.07 0-2.86zM5.41 20L4 18.59l7.72-7.72 1.47 1.35L5.41 20z\"/>\n",
              "  </svg>\n",
              "      </button>\n",
              "      \n",
              "  <style>\n",
              "    .colab-df-container {\n",
              "      display:flex;\n",
              "      flex-wrap:wrap;\n",
              "      gap: 12px;\n",
              "    }\n",
              "\n",
              "    .colab-df-convert {\n",
              "      background-color: #E8F0FE;\n",
              "      border: none;\n",
              "      border-radius: 50%;\n",
              "      cursor: pointer;\n",
              "      display: none;\n",
              "      fill: #1967D2;\n",
              "      height: 32px;\n",
              "      padding: 0 0 0 0;\n",
              "      width: 32px;\n",
              "    }\n",
              "\n",
              "    .colab-df-convert:hover {\n",
              "      background-color: #E2EBFA;\n",
              "      box-shadow: 0px 1px 2px rgba(60, 64, 67, 0.3), 0px 1px 3px 1px rgba(60, 64, 67, 0.15);\n",
              "      fill: #174EA6;\n",
              "    }\n",
              "\n",
              "    [theme=dark] .colab-df-convert {\n",
              "      background-color: #3B4455;\n",
              "      fill: #D2E3FC;\n",
              "    }\n",
              "\n",
              "    [theme=dark] .colab-df-convert:hover {\n",
              "      background-color: #434B5C;\n",
              "      box-shadow: 0px 1px 3px 1px rgba(0, 0, 0, 0.15);\n",
              "      filter: drop-shadow(0px 1px 2px rgba(0, 0, 0, 0.3));\n",
              "      fill: #FFFFFF;\n",
              "    }\n",
              "  </style>\n",
              "\n",
              "      <script>\n",
              "        const buttonEl =\n",
              "          document.querySelector('#df-7a4964f7-cf14-4b4b-8e98-fe7d8370ee32 button.colab-df-convert');\n",
              "        buttonEl.style.display =\n",
              "          google.colab.kernel.accessAllowed ? 'block' : 'none';\n",
              "\n",
              "        async function convertToInteractive(key) {\n",
              "          const element = document.querySelector('#df-7a4964f7-cf14-4b4b-8e98-fe7d8370ee32');\n",
              "          const dataTable =\n",
              "            await google.colab.kernel.invokeFunction('convertToInteractive',\n",
              "                                                     [key], {});\n",
              "          if (!dataTable) return;\n",
              "\n",
              "          const docLinkHtml = 'Like what you see? Visit the ' +\n",
              "            '<a target=\"_blank\" href=https://colab.research.google.com/notebooks/data_table.ipynb>data table notebook</a>'\n",
              "            + ' to learn more about interactive tables.';\n",
              "          element.innerHTML = '';\n",
              "          dataTable['output_type'] = 'display_data';\n",
              "          await google.colab.output.renderOutput(dataTable, element);\n",
              "          const docLink = document.createElement('div');\n",
              "          docLink.innerHTML = docLinkHtml;\n",
              "          element.appendChild(docLink);\n",
              "        }\n",
              "      </script>\n",
              "    </div>\n",
              "  </div>\n",
              "  "
            ]
          },
          "metadata": {},
          "execution_count": 48
        }
      ]
    },
    {
      "cell_type": "code",
      "source": [
        "unique_instituciones = df3['institucion'].unique()\n",
        "print('Primeros valores únicos de las instituciones:')\n",
        "print(unique_instituciones[:5])\n",
        "\n",
        "unique_carrera = df3['carrera'].unique()\n",
        "print('Primeros valores únicos de las carreras:')\n",
        "print(unique_carrera[:5])\n",
        "\n",
        "print('Genero: ', df3['sexo'].unique())"
      ],
      "metadata": {
        "colab": {
          "base_uri": "https://localhost:8080/"
        },
        "id": "EnadOI5qIZKn",
        "outputId": "66adf81f-861b-4e97-fc92-c3e7c6279126"
      },
      "execution_count": 49,
      "outputs": [
        {
          "output_type": "stream",
          "name": "stdout",
          "text": [
            "Primeros valores únicos de las instituciones:\n",
            "['UNIVERSIDAD DEL NORTE' 'UNIVERSIDAD AMERICANA'\n",
            " 'UNIVERSIDAD NACIONAL DE PILAR'\n",
            " 'UNIVERSIDAD INTERNACIONAL TRES FRONTERAS'\n",
            " 'UNIVERSIDAD DE DESARROLLO SUSTENTABLE']\n",
            "Primeros valores únicos de las carreras:\n",
            "['ADMINISTRACION DE EMPRESAS' 'COMERCIO INTERNACIONAL'\n",
            " 'PSICOLOGIA LABORAL' 'ODONTOLOGIA Y CIRUGIA'\n",
            " 'CONTADURIA PUBLICA NACIONAL']\n",
            "Genero:  ['MUJER' 'HOMBRE']\n"
          ]
        }
      ]
    },
    {
      "cell_type": "code",
      "source": [
        "#Carreras con más egresados\n",
        "top_carreras = df3['carrera'].value_counts().head(5)\n",
        "x = top_carreras.index\n",
        "y = top_carreras.values\n",
        "\n",
        "plt.bar(x, y)\n",
        "\n",
        "plt.xlabel('Carrera')\n",
        "plt.ylabel('Cantidad')\n",
        "plt.title('Top 5 carreras con más egresados')\n",
        "\n",
        "plt.xticks(rotation=45)\n",
        "\n",
        "plt.show()"
      ],
      "metadata": {
        "colab": {
          "base_uri": "https://localhost:8080/",
          "height": 627
        },
        "id": "kb2By5VN_ny0",
        "outputId": "ea5c82de-92c8-4476-f671-02c4286158da"
      },
      "execution_count": 50,
      "outputs": [
        {
          "output_type": "display_data",
          "data": {
            "text/plain": [
              "<Figure size 640x480 with 1 Axes>"
            ],
            "image/png": "[encoded data removed]"
          },
          "metadata": {}
        }
      ]
    },
    {
      "cell_type": "code",
      "source": [
        "conteo_carreras = df3['carrera'].value_counts()\n",
        "\n",
        "carreras_menos_egresados = conteo_carreras.sort_values().head(5)\n",
        "\n",
        "print(\"Carreras con menos egresados:\")\n",
        "print(carreras_menos_egresados)"
      ],
      "metadata": {
        "colab": {
          "base_uri": "https://localhost:8080/"
        },
        "id": "3NM7cjb3ojMK",
        "outputId": "2034e90c-695e-4aba-9f27-73d034c64885"
      },
      "execution_count": 81,
      "outputs": [
        {
          "output_type": "stream",
          "name": "stdout",
          "text": [
            "Carreras con menos egresados:\n",
            "CIENCIAS DE LA INVESTIGACION CIENTIFICA                                         1\n",
            "POLITICAS SOCIALES Y DERECHOS HUMANOS DE LA NINEZ Y ADOLESCENCIA EN PARAGUAY    1\n",
            "TECNOLOGIA DE LA PRODUCCION APLICADA A LOS ALIMENTOS                            1\n",
            "EDUCACION PARVULARIA Y 1ER. CICLO EDUCACION ESCOLAR BASICA                      1\n",
            "HIDROGEOLOGIA                                                                   1\n",
            "Name: carrera, dtype: int64\n"
          ]
        }
      ]
    },
    {
      "cell_type": "code",
      "source": [
        "total_registros = len(df3)\n",
        "porcentaje_hombres = (df3['sexo'] == 'HOMBRE').sum() / total_registros * 100\n",
        "porcentaje_mujeres = (df3['sexo'] == 'MUJER').sum() / total_registros * 100\n",
        "\n",
        "porcentajes = [porcentaje_hombres, porcentaje_mujeres]\n",
        "etiquetas = ['Hombres', 'Mujeres']\n",
        "\n",
        "plt.pie(porcentajes, labels=etiquetas, autopct='%1.1f%%')\n",
        "\n",
        "plt.title('Porcentaje de hombres y Mujeres')\n",
        "\n",
        "plt.show()"
      ],
      "metadata": {
        "colab": {
          "base_uri": "https://localhost:8080/",
          "height": 428
        },
        "id": "MO5zlN8jQJCl",
        "outputId": "fb6aaa35-9017-4022-b7ed-828f71ce884d"
      },
      "execution_count": 52,
      "outputs": [
        {
          "output_type": "display_data",
          "data": {
            "text/plain": [
              "<Figure size 640x480 with 1 Axes>"
            ],
            "image/png": "[encoded data removed]"
          },
          "metadata": {}
        }
      ]
    },
    {
      "cell_type": "markdown",
      "source": [
        "## Análisis descriptivo e inferencial"
      ],
      "metadata": {
        "id": "eZibqOjTNlmZ"
      }
    },
    {
      "cell_type": "code",
      "source": [
        "cantidad_carreras = len(df3['carrera'].unique())\n",
        "print(\"Cantidad de carreras:\", cantidad_carreras)\n",
        "\n",
        "moda_carreras = df3['carrera'].mode()\n",
        "print(\"Moda de las carreras:\", moda_carreras)"
      ],
      "metadata": {
        "colab": {
          "base_uri": "https://localhost:8080/"
        },
        "id": "P67uym6mKGYo",
        "outputId": "cdf70dc7-9d8f-4a56-cd37-3b189808e281"
      },
      "execution_count": 53,
      "outputs": [
        {
          "output_type": "stream",
          "name": "stdout",
          "text": [
            "Cantidad de carreras: 650\n",
            "Moda de las carreras: 0    MEDICINA\n",
            "Name: carrera, dtype: object\n"
          ]
        }
      ]
    },
    {
      "cell_type": "markdown",
      "source": [
        "Hay 652 carreras, de las cuales Medicina es la que cuenta con más egresados"
      ],
      "metadata": {
        "id": "3fbU_NnIhIEn"
      }
    },
    {
      "cell_type": "code",
      "source": [
        "cantidad_instituciones = len(df3['institucion'].unique())\n",
        "print(\"Cantidad de instituciones:\", cantidad_instituciones)\n",
        "\n",
        "moda_instituciones = df3['institucion'].mode()\n",
        "print(\"Moda de las instituciones:\", moda_instituciones)"
      ],
      "metadata": {
        "colab": {
          "base_uri": "https://localhost:8080/"
        },
        "id": "Ya_V4UgCL7kB",
        "outputId": "86059fc5-9bc9-4939-cf67-3b2986896d4a"
      },
      "execution_count": 54,
      "outputs": [
        {
          "output_type": "stream",
          "name": "stdout",
          "text": [
            "Cantidad de instituciones: 191\n",
            "Moda de las instituciones: 0    UNIVERSIDAD CATOLICA NUESTRA SENORA DE LA ASUN...\n",
            "Name: institucion, dtype: object\n"
          ]
        }
      ]
    },
    {
      "cell_type": "markdown",
      "source": [
        "De las 202 instituciones, Universidad Catolica de Asuncion es la que cuenta con más egresados. (La base no cuenta con la Universidad Nacional)"
      ],
      "metadata": {
        "id": "VRbLraXChUIj"
      }
    },
    {
      "cell_type": "code",
      "source": [
        "cantidad_distritos = len(df3['distrito'].unique())\n",
        "print(\"Cantidad de distritos:\", cantidad_distritos)\n",
        "\n",
        "moda_distritos = df3['distrito'].mode()\n",
        "print(\"Moda de los distritos:\", moda_distritos)"
      ],
      "metadata": {
        "colab": {
          "base_uri": "https://localhost:8080/"
        },
        "id": "H4jKZnUPNVWf",
        "outputId": "a9bd01a7-a105-49b2-deaa-ff09605e2cc2"
      },
      "execution_count": 55,
      "outputs": [
        {
          "output_type": "stream",
          "name": "stdout",
          "text": [
            "Cantidad de distritos: 83\n",
            "Moda de los distritos: 0    ASUNCION\n",
            "Name: distrito, dtype: object\n"
          ]
        }
      ]
    },
    {
      "cell_type": "markdown",
      "source": [
        "De los 85 distritos, Asunción es el distrito que cuenta con más egresados"
      ],
      "metadata": {
        "id": "4xraq-ywhhoH"
      }
    },
    {
      "cell_type": "code",
      "source": [
        "cantidad_medicina = df3[(df3['carrera'] == 'MEDICINA') & (df3['nombre_institucion'] == 'UNIVERSIDAD CATOLICA NUESTRA SENORA DE LA ASUNCION')].shape[0]\n",
        "\n",
        "print(\"Cantidad de personas que egresaron en medicina en la Universidad Católica de Nuestra Señora de la Asunción:\")\n",
        "print(cantidad_medicina)"
      ],
      "metadata": {
        "colab": {
          "base_uri": "https://localhost:8080/"
        },
        "id": "U0NOM7khkJ4n",
        "outputId": "8503e11d-eeb3-4281-b730-f17d0ce2d084"
      },
      "execution_count": 56,
      "outputs": [
        {
          "output_type": "stream",
          "name": "stdout",
          "text": [
            "Cantidad de personas que egresaron en medicina en la Universidad Católica de Nuestra Señora de la Asunción:\n",
            "480\n"
          ]
        }
      ]
    },
    {
      "cell_type": "code",
      "source": [
        "top_10_carreras = df3[df3['institucion'] == 'UNIVERSIDAD CATOLICA NUESTRA SENORA DE LA ASUNCION']['carrera'].value_counts().head(10)\n",
        "\n",
        "print(\"Las 10 carreras con más egresados en la Universidad Católica de Nuestra Señora de la Asunción:\")\n",
        "print(top_10_carreras)"
      ],
      "metadata": {
        "colab": {
          "base_uri": "https://localhost:8080/"
        },
        "id": "HJ3PpJTPlWcv",
        "outputId": "24b27f11-0c64-4dfa-8c2f-798b4fe4f45f"
      },
      "execution_count": 57,
      "outputs": [
        {
          "output_type": "stream",
          "name": "stdout",
          "text": [
            "Las 10 carreras con más egresados en la Universidad Católica de Nuestra Señora de la Asunción:\n",
            "MEDICINA                               480\n",
            "ADMINISTRACION DE EMPRESAS             401\n",
            "CONTADOR PUBLICO NACIONAL              247\n",
            "DERECHO                                242\n",
            "INGENIERIA AGRONOMICA                  163\n",
            "ENFERMERIA                             133\n",
            "ARQUITECTURA                           125\n",
            "PROFESORADO EN EDUCACION PARVULARIA    124\n",
            "DOCENCIA EN EDUCACION SUPERIOR         121\n",
            "COMERCIO INTERNACIONAL                 110\n",
            "Name: carrera, dtype: int64\n"
          ]
        }
      ]
    },
    {
      "cell_type": "code",
      "source": [
        "egresados_ucnsa_asuncion = df3[(df3['institucion'] == 'UNIVERSIDAD CATOLICA NUESTRA SENORA DE LA ASUNCION') & (df3['distrito'] == 'ASUNCION')]\n",
        "\n",
        "total_egresados = len(egresados_ucnsa_asuncion)\n",
        "total_hombres = len(egresados_ucnsa_asuncion[egresados_ucnsa_asuncion['sexo'] == 'HOMBRE'])\n",
        "total_mujeres = len(egresados_ucnsa_asuncion[egresados_ucnsa_asuncion['sexo'] == 'MUJER'])\n",
        "\n",
        "print(\"Cantidad total de egresados en la Universidad Católica Nuestra Señora de la Asunción:\", total_egresados)\n",
        "print(\"Cantidad de hombres egresados:\", total_hombres)\n",
        "print(\"Cantidad de mujeres egresadas:\", total_mujeres)"
      ],
      "metadata": {
        "colab": {
          "base_uri": "https://localhost:8080/"
        },
        "id": "Mc2KZM5amE4d",
        "outputId": "36e2ff35-387f-4332-9095-854dea4b9702"
      },
      "execution_count": 58,
      "outputs": [
        {
          "output_type": "stream",
          "name": "stdout",
          "text": [
            "Cantidad total de egresados en la Universidad Católica Nuestra Señora de la Asunción: 694\n",
            "Cantidad de hombres egresados: 302\n",
            "Cantidad de mujeres egresadas: 392\n"
          ]
        }
      ]
    },
    {
      "cell_type": "code",
      "source": [
        "grupo = df3.groupby(['carrera', 'sexo']).size().reset_index(name='count')\n",
        "\n",
        "idx = grupo.groupby(['carrera'])['count'].transform(max) == grupo['count']\n",
        "sexo_concurrido = grupo[idx]\n",
        "\n",
        "sexo_concurrido = sexo_concurrido.sort_values(by='count', ascending=False)\n",
        "\n",
        "sexo_concurrido_mujeres = sexo_concurrido[sexo_concurrido['sexo'] == 'MUJER']\n",
        "print(sexo_concurrido_mujeres)\n"
      ],
      "metadata": {
        "colab": {
          "base_uri": "https://localhost:8080/"
        },
        "id": "hveC43MGPCAv",
        "outputId": "0c39f069-19ec-4a89-8d5a-a27ef5b4b4b5"
      },
      "execution_count": 59,
      "outputs": [
        {
          "output_type": "stream",
          "name": "stdout",
          "text": [
            "                                               carrera   sexo  count\n",
            "809                                           MEDICINA  MUJER   2508\n",
            "479                                         ENFERMERIA  MUJER   2459\n",
            "189                           CIENCIAS DE LA EDUCACION  MUJER   2298\n",
            "292                                            DERECHO  MUJER   1493\n",
            "352                            DIDACTICA UNIVERSITARIA  MUJER   1386\n",
            "..                                                 ...    ...    ...\n",
            "457  ELABORACION Y EVALUACION DE PROYECTOS DE INVER...  MUJER      1\n",
            "877                  NUTRICION CLINICA Y SALUD PUBLICA  MUJER      1\n",
            "450  EDUCACION PARVULARIA Y 1ER. CICLO EDUCACION ES...  MUJER      1\n",
            "422                 EDUCACION E INTELIGENCIA EMOCIONAL  MUJER      1\n",
            "909                               PASTORAL CATEQUETICA  MUJER      1\n",
            "\n",
            "[477 rows x 3 columns]\n"
          ]
        }
      ]
    },
    {
      "cell_type": "code",
      "source": [
        "carreras_interes = ['MEDICINA', 'ENFERMERIA', 'CIENCIAS DE LA EDUCACION']\n",
        "filtro = df3['carrera'].isin(carreras_interes)\n",
        "conteo_hombres_por_carrera = df3[filtro].loc[df3['sexo'] == 'HOMBRE', 'carrera'].value_counts()\n",
        "\n",
        "print(\"Cantidad de hombres por carrera:\")\n",
        "print(conteo_hombres_por_carrera)"
      ],
      "metadata": {
        "colab": {
          "base_uri": "https://localhost:8080/"
        },
        "id": "GcWIXjFeimsJ",
        "outputId": "eb389612-315a-4413-fa29-1dfd023fa32f"
      },
      "execution_count": 60,
      "outputs": [
        {
          "output_type": "stream",
          "name": "stdout",
          "text": [
            "Cantidad de hombres por carrera:\n",
            "MEDICINA                    1534\n",
            "CIENCIAS DE LA EDUCACION     769\n",
            "ENFERMERIA                   663\n",
            "Name: carrera, dtype: int64\n"
          ]
        }
      ]
    },
    {
      "cell_type": "markdown",
      "source": [
        "Podemos ver que en la carrera de enfermeria y ciencias de la educación hay una diferencia muy grande entre hombres y mujeres, pero en cuanto a Medicina no hay una diferencia tan grande con 1534 hombres y 2508 mujeres."
      ],
      "metadata": {
        "id": "1GI3TDCge3lO"
      }
    },
    {
      "cell_type": "code",
      "source": [
        "grupo = df3.groupby(['carrera', 'sexo']).size().reset_index(name='count')\n",
        "\n",
        "idx = grupo.groupby(['carrera'])['count'].transform(max) == grupo['count']\n",
        "sexo_concurrido = grupo[idx]\n",
        "\n",
        "sexo_concurrido = sexo_concurrido.sort_values(by='count', ascending=False)\n",
        "\n",
        "sexo_concurrido_hombres = sexo_concurrido[sexo_concurrido['sexo'] == 'HOMBRE']\n",
        "print(sexo_concurrido_hombres)"
      ],
      "metadata": {
        "colab": {
          "base_uri": "https://localhost:8080/"
        },
        "id": "dM5YLNqUP323",
        "outputId": "91419b57-ee0b-4fda-8a43-a9241e0ecd10"
      },
      "execution_count": 61,
      "outputs": [
        {
          "output_type": "stream",
          "name": "stdout",
          "text": [
            "                                  carrera    sexo  count\n",
            "668                 INGENIERIA AGRONOMICA  HOMBRE    484\n",
            "219                   CIENCIAS POLICIALES  HOMBRE    391\n",
            "211                    CIENCIAS MILITARES  HOMBRE    310\n",
            "79                              AGRONOMIA  HOMBRE    261\n",
            "620      GESTION Y ASESORAMIENTO POLICIAL  HOMBRE    172\n",
            "..                                    ...     ...    ...\n",
            "906    ORTOPEDIA Y TRAUMATOLOGIA INFANTIL  HOMBRE      1\n",
            "907                  OTORRINOLARINGOLOGIA  HOMBRE      1\n",
            "908                  PASTORAL CATEQUETICA  HOMBRE      1\n",
            "697  INGENIERIA EN COMERCIO INTERNACIONAL  HOMBRE      1\n",
            "631              HABILITACION PEDAGOGICA   HOMBRE      1\n",
            "\n",
            "[208 rows x 3 columns]\n"
          ]
        }
      ]
    },
    {
      "cell_type": "code",
      "source": [
        "carreras_interes = ['INGENIERIA AGRONOMICA', 'CIENCIAS POLICIALES', 'CIENCIAS MILITARES']\n",
        "filtro = df3['carrera'].isin(carreras_interes)\n",
        "conteo_mujeres_por_carrera = df3[filtro].loc[df3['sexo'] == 'MUJER', 'carrera'].value_counts()\n",
        "\n",
        "print(\"Cantidad de mujeres por carrera:\")\n",
        "print(conteo_mujeres_por_carrera)"
      ],
      "metadata": {
        "colab": {
          "base_uri": "https://localhost:8080/"
        },
        "id": "8ZreQyutjM0x",
        "outputId": "3ae55180-e5cd-42ec-97dc-78aae0e4a831"
      },
      "execution_count": 62,
      "outputs": [
        {
          "output_type": "stream",
          "name": "stdout",
          "text": [
            "Cantidad de mujeres por carrera:\n",
            "INGENIERIA AGRONOMICA    270\n",
            "CIENCIAS POLICIALES       84\n",
            "CIENCIAS MILITARES        57\n",
            "Name: carrera, dtype: int64\n"
          ]
        }
      ]
    },
    {
      "cell_type": "markdown",
      "source": [
        "Podemos ver que en la carrera de ciencias policiales y ciencias militares hay una diferencia muy grande entre hombres y mujeres, pero en cuanto a ingenieria agronomica no hay una diferencia tan grande, ya que sigue siendo más de la mitad que los hombres."
      ],
      "metadata": {
        "id": "xWgyA_sYjRgV"
      }
    },
    {
      "cell_type": "code",
      "source": [
        "conteo_sexos = df3['sexo'].value_counts()\n",
        "conteo_sexos_df = conteo_sexos.to_frame().reset_index()\n",
        "conteo_sexos_df.columns = ['sexo', 'cantidad']\n",
        "desviacion_estandar = conteo_sexos_df['cantidad'].std()\n",
        "print(\"La desviacion estandar es:\", round(desviacion_estandar))"
      ],
      "metadata": {
        "colab": {
          "base_uri": "https://localhost:8080/"
        },
        "id": "i3VIoQfQVyhZ",
        "outputId": "1282a531-b1b1-4750-8b4a-a7f9c5e81f78"
      },
      "execution_count": 63,
      "outputs": [
        {
          "output_type": "stream",
          "name": "stdout",
          "text": [
            "La desviacion estandar es: 13065\n"
          ]
        }
      ]
    },
    {
      "cell_type": "code",
      "source": [],
      "metadata": {
        "id": "Gs5nDRsQs2_q"
      },
      "execution_count": null,
      "outputs": []
    },
    {
      "cell_type": "markdown",
      "source": [
        "La desviación estándar de 13065 demuestra que hay una variabilidad significativa en la distribución de los registros entre hombres y mujeres."
      ],
      "metadata": {
        "id": "GDkKR1s_fkI1"
      }
    },
    {
      "cell_type": "code",
      "source": [
        "# Obtener los datos a graficar\n",
        "distritos = df3['distrito'].value_counts().head(10)\n",
        "x = distritos.index\n",
        "y = distritos.values\n",
        "\n",
        "# Crear el gráfico de barras\n",
        "plt.bar(x, y)\n",
        "\n",
        "# Personalizar el gráfico\n",
        "plt.xlabel('Distrito')\n",
        "plt.ylabel('Cantidad de Egresados')\n",
        "plt.title('Top 10 Distritos con más egresados')\n",
        "\n",
        "# Rotar los nombres de los distritos en el eje x\n",
        "plt.xticks(rotation=45)\n",
        "\n",
        "# Mostrar el gráfico\n",
        "plt.show()"
      ],
      "metadata": {
        "colab": {
          "base_uri": "https://localhost:8080/",
          "height": 591
        },
        "id": "S5Ds-LDYSy1n",
        "outputId": "96e3fea9-24d4-4279-dcf6-31a0ccbdc890"
      },
      "execution_count": 64,
      "outputs": [
        {
          "output_type": "display_data",
          "data": {
            "text/plain": [
              "<Figure size 640x480 with 1 Axes>"
            ],
            "image/png": "[encoded data removed]"
          },
          "metadata": {}
        }
      ]
    },
    {
      "cell_type": "code",
      "source": [
        "# Obtener los datos a graficar\n",
        "distritos = df3['institucion'].value_counts().head(10)\n",
        "x = distritos.index\n",
        "y = distritos.values\n",
        "\n",
        "# Crear el gráfico de barras\n",
        "plt.barh(x, y)\n",
        "\n",
        "# Personalizar el gráfico\n",
        "plt.xlabel('Cantidad de instituciones')\n",
        "plt.ylabel('Instituciones')\n",
        "plt.title('Top 10 Instituciones con más Egresados')\n",
        "\n",
        "# Mostrar el gráfico\n",
        "plt.show()"
      ],
      "metadata": {
        "colab": {
          "base_uri": "https://localhost:8080/",
          "height": 472
        },
        "id": "_vQe4Z9CT7VQ",
        "outputId": "461d4af4-7824-4cda-a6aa-ff35c2eea5b8"
      },
      "execution_count": 65,
      "outputs": [
        {
          "output_type": "display_data",
          "data": {
            "text/plain": [
              "<Figure size 640x480 with 1 Axes>"
            ],
            "image/png": "[encoded data removed]"
          },
          "metadata": {}
        }
      ]
    },
    {
      "cell_type": "code",
      "source": [
        "top_instituciones = df3['institucion'].value_counts().head(5)\n",
        "df_top_instituciones = df3[df3['institucion'].isin(top_instituciones.index)]\n",
        "registros_por_institucion_sexo = df_top_instituciones.groupby(['institucion', 'sexo']).size().unstack()\n",
        "registros_por_institucion_sexo.plot(kind='barh', stacked=False)\n",
        "plt.xlabel('Cantidad de egresadps')\n",
        "plt.ylabel('Institucion')\n",
        "plt.title('Cantidad de registros por institución y sexo')\n",
        "plt.legend(loc='upper right')\n",
        "plt.show()"
      ],
      "metadata": {
        "colab": {
          "base_uri": "https://localhost:8080/",
          "height": 472
        },
        "id": "f7l-eqKtZY9z",
        "outputId": "3620fa20-3f07-40e2-c2bb-02e8c114c700"
      },
      "execution_count": 73,
      "outputs": [
        {
          "output_type": "display_data",
          "data": {
            "text/plain": [
              "<Figure size 640x480 with 1 Axes>"
            ],
            "image/png": "[encoded data removed]"
          },
          "metadata": {}
        }
      ]
    },
    {
      "cell_type": "code",
      "source": [
        "# Obtener los datos a graficar\n",
        "distritos = df3['nivel_titulacion'].value_counts().head(10)\n",
        "x = distritos.index\n",
        "y = distritos.values\n",
        "\n",
        "# Crear el gráfico de barras\n",
        "plt.barh(x, y)\n",
        "\n",
        "# Personalizar el gráfico\n",
        "plt.xlabel('Cantidad de titulaciones')\n",
        "plt.ylabel('Nivel de titulacion')\n",
        "plt.title('Niveles de Titulacion')\n",
        "\n",
        "# Mostrar el gráfico\n",
        "plt.show()"
      ],
      "metadata": {
        "colab": {
          "base_uri": "https://localhost:8080/",
          "height": 472
        },
        "id": "Lrjrwc5jVLD9",
        "outputId": "eeb4b37d-f116-429d-9158-c190c9191ec3"
      },
      "execution_count": 74,
      "outputs": [
        {
          "output_type": "display_data",
          "data": {
            "text/plain": [
              "<Figure size 640x480 with 1 Axes>"
            ],
            "image/png": "[encoded data removed]"
          },
          "metadata": {}
        }
      ]
    },
    {
      "cell_type": "code",
      "source": [
        "conteo_por_titulacion_sexo = df3.groupby(['nivel_titulacion', 'sexo']).size().sort_values(ascending=False)\n",
        "print(\"Cantidad de personas por nivel de titulación y sexo:\")\n",
        "print(conteo_por_titulacion_sexo)\n"
      ],
      "metadata": {
        "colab": {
          "base_uri": "https://localhost:8080/"
        },
        "id": "ohurqowcnPQv",
        "outputId": "d0152f29-5380-4a7b-f0ff-a3670078a810"
      },
      "execution_count": 68,
      "outputs": [
        {
          "output_type": "stream",
          "name": "stdout",
          "text": [
            "Cantidad de personas por nivel de titulación y sexo:\n",
            "nivel_titulacion                                                         sexo  \n",
            "EDUCACION DE GRADO                                                       MUJER     20555\n",
            "                                                                         HOMBRE    10991\n",
            "EDUCACION DE POSGRADO (ESPECIALIZACION)                                  MUJER      4845\n",
            "EDUCACION DE PRE GRADO (FORMACION DOCENTE CONTINUA EN SERVICIO)          MUJER      4592\n",
            "EDUCACION DE PRE GRADO   EDUCACION TECNICA SUPERIOR (FORMACION INICIAL)  MUJER      3319\n",
            "EDUCACION DE POSGRADO (MAESTRIA)                                         MUJER      2827\n",
            "                                                                         HOMBRE     2292\n",
            "EDUCACION DE POSGRADO (ESPECIALIZACION)                                  HOMBRE     2262\n",
            "EDUCACION DE PRE GRADO   EDUCACION TECNICA SUPERIOR (FORMACION INICIAL)  HOMBRE     1550\n",
            "EDUCACION DE PRE GRADO (FORMACION DOCENTE CONTINUA EN SERVICIO)          HOMBRE     1420\n",
            "EDUCACION DE PRE GRADO (FORMACION DOCENTE INICIAL)                       MUJER       608\n",
            "EDUCACION DE POSGRADO (DOCTORADO)                                        MUJER       326\n",
            "EDUCACION DE PRE GRADO                                                   MUJER       287\n",
            "EDUCACION DE POSGRADO (DOCTORADO)                                        HOMBRE      174\n",
            "EDUCACION DE PRE GRADO (FORMACION DOCENTE INICIAL)                       HOMBRE      168\n",
            "EDUCACION DE GRADO (POSTITULO)                                           MUJER        70\n",
            "EDUCACION DE PRE GRADO                                                   HOMBRE       63\n",
            "EDUCACION DE GRADO (POSTITULO)                                           HOMBRE       33\n",
            "EDUCACION DE PRE GRADO   EDUCACION TECNICA SUPERIOR (CAPACITACIONES)     MUJER        12\n",
            "                                                                         HOMBRE       11\n",
            "dtype: int64\n"
          ]
        }
      ]
    },
    {
      "cell_type": "code",
      "source": [
        "top_instituciones = df3['nivel_titulacion'].value_counts().head(5)\n",
        "df_top_instituciones = df3[df3['nivel_titulacion'].isin(top_instituciones.index)]\n",
        "registros_por_institucion_sexo = df_top_instituciones.groupby(['nivel_titulacion', 'sexo']).size().unstack()\n",
        "registros_por_institucion_sexo.plot(kind='barh', stacked=False)\n",
        "plt.xlabel('Cantidad')\n",
        "plt.ylabel('Nivel de titulacion')\n",
        "plt.title('Cantidad de egresados por nivel de titulacion y sexo')\n",
        "plt.legend(loc='upper right')\n",
        "plt.show()"
      ],
      "metadata": {
        "colab": {
          "base_uri": "https://localhost:8080/",
          "height": 472
        },
        "id": "KWBeVgqNlVMD",
        "outputId": "cd73ce37-2b9c-4e66-92cc-720a153b5212"
      },
      "execution_count": 82,
      "outputs": [
        {
          "output_type": "display_data",
          "data": {
            "text/plain": [
              "<Figure size 640x480 with 1 Axes>"
            ],
            "image/png": "[encoded data removed]"
          },
          "metadata": {}
        }
      ]
    },
    {
      "cell_type": "markdown",
      "source": [
        "## Conclusión"
      ],
      "metadata": {
        "id": "bjmJiSLAgFZo"
      }
    },
    {
      "cell_type": "markdown",
      "source": [
        "La base de datos trata de todos los egresados, en 2022 y comienzos de 2023, y las instituciones educativas de Paraguay. La base final cuenta con 58 mil registros de egresados relacionados con una institución educativa que puede ser universidad o instituto, distrito y con un nivel de titulación de grado, pos grado, maestría, pre grado, doctorado, etc. Al comenzar el análisis los datos totales muestran que un 66% de las mujeres egresaron mientras solo un 33% de hombres lo cual es importante para los siguientes análisis realizados. De las 652 carreras Medicina es la que cuenta con más egresados y de las 202 universidades la Universidad Catolica Nuestra Señora de la Asunción es la que más egresados tiene. Y el distrito con más egresados es Asunción cosa que no llama la atención al ser la ciudad con mayor infraestructura y la capital del país. Lo curioso es que la carrera con más egresados solo tiene 480 egresados de la Universidad con más egresados en la base.\n",
        "Las carreras de las cuales más egresaron mujeres son Medicina, Enfermería y ciencias de la educación, en cambio los hombres egresaron en Ingeniería Agronómica, Ciencias Policiales y Ciencias Militares. Al analizar estas mismas carreras pero para el otro sexo podemos ver que la diferencia es bastante grande con casi más de la mitad para todos los casos.\n",
        "Las carreras con menos egresados, tan bajo como 1 solo egresado, son hidrogeológica, políticas sociales y derechos humanos de la niñez, ciencias de la investigación científica.\n",
        "Otro punto analizado son los niveles de titulación, el doble de mujeres que hombres egresaron con una titulación de posgrado(especialización) así como también con una maestría."
      ],
      "metadata": {
        "id": "RSHuUjRkhtyu"
      }
    }
  ]
}